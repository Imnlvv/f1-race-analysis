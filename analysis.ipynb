{
 "cells": [
  {
   "cell_type": "markdown",
   "id": "684f935e",
   "metadata": {},
   "source": [
    "# Анализ данных\n",
    "                              \n",
    ">* **Имя файла:** ``Анализ датасета гонок Формулы-1 в период с 1950-2024 год.``\n",
    ">* **Автор и его учебная группа:** ``Иманалиева Патимат, Б22ДЗ09``\n",
    ">* **Дата создания:** ``19.06.2024``\n",
    ">* **Дата последней модификации:**  ``22.06.2024 ``\n",
    ">* **Связанные файлы:** ``drivers_updated.csv, teams_updated.csv``\n",
    ">* **Описание:** ``датасет по данным о набор данных о победителях гонок Формулы-1, начиная с первого сезона 1950 года и заканчивая последними доступными данными в 2024 году. Данные были взяты с базы данных Kaggle.com``\n",
    ">* **Версия Python:** ``3.6``"
   ]
  },
  {
   "cell_type": "markdown",
   "id": "154add28",
   "metadata": {},
   "source": [
    "Набор данных включает в себя полную **информацию о победителях гонок Формулы-1**, начиная *с первого сезона 1950 года и заканчивая последними доступными данными в 2024 году*.\n",
    "\n",
    "*   **Pos:** Позиция гонщика в гонке.\n",
    "*   **Driver:** Имя гонщика.\n",
    "*   **Nationality:** Национальность гонщика.\n",
    "*   **Car:** Модель автомобиля, на котором гонщик выступает.\n",
    "*   **PTS:** Количество набранных очков.\n",
    "*   **year:** Год, в котором была проведена гонка.\n",
    "*   **Code:** Код гонки."
   ]
  },
  {
   "cell_type": "markdown",
   "id": "7cd3f8db",
   "metadata": {},
   "source": [
    "## Используемые графики для визуализации данных\n",
    "\n",
    "1. Графики по максимальному количеству очков (PTS) по годам (Bar Plot)\n",
    "2. График сравнения результатов двух гонщиков разной национальности в период с 2003-2008 (Line Plot)\n",
    "3. Распределение очков по командам, набравших более 200 очков (Box Plot)\n",
    "4. Топ 10 лучших гонщиков по набранным очкам (Horizomtal Bar Plot)\n",
    "5. Уникальные национальности с количеством набранных очков более 200 (Bar Plot)\n",
    "6. Анимированный график для каждого гонщика набранных очков по годам (Bar Plot)\n",
    "7. Распределение побед среди гонщиков (Pie Chart)\n",
    "\n",
    "\n",
    "## Особенности графиков\n",
    "\n",
    "1. Использование единой цветовой гаммы для единого оформления данных из датасета\n",
    "2. Добавление заголовков, меток осей, сетки для лучшей интерпретируемости данных.\n",
    "3. Разметки графиков находятся в оптимальном диапазоне по ширине, чтобы обеспечить комфортное и удобное восприятие информации.\n",
    "4. Имеется пример анимированного графика для отслеживания динамики изменения данных в датасете.\n"
   ]
  },
  {
   "cell_type": "markdown",
   "id": "8c01dfbf",
   "metadata": {},
   "source": [
    "## Этапы работы\n",
    "\n",
    "1. Загрузка и чтение файла в формате CSV.\n",
    "2. Знакомство с датасетом.\n",
    "3. Фильтрация и сортировка данных. Группировка данных в зависимости от запроса.\n",
    "4. Визуализация данных с помощью различных типов графиков."
   ]
  },
  {
   "cell_type": "markdown",
   "id": "de22f39e",
   "metadata": {},
   "source": [
    "# Часть Первая. Чтение файла и знакомство с датасетом"
   ]
  },
  {
   "cell_type": "code",
   "execution_count": 34,
   "id": "5f570df4",
   "metadata": {},
   "outputs": [
    {
     "data": {
      "text/html": [
       "<div>\n",
       "<style scoped>\n",
       "    .dataframe tbody tr th:only-of-type {\n",
       "        vertical-align: middle;\n",
       "    }\n",
       "\n",
       "    .dataframe tbody tr th {\n",
       "        vertical-align: top;\n",
       "    }\n",
       "\n",
       "    .dataframe thead th {\n",
       "        text-align: right;\n",
       "    }\n",
       "</style>\n",
       "<table border=\"1\" class=\"dataframe\">\n",
       "  <thead>\n",
       "    <tr style=\"text-align: right;\">\n",
       "      <th></th>\n",
       "      <th>Pos</th>\n",
       "      <th>Driver</th>\n",
       "      <th>Nationality</th>\n",
       "      <th>Car</th>\n",
       "      <th>PTS</th>\n",
       "      <th>year</th>\n",
       "      <th>Code</th>\n",
       "    </tr>\n",
       "  </thead>\n",
       "  <tbody>\n",
       "    <tr>\n",
       "      <th>0</th>\n",
       "      <td>1</td>\n",
       "      <td>Nino  Farina</td>\n",
       "      <td>ITA</td>\n",
       "      <td>Alfa Romeo</td>\n",
       "      <td>30.0</td>\n",
       "      <td>1950</td>\n",
       "      <td>FAR</td>\n",
       "    </tr>\n",
       "    <tr>\n",
       "      <th>1</th>\n",
       "      <td>2</td>\n",
       "      <td>Juan Manuel  Fangio</td>\n",
       "      <td>ARG</td>\n",
       "      <td>Alfa Romeo</td>\n",
       "      <td>27.0</td>\n",
       "      <td>1950</td>\n",
       "      <td>FAN</td>\n",
       "    </tr>\n",
       "    <tr>\n",
       "      <th>2</th>\n",
       "      <td>3</td>\n",
       "      <td>Luigi  Fagioli</td>\n",
       "      <td>ITA</td>\n",
       "      <td>Alfa Romeo</td>\n",
       "      <td>24.0</td>\n",
       "      <td>1950</td>\n",
       "      <td>FAG</td>\n",
       "    </tr>\n",
       "    <tr>\n",
       "      <th>3</th>\n",
       "      <td>4</td>\n",
       "      <td>Louis Rosier</td>\n",
       "      <td>FRA</td>\n",
       "      <td>Talbot-Lago</td>\n",
       "      <td>13.0</td>\n",
       "      <td>1950</td>\n",
       "      <td>ROS</td>\n",
       "    </tr>\n",
       "    <tr>\n",
       "      <th>4</th>\n",
       "      <td>5</td>\n",
       "      <td>Alberto  Ascari</td>\n",
       "      <td>ITA</td>\n",
       "      <td>Ferrari</td>\n",
       "      <td>11.0</td>\n",
       "      <td>1950</td>\n",
       "      <td>ASC</td>\n",
       "    </tr>\n",
       "  </tbody>\n",
       "</table>\n",
       "</div>"
      ],
      "text/plain": [
       "  Pos                Driver Nationality          Car   PTS  year Code\n",
       "0   1         Nino  Farina          ITA   Alfa Romeo  30.0  1950  FAR\n",
       "1   2  Juan Manuel  Fangio          ARG   Alfa Romeo  27.0  1950  FAN\n",
       "2   3       Luigi  Fagioli          ITA   Alfa Romeo  24.0  1950  FAG\n",
       "3   4         Louis Rosier          FRA  Talbot-Lago  13.0  1950  ROS\n",
       "4   5      Alberto  Ascari          ITA      Ferrari  11.0  1950  ASC"
      ]
     },
     "execution_count": 34,
     "metadata": {},
     "output_type": "execute_result"
    }
   ],
   "source": [
    "import pandas as pd\n",
    "import matplotlib.pyplot as plt\n",
    "import seaborn as sns\n",
    "df_1 = pd.read_csv('drivers_updated[1].csv') #название файла в директории\n",
    "df_1.head(5) #выводим первые 5 значений"
   ]
  },
  {
   "cell_type": "code",
   "execution_count": 35,
   "id": "a630a7e5",
   "metadata": {},
   "outputs": [
    {
     "name": "stdout",
     "output_type": "stream",
     "text": [
      "(1661, 7)\n",
      "Nino  Farina  Juan Manuel  Fangio  Luigi  Fagioli  Louis Rosier  Alberto  Ascari  Johnnie Parsons  Bill  Holland  Prince  Bira  Reg Parnell  Louis Chiron  Mauri Rose  Peter Whitehead  Yves Giraud  Cabantous  Raymond Sommer  Cecil Green  Robert Manzon  Dorino Serafini  Philippe Etancelin  Felice Bonetto  Tony Bettenhausen  Joie Chitwood  Eugene Chaboud  Jose Froilan  Gonzalez  Luigi Villoresi  Piero Taruffi  Lee  Wallard  Mike  Nazaruk  Consalvo Sanesi  Andy  Linden  Toulo  de Graffenried  Manny  Ayulo  Bobby  Ball  Jack  McGrath  Rudi Fischer Mike  Hawthorn  Troy  Ruttman  Jim  Rathmann  Jean  Behra  Sam  Hanks  Ken Wharton  Duane  Carter  Dennis  Poore  Alan  Brown  Art  Cross  Paul  Frere  Maurice Trintignant  Eric  Thompson  Bill Vukovich Onofre  Marimon  Oscar Alfredo  Galvez  Hermann  Lang  Fred  Agabashian  Paul  Russo  Karl  Kling  Hans Herrmann  Jimmy  Bryan  Luigi  Musso  Roberto  Mieres  Stirling  Moss  Sergio  Mantovani  Elie  Bayol  Andre  Pilette  Umberto Maglioli  Eugenio  Castellotti  Bob  Sweikert  Jimmy  Davies  Johnny  Thomson  Cesare  Perdisa  Carlos  Menditeguy  Walt Faulkner  Bill  Homeier  Peter  Collins  Pat  Flaherty  Paco Godia  Jack Fairman  Don Freeland  Ron  Flockhart  Harry  Schell  Alfonso  de Portago Olivier Gendebien  Hermano  da Silva Ramos  Dick  Rathmann  Horace Gould Gerino Gerini Chico  Landi  Tony  Brooks  Masten  Gregory  Stuart Lewis-Evans Wolfgang  von Trips  Roy  Salvadori  Giorgio Scarlatti Phil  Hill  George Amick  Johnny Boyd  Jack  Brabham  Cliff  Allison  Jo  Bonnier  Bruce  McLaren  Dan  Gurney  Rodger  Ward  Innes  Ireland  Paul  Goldsmith  Richie  Ginther  Jim  Clark  John  Surtees  Graham  Hill  Willy  Mairesse  Don Branson  Henry  Taylor  Giulio  Cabianca  Eddie  Johnson  Lucien  Bianchi  Giancarlo  Baghetti  Jackie Lewis Tony  Maggs  Trevor Taylor Lorenzo  Bandini  Ricardo Rodriguez Carel Godin  de Beaufort Neville  Lederle  Gerhard  Mitter  Jim Hall Ludovico  Scarfiotti  Jo  Siffert  Tony Settember Chris  Amon  Bob  Anderson  Ian  Raby  John Campbell-Jones Ian  Burgess Mike  Hailwood  Mario de Araujo Cabral Bernard Collomb Mike  Spence  Peter  Broeker Pedro  Rodriguez  Hap Sharp Moises  Solana  Doug  Serrurier  Trevor  Blokdyk  Brausch  Niemann  John  Love  Ernie  Pieterse  Peter  de Klerk  Sam  Tingle  David  Prophet  Peter Arundell Walt Hansgen  Jackie  Stewart  Denny  Hulme  Jochen  Rindt  Ronnie  Bucknum  Richard  Attwood  Mike Parkes Bob  Bondurant  John Taylor Chris Irwin  Guy Ligier Jacky  Ickx  Jean-Pierre  Beltoise  Johnny Servoz-Gavin Jackie  Oliver  Vic Elford Brian Redman  Piers Courage  Silvio Moser Clay  Regazzoni  Emerson  Fittipaldi  Rolf  Stommelen  Henri  Pescarolo  Mario  Andretti  Reine Wisell  Ignazio Giunti John Miles  Francois Cevert Peter Gethin Derek  Bell  Ronnie  Peterson  Tim Schenken  Howden Ganley Mark  Donohue  Peter Revson  Andrea  de Adamich Carlos  Reutemann  Carlos  Pace  Arturo  Merzario  James  Hunt  George Follmer Wilson  Fittipaldi  Niki  Lauda  Gijs  van Lennep  Jody  Scheckter  Patrick  Depailler  Jean-Pierre  Jarier  John  Watson  Hans-Joachim  Stuck  Tom  Pryce  Vittorio  Brambilla  Jochen  Mass  Jacques  Laffite  Alan Jones  Tony  Brise  Lella  Lombardi  Gunnar  Nilsson  Patrick  Tambay  Renzo  Zorzi  Riccardo  Patrese  Gilles  Villeneuve  Didier  Pironi  Jean-Pierre  Jabouille  Hector  Rebaque  Derek  Daly  Rene  Arnoux  Nelson  Piquet  Elio  de Angelis  Keke  Rosberg  Alain  Prost  Bruno  Giacomelli  Eddie Cheever  Nigel  Mansell  Marc  Surer  Andrea  de Cesaris  Slim  Borgudd  Eliseo  Salazar  Michele  Alboreto  Manfred  Winkelhock  Mauro  Baldi  Chico  Serra  Derek  Warwick  Danny  Sullivan  Johnny  Cecotto  Ayrton  Senna  Teo  Fabi  Thierry  Boutsen  Stefan  Johansson  Piercarlo  Ghinzani  Philippe  Streiff  Stefan  Bellof  Ivan  Capelli  Gerhard  Berger  Martin  Brundle  Johnny  Dumfries  Philippe  Alliot  Christian  Danner  Jonathan Palmer  Satoru  Nakajima  Roberto  Moreno  Alessandro  Nannini  Mauricio  Gugelmin  Pierluigi  Martini  Jean  Alesi  Johnny  Herbert  Stefano  Modena  Alex  Caffi  Emanuele  Pirro  Gabriele  Tarquini  Olivier  Grouillard  Luis  Perez-Sala  Aguri  Suzuki  Eric  Bernard  Jyrki  Jarvilehto  Bertrand  Gachot  Michael  Schumacher  Mika  Hakkinen  Julian  Bailey  Mark  Blundell  Gianni  Morbidelli  Erik  Comas  Karl  Wendlinger  Christian  Fittipaldi  Damon  Hill  Michael  Andretti  Rubens  Barrichello  Fabrizio  Barbazza  Alessandro  Zanardi  Eddie  Irvine  David  Coulthard  Jos  Verstappen  Olivier  Panis  Heinz-Harald  Frentzen  Nicola  Larini  Ukyo  Katayama  Mika  Salo  Jean-Christophe  Boullion  Pedro  Lamy  Jacques  Villeneuve  Pedro  Diniz  Giancarlo  Fisichella  Ralf  Schumacher  Alexander  Wurz  Jarno  Trulli  Shinji  Nakano  Jan  Magnussen  Ricardo  Rosset  Toranosuke  Takagi  Esteban  Tuero  Pedro  de la Rosa  Marc  Gene  Jenson  Button  Ricardo  Zonta  Gaston  Mazzacane  Nick  Heidfeld  Luciano  Burti  Juan Pablo  Montoya  Kimi  RÃ¤ikkÃ¶nen  Felipe  Massa  Takuma  Sato  Mark  Webber  Allan  McNish  Alex  Yoong  Enrique  Bernoldi  Fernando  Alonso  Cristiano  da Matta  Ralph  Firman  Justin  Wilson  Antonio  Pizzonia  Nicolas  Kiesa  Zsolt  Baumgartner  Christian  Klien  Timo  Glock  Giorgio  Pantano  Gianmaria  Bruni  Tiago  Monteiro  Narain  Karthikeyan  Christijan  Albers  Patrick  Friesacher Vitantonio  Liuzzi  Robert  Doornbos  Robert  Kubica  Nico  Rosberg  Scott  Speed  Yuji  Ide  Sakon  Yamamoto  Franck  Montagny  Lewis  Hamilton  Heikki  Kovalainen  Sebastian  Vettel  Adrian  Sutil  Kazuki  Nakajima  Anthony  Davidson  Sebastien  Bourdais  Sebastien  Buemi  Kamui  Kobayashi  Romain  Grosjean  Jaime  Alguersuari  Luca  Badoer  Vitaly  Petrov  Nico  Hulkenberg  Karun  Chandhok  Bruno  Senna  Lucas  di Grassi  Paul  di Resta  Sergio  Perez  Pastor  Maldonado  Jerome  d'Ambrosio  Daniel  Ricciardo  Jean-Eric  Vergne  Charles  Pic  Esteban  Gutierrez Valtteri Bottas  Jules  Bianchi  Giedo  van der Garde  Max  Chilton  Kevin  Magnussen  Daniil  Kvyat  Marcus  Ericsson  Will  Stevens  Max  Verstappen  Felipe  Nasr  Carlos  Sainz  Roberto  Merhi  Alexander  Rossi  Jolyon  Palmer  Pascal  Wehrlein  Stoffel  Vandoorne  Esteban  Ocon  Rio  Haryanto  Lance  Stroll  Pierre  Gasly  Antonio  Giovinazzi  Brendon  Hartley  Valtteri  Bottas  Charles  Leclerc  Sergey  Sirotkin  Alexander  Albon  Lando  Norris  George  Russell  Nicholas  Latifi  Jack  Aitken  Pietro  Fittipaldi  Yuki  Tsunoda  Mick  Schumacher  Nikita  Mazepin  Zhou  Guanyu  Nyck  De Vries  Oscar  Piastri  Liam  Lawson  Logan  Sargeant  Oliver  Bearman  399\n"
     ]
    }
   ],
   "source": [
    "# информация для размерности и количестве строк \n",
    "print(df_1.shape)\n",
    "#информация обо всех гонщиках\n",
    "print(*df_1.Driver.unique(), len(df_1.Driver.unique()))"
   ]
  },
  {
   "cell_type": "code",
   "execution_count": 3,
   "id": "ec8dcf28",
   "metadata": {},
   "outputs": [],
   "source": [
    "# 1661 строка и 399 уникальных участника гонок в период с 1950 до 2024 года"
   ]
  },
  {
   "cell_type": "code",
   "execution_count": 36,
   "id": "f27b67a5",
   "metadata": {},
   "outputs": [
    {
     "name": "stdout",
     "output_type": "stream",
     "text": [
      "ITA ARG FRA USA THA GBR MON SUI BEL GER ESP BRA AUS SWE NZL RSA MEX NED POR CAN RHO AUT IRL FIN CHI VEN JPN DEN COL MAS HUN IND POL RUS INA RAF CHN\n",
      "Alfa Romeo Talbot-Lago Ferrari Kurtis Kraft Offenhauser Deidt Offenhauser Maserati Simca-Gordini nan Maserati Milano BRM Sherman Offenhauser Schroeder Offenhauser Cooper Bristol Gordini Kuzma Offenhauser Lesovsky Offenhauser Connaught Lea Francis Mercedes-Benz Lancia Watson Offenhauser Connaught Alta Phillips Offenhauser Vanwall Kurtis Kraft Novi Epperly Offenhauser Cooper Climax Lotus Climax Cooper Maserati Cooper Castellotti Trevis Offenhauser Porsche BRM Climax Lola Climax Brabham Climax Lotus BRM BRP BRM Scirocco BRM ATS Gilby BRM Stebro Ford LDS Alfa Romeo Lotus Ford Brabham Ford Brabham BRM Honda Brabham Repco Eagle Climax Eagle Weslake McLaren Ford McLaren BRM Matra Ford Matra Cooper BRM Tyrrell Ford March Ford Surtees Ford Iso Marlboro Ford Shadow Ford Hesketh Ford Lola Ford Frank Williams Racing Cars/Williams Parnelli Ford Hill Ford Ensign Ford Penske Ford Ligier Matra Brabham Alfa Romeo Fittipaldi Ford Wolf-Williams Wolf Ford Williams Ford Arrows Ford Renault Ligier Ford ATS Ford Theodore Ford Brabham BMW Osella Ford Williams Honda McLaren TAG Lotus Renault Toleman Hart Arrows BMW Ligier Renault Osella Alfa Romeo Tyrrell Renault Benetton BMW Lotus Honda Benetton Ford Arrows Megatron Zakspeed Ligier Megatron AGS Ford McLaren Honda March Judd Williams Judd Rial Ford Minardi Ford Williams Renault Lotus Judd Onyx Ford Lola Lamborghini Dallara Ford Brabham Judd Leyton House Judd Lotus Lamborghini Tyrrell Honda Jordan Ford Minardi Ferrari Dallara Judd Brabham Yamaha Leyton House Ilmor Tyrrell Ilmor Footwork Mugen Honda March Ilmor Dallara Ferrari Jordan Yamaha Minardi Lamborghini Venturi Lamborghini Sauber Larrousse Lamborghini Jordan Hart McLaren Peugeot Tyrrell Yamaha Sauber Mercedes Footwork Ford Lotus Mugen Honda Larrousse Ford Benetton Renault McLaren Mercedes Ligier Mugen Honda Sauber Ford Jordan Peugeot Footwork Hart Prost Mugen Honda Sauber Petronas Arrows Yamaha Stewart Ford Williams Mecachrome Jordan Mugen Honda Benetton Playlife Arrows Prost Peugeot Williams Supertec Williams BMW BAR Honda Arrows Supertec Jaguar Cosworth Minardi Fondmetal Jordan Honda Prost Acer Arrows Asiatech Minardi Asiatech Toyota Arrows Cosworth Minardi Cosworth RBR Cosworth Jordan Toyota Sauber BMW RBR Ferrari Williams Cosworth STR Cosworth MF1 Toyota Super Aguri Honda Williams Toyota Red Bull Renault STR Ferrari Spyker Ferrari Force India Ferrari Brawn Mercedes RBR Renault Force India Mercedes Mercedes Sauber Ferrari Lotus Cosworth HRT Cosworth Virgin Cosworth Red Bull Racing Renault Caterham Renault Marussia Cosworth Williams Mercedes STR Renault Marussia Ferrari Lotus Mercedes Red Bull Racing TAG Heuer Toro Rosso Ferrari Haas Ferrari MRT Mercedes Toro Rosso McLaren Renault Scuderia Toro Rosso Honda Red Bull Racing Honda Racing Point BWT Mercedes Alfa Romeo Racing Ferrari AlphaTauri Honda Alpine Renault Aston Martin Mercedes Red Bull Racing RBPT Alfa Romeo Ferrari Aston Martin Aramco Mercedes AlphaTauri RBPT Red Bull Racing Honda RBPT AlphaTauri Honda RBPT RB Honda RBPT Kick Sauber Ferrari\n"
     ]
    }
   ],
   "source": [
    "# можно посмотреть национальности и машины \n",
    "print(*df_1.Nationality.unique()) \n",
    "print(*df_1.Car.unique())"
   ]
  },
  {
   "cell_type": "code",
   "execution_count": 37,
   "id": "b423e12c",
   "metadata": {},
   "outputs": [
    {
     "name": "stdout",
     "output_type": "stream",
     "text": [
      "37\n",
      "205\n"
     ]
    }
   ],
   "source": [
    "print(len(df_1.Nationality.unique())) #37 национальностей\n",
    "print(len(df_1.Car.unique())) #205 машин"
   ]
  },
  {
   "cell_type": "code",
   "execution_count": 6,
   "id": "2c9e48d7",
   "metadata": {},
   "outputs": [
    {
     "data": {
      "text/plain": [
       "575.0"
      ]
     },
     "execution_count": 6,
     "metadata": {},
     "output_type": "execute_result"
    }
   ],
   "source": [
    "#Теперь хочется посмотреть на максимальное количество очков за весь период игр\n",
    "df_1.PTS.max()"
   ]
  },
  {
   "cell_type": "code",
   "execution_count": 38,
   "id": "208bbec1",
   "metadata": {},
   "outputs": [
    {
     "data": {
      "text/html": [
       "<div>\n",
       "<style scoped>\n",
       "    .dataframe tbody tr th:only-of-type {\n",
       "        vertical-align: middle;\n",
       "    }\n",
       "\n",
       "    .dataframe tbody tr th {\n",
       "        vertical-align: top;\n",
       "    }\n",
       "\n",
       "    .dataframe thead th {\n",
       "        text-align: right;\n",
       "    }\n",
       "</style>\n",
       "<table border=\"1\" class=\"dataframe\">\n",
       "  <thead>\n",
       "    <tr style=\"text-align: right;\">\n",
       "      <th></th>\n",
       "      <th>Pos</th>\n",
       "      <th>Driver</th>\n",
       "      <th>Nationality</th>\n",
       "      <th>Car</th>\n",
       "      <th>PTS</th>\n",
       "      <th>year</th>\n",
       "      <th>Code</th>\n",
       "    </tr>\n",
       "  </thead>\n",
       "  <tbody>\n",
       "    <tr>\n",
       "      <th>1618</th>\n",
       "      <td>1</td>\n",
       "      <td>Max  Verstappen</td>\n",
       "      <td>NED</td>\n",
       "      <td>Red Bull Racing Honda RBPT</td>\n",
       "      <td>575.0</td>\n",
       "      <td>2023</td>\n",
       "      <td>VER</td>\n",
       "    </tr>\n",
       "  </tbody>\n",
       "</table>\n",
       "</div>"
      ],
      "text/plain": [
       "     Pos            Driver Nationality                         Car    PTS   \n",
       "1618   1  Max  Verstappen          NED  Red Bull Racing Honda RBPT  575.0  \\\n",
       "\n",
       "      year Code  \n",
       "1618  2023  VER  "
      ]
     },
     "execution_count": 38,
     "metadata": {},
     "output_type": "execute_result"
    }
   ],
   "source": [
    "max_year = df_1[df_1.PTS >= df_1.PTS.max()]\n",
    "max_year"
   ]
  },
  {
   "cell_type": "code",
   "execution_count": 39,
   "id": "f5b7e564",
   "metadata": {},
   "outputs": [],
   "source": [
    "#самый высокий балл за всю истоию игр в 2023 году набрал Макс на Ред булл машине - 575 очков."
   ]
  },
  {
   "cell_type": "markdown",
   "id": "05d8050d",
   "metadata": {},
   "source": [
    "# Графики по максимальному количеству очков (PTS) по годам"
   ]
  },
  {
   "cell_type": "markdown",
   "id": "756c0d64",
   "metadata": {},
   "source": [
    "## А что тогда с PTS остальных годов?\n",
    "\n",
    "Можно построить **столбчатую диаграмму** - для визуализации максимального количества очков по годам. Она удобна в сравнении значений между категориями и отображения временных изменений."
   ]
  },
  {
   "cell_type": "markdown",
   "id": "4552618c",
   "metadata": {},
   "source": [
    "Для удобства и наглядности с сохранением информативности я разбиваю временной период на 6 графиков разных промежутков: с *1950-1962, 1963 - 1975, 1976 - 1988, 1989-2001, 2002-2011, 2012-2024* для наглядности. Каждый график размещается отдельно."
   ]
  },
  {
   "cell_type": "code",
   "execution_count": 40,
   "id": "26412cb1",
   "metadata": {},
   "outputs": [
    {
     "data": {
      "image/png": "[encoded data removed]",
      "text/plain": [
       "<Figure size 1200x600 with 2 Axes>"
      ]
     },
     "metadata": {},
     "output_type": "display_data"
    }
   ],
   "source": [
    "time_ranges = [ (1950, 1962), (1963, 1975)]\n",
    "pts_max = {}\n",
    "for start_year, end_year in time_ranges:\n",
    "    pts_max[(start_year, end_year)] = df_1[(df_1['year'] >= start_year) & (df_1['year'] <= end_year)].groupby('year')['PTS'].max()\n",
    "\n",
    "fig, ax = plt.subplots(2, 1, figsize=(12,6)) \n",
    "\n",
    "axes = ax.flatten()\n",
    "palette = ['steelblue', 'lightsteelblue']\n",
    "\n",
    "for i, ((start_year, end_year), pts_max_year) in enumerate(pts_max.items()):\n",
    "    axes[i].bar(pts_max_year.index, pts_max_year, color=palette[i % len(palette)])\n",
    "    axes[i].set_title(f'Maximum Score (PTS) for racing between {start_year}-{end_year}')\n",
    "    axes[i].set_xlabel('Year', size = 10)\n",
    "    axes[i].set_ylabel('Max PTS', size = 10)\n",
    "\n",
    "# Установка одинаковой шкалы на оси Y\n",
    "ax[0].set_ylim(0, max(max(pts_max_year) for pts_max_year in pts_max.values()))\n",
    "ax[1].set_ylim(0, max(max(pts_max_year) for pts_max_year in pts_max.values()))\n",
    "\n",
    "plt.tight_layout()\n",
    "plt.show()"
   ]
  },
  {
   "cell_type": "code",
   "execution_count": 8,
   "id": "eb867f8f",
   "metadata": {},
   "outputs": [
    {
     "data": {
      "image/png": "[encoded data removed]",
      "text/plain": [
       "<Figure size 1200x600 with 2 Axes>"
      ]
     },
     "metadata": {},
     "output_type": "display_data"
    }
   ],
   "source": [
    "time_ranges = [ (1976,1988),(1989, 2001)]\n",
    "pts_max = {}\n",
    "for start_year, end_year in time_ranges:\n",
    "    pts_max[(start_year, end_year)] = df_1[(df_1['year'] >= start_year) & (df_1['year'] <= end_year)].groupby('year')['PTS'].max()\n",
    "\n",
    "fig, ax = plt.subplots(2, 1, figsize=(12,6)) \n",
    "\n",
    "axes = ax.flatten()\n",
    "\n",
    "palette = ['darkslateblue', 'lightslategray']\n",
    "\n",
    "for i, ((start_year, end_year), pts_max_year) in enumerate(pts_max.items()):\n",
    "    axes[i].bar(pts_max_year.index, pts_max_year, color=palette[i % len(palette)])\n",
    "    axes[i].set_title(f'Maximum Score (PTS) for racing between {start_year}-{end_year}')\n",
    "    axes[i].set_xlabel('Year', size = 10)\n",
    "    axes[i].set_ylabel('Max PTS', size = 10)\n",
    "\n",
    "# Установка одинаковой шкалы на оси Y\n",
    "ax[0].set_ylim(0, max(max(pts_max_year) for pts_max_year in pts_max.values()))\n",
    "ax[1].set_ylim(0, max(max(pts_max_year) for pts_max_year in pts_max.values()))\n",
    "\n",
    "plt.tight_layout()\n",
    "plt.show()"
   ]
  },
  {
   "cell_type": "code",
   "execution_count": 41,
   "id": "23a962fb",
   "metadata": {},
   "outputs": [
    {
     "data": {
      "image/png": "[encoded data removed]",
      "text/plain": [
       "<Figure size 1200x600 with 2 Axes>"
      ]
     },
     "metadata": {},
     "output_type": "display_data"
    }
   ],
   "source": [
    "time_ranges = [ (2002, 2011), (2012, 2024)]\n",
    "pts_max = {}\n",
    "for start_year, end_year in time_ranges:\n",
    "    pts_max[(start_year, end_year)] = df_1[(df_1['year'] >= start_year) & (df_1['year'] <= end_year)].groupby('year')['PTS'].max()\n",
    "\n",
    "fig, ax = plt.subplots(2, 1, figsize=(12,6)) \n",
    "\n",
    "axes = ax.flatten()\n",
    "\n",
    "palette = ['darkslateblue', 'steelblue', 'lightsteelblue', 'lavender']\n",
    "\n",
    "for i, ((start_year, end_year), pts_max_year) in enumerate(pts_max.items()):\n",
    "    axes[i].bar(pts_max_year.index, pts_max_year, color=palette[i % len(palette)])\n",
    "    axes[i].set_title(f'Maximum Score (PTS) for racing between {start_year}-{end_year}')\n",
    "    axes[i].set_xlabel('Year', size = 10)\n",
    "    axes[i].set_ylabel('Max PTS', size = 10)\n",
    "    \n",
    "# Установка одинаковой шкалы на оси Y\n",
    "ax[0].set_ylim(0, max(max(pts_max_year) for pts_max_year in pts_max.values()))\n",
    "ax[1].set_ylim(0, max(max(pts_max_year) for pts_max_year in pts_max.values()))\n",
    "\n",
    "plt.tight_layout()\n",
    "plt.show()"
   ]
  },
  {
   "cell_type": "markdown",
   "id": "dde5ce13",
   "metadata": {},
   "source": [
    "Наблюдается *положительная тендеция*, связанная с увеличением количества очков (PTS) по годам. На самом деле это оказалось связано с изменением в начислении баллов игрокам:\n",
    "\n",
    "* В 1988 году система начисления очков была следующей: 1-е место - 9 очков, 2-е место - 6 очков, 3-е место - 4 очка.\n",
    "* В 1989 году система была изменена: 1-е место - 10 очков, 2-е место - 6 очков, 3-е место - 4 очка. Что видно в небольшом увеличении очков.\n",
    "* Постепенные изменения ... патя надо почитать я больше ничего не нашла про изменеия очков...\n"
   ]
  },
  {
   "cell_type": "markdown",
   "id": "cefb5823",
   "metadata": {},
   "source": [
    "# График сравнения результатов двух гонщиков разной национальности в период с 2003-2008"
   ]
  },
  {
   "cell_type": "code",
   "execution_count": 42,
   "id": "40706ef6",
   "metadata": {},
   "outputs": [
    {
     "data": {
      "text/html": [
       "<div>\n",
       "<style scoped>\n",
       "    .dataframe tbody tr th:only-of-type {\n",
       "        vertical-align: middle;\n",
       "    }\n",
       "\n",
       "    .dataframe tbody tr th {\n",
       "        vertical-align: top;\n",
       "    }\n",
       "\n",
       "    .dataframe thead th {\n",
       "        text-align: right;\n",
       "    }\n",
       "</style>\n",
       "<table border=\"1\" class=\"dataframe\">\n",
       "  <thead>\n",
       "    <tr style=\"text-align: right;\">\n",
       "      <th></th>\n",
       "      <th>Pos</th>\n",
       "      <th>Driver</th>\n",
       "      <th>Nationality</th>\n",
       "      <th>Car</th>\n",
       "      <th>PTS</th>\n",
       "      <th>year</th>\n",
       "      <th>Code</th>\n",
       "    </tr>\n",
       "  </thead>\n",
       "  <tbody>\n",
       "    <tr>\n",
       "      <th>957</th>\n",
       "      <td>17</td>\n",
       "      <td>Rubens  Barrichello</td>\n",
       "      <td>BRA</td>\n",
       "      <td>Jordan Hart</td>\n",
       "      <td>2.0</td>\n",
       "      <td>1993</td>\n",
       "      <td>BAR</td>\n",
       "    </tr>\n",
       "  </tbody>\n",
       "</table>\n",
       "</div>"
      ],
      "text/plain": [
       "    Pos                Driver Nationality          Car  PTS  year Code\n",
       "957  17  Rubens  Barrichello          BRA  Jordan Hart  2.0  1993  BAR"
      ]
     },
     "execution_count": 42,
     "metadata": {},
     "output_type": "execute_result"
    }
   ],
   "source": [
    "#отфильтруем данные, содержащие все данные о гонках с Фернандо или Рубенса\n",
    "driver_data = df_1[(df_1['Driver'] == 'Fernando  Alonso ') | (df_1['Driver'] == 'Rubens  Barrichello ')]\n",
    "driver_data.head(1)"
   ]
  },
  {
   "cell_type": "code",
   "execution_count": 43,
   "id": "f3a3148d",
   "metadata": {},
   "outputs": [
    {
     "name": "stderr",
     "output_type": "stream",
     "text": [
      "C:\\Users\\amina\\AppData\\Local\\Temp\\ipykernel_15504\\1983586282.py:3: UserWarning:\n",
      "\n",
      "The palette list has more values (4) than needed (2), which may not be intended.\n",
      "\n"
     ]
    },
    {
     "data": {
      "image/png": "[encoded data removed]",
      "text/plain": [
       "<Figure size 1500x600 with 1 Axes>"
      ]
     },
     "metadata": {},
     "output_type": "display_data"
    }
   ],
   "source": [
    "plt.figure(figsize=(15, 6))\n",
    "\n",
    "sns.lineplot( data=driver_data, x='year', y='PTS', hue='Driver', marker='o', palette = palette)\n",
    "palette = ['darkslateblue', 'steelblue', 'lightsteelblue', 'lavender']\n",
    "plt.title(f'Comparison of points between Rubens Barrichello and Fernando Alonso over the years', size = 15)\n",
    "plt.xlabel('Year', size = 13)\n",
    "plt.ylabel('Count', size = 13)\n",
    "plt.legend(title='Driver')\n",
    "\n",
    "\n",
    "plt.show()\n"
   ]
  },
  {
   "cell_type": "markdown",
   "id": "22e830d8",
   "metadata": {},
   "source": [
    "Как видно, сравнительный анализ можно проводить в период с 2003 - 2008 год. Отфильтруем датасет и построим новый график."
   ]
  },
  {
   "cell_type": "code",
   "execution_count": 12,
   "id": "e6786503",
   "metadata": {},
   "outputs": [],
   "source": [
    "driver_data1 = driver_data[(driver_data.year >= 2003) & (driver_data.year <= 2008)]"
   ]
  },
  {
   "cell_type": "code",
   "execution_count": 44,
   "id": "b8609ec0",
   "metadata": {},
   "outputs": [
    {
     "name": "stderr",
     "output_type": "stream",
     "text": [
      "C:\\Users\\amina\\AppData\\Local\\Temp\\ipykernel_15504\\3579551231.py:2: UserWarning:\n",
      "\n",
      "The palette list has more values (4) than needed (2), which may not be intended.\n",
      "\n"
     ]
    },
    {
     "data": {
      "image/png": "[encoded data removed]",
      "text/plain": [
       "<Figure size 1500x600 with 1 Axes>"
      ]
     },
     "metadata": {},
     "output_type": "display_data"
    }
   ],
   "source": [
    "plt.figure(figsize=(15, 6), facecolor = 'white')\n",
    "sns.lineplot(data=driver_data1, x='year', y='PTS', hue='Driver', marker='o', palette = palette)\n",
    "palette = ['darkslateblue', 'steelblue', 'lightsteelblue', 'lavender']\n",
    "plt.title(f'Comparison of points between Rubens Barrichello and Fernando Alonso over the years', size = 15)\n",
    "plt.xlabel('Year', size = 13)\n",
    "plt.ylabel('Count', size = 13)\n",
    "plt.legend(title='Driver')\n",
    "\n",
    "plt.show()"
   ]
  },
  {
   "cell_type": "markdown",
   "id": "2fde6b69",
   "metadata": {},
   "source": [
    "В сравнении видно, что у Рубенса за период совместного участия в играх наблюдалось с 2005 года большее количество очков"
   ]
  },
  {
   "cell_type": "markdown",
   "id": "f84f2014",
   "metadata": {},
   "source": [
    "# Распределение очков по командам, набравших PTS больше 200"
   ]
  },
  {
   "cell_type": "code",
   "execution_count": 45,
   "id": "4cedaeba",
   "metadata": {},
   "outputs": [],
   "source": [
    "import seaborn as sns\n",
    "import pandas as pd\n",
    "df = pd.read_csv('teams_updated[1].csv')\n",
    "data = df[df['PTS'] > 200]"
   ]
  },
  {
   "cell_type": "code",
   "execution_count": 46,
   "id": "46d9ef3d",
   "metadata": {},
   "outputs": [
    {
     "data": {
      "image/png": "[encoded data removed]",
      "text/plain": [
       "<Figure size 1500x600 with 1 Axes>"
      ]
     },
     "metadata": {},
     "output_type": "display_data"
    }
   ],
   "source": [
    "import matplotlib.pyplot as plt\n",
    "plt.figure(figsize=(15, 6))\n",
    "palette = ['darkslateblue', 'steelblue', 'lightsteelblue', 'lavender']\n",
    "\n",
    "sns.boxplot(x='Team', y='PTS', data=data, palette= palette)\n",
    "\n",
    "plt.title('Distribution of Points by Team',  size = 18, color = 'darkslategray')\n",
    "plt.xlabel('Team')\n",
    "plt.ylabel('Points')\n",
    "plt.xticks(rotation=90)\n",
    "plt.grid(True, alpha = 0.2)\n",
    "plt.show()"
   ]
  },
  {
   "cell_type": "markdown",
   "id": "0691b013",
   "metadata": {},
   "source": [
    "# Топ 10 лучших гонщиков по набранным очкам"
   ]
  },
  {
   "cell_type": "code",
   "execution_count": 47,
   "id": "d6cbaf41",
   "metadata": {},
   "outputs": [
    {
     "data": {
      "image/png": "[encoded data removed]",
      "text/plain": [
       "<Figure size 1500x600 with 1 Axes>"
      ]
     },
     "metadata": {},
     "output_type": "display_data"
    }
   ],
   "source": [
    "top_drivers = df_1.groupby('Driver')['PTS'].sum().nlargest(10)\n",
    "plt.figure(figsize=(15, 6))\n",
    "palette = ['darkslateblue', 'steelblue', 'lightsteelblue', 'lavender']\n",
    "top_drivers.plot(kind='barh', color= palette)\n",
    "plt.title('Top 10 Drivers by Points', size = 17)\n",
    "plt.xlabel('Driver', size = 15)\n",
    "plt.ylabel('Total Points', size = 15)\n",
    "plt.grid(True, alpha = 0.2)\n",
    "plt.show()"
   ]
  },
  {
   "cell_type": "markdown",
   "id": "19a5f038",
   "metadata": {},
   "source": [
    "# Уникальные национальности с количеством набранных очков более 200"
   ]
  },
  {
   "cell_type": "code",
   "execution_count": 48,
   "id": "60790209",
   "metadata": {},
   "outputs": [
    {
     "data": {
      "image/png": "[encoded data removed]",
      "text/plain": [
       "<Figure size 1500x600 with 1 Axes>"
      ]
     },
     "metadata": {},
     "output_type": "display_data"
    }
   ],
   "source": [
    "df_2 = df_1[df_1.PTS > 200]\n",
    "# Подсчет уникальных национальностей и их количества\n",
    "nationality_count = df_2['Nationality'].value_counts()\n",
    "palette = ['darkslateblue', 'steelblue', 'lightsteelblue', 'lavender']\n",
    "plt.figure(figsize=(15, 6))\n",
    "nationality_count.plot(kind='bar', color= palette)\n",
    "plt.title('Races by Nationality', size = 17)\n",
    "plt.xlabel('Nationality', size = 10)\n",
    "plt.ylabel('Count')\n",
    "plt.grid(True, alpha = 0.3)\n",
    "plt.show()"
   ]
  },
  {
   "cell_type": "markdown",
   "id": "63bd0e42",
   "metadata": {},
   "source": [
    "# Анимированный график для каждого гонщика набранных очков по годам\n"
   ]
  },
  {
   "cell_type": "code",
   "execution_count": 49,
   "id": "5a03c282",
   "metadata": {},
   "outputs": [
    {
     "data": {
      "application/vnd.plotly.v1+json": {
       "config": {
        "plotlyServerURL": "https://plot.ly"
       },
       "data": [
        {
         "alignmentgroup": "True",
         "hovertemplate": "year=2007<br>Driver=%{x}<br>PTS=%{y}<extra></extra>",
         "legendgroup": "",
         "marker": {
          "color": "darkslateblue"
         },
         "name": "",
         "offsetgroup": "",
         "orientation": "v",
         "showlegend": false,
         "textposition": "auto",
         "type": "bar",
         "x": [
          "Adrian  Sutil ",
          "Alexander  Wurz ",
          "Anthony  Davidson ",
          "Christijan  Albers ",
          "David  Coulthard ",
          "Felipe  Massa ",
          "Fernando  Alonso ",
          "Giancarlo  Fisichella ",
          "Heikki  Kovalainen ",
          "Jarno  Trulli ",
          "Jenson  Button ",
          "Kazuki  Nakajima ",
          "Kimi  RÃ¤ikkÃ¶nen ",
          "Lewis  Hamilton ",
          "Mark  Webber ",
          "Nick  Heidfeld ",
          "Nico  Rosberg ",
          "Ralf  Schumacher ",
          "Robert  Kubica ",
          "Rubens  Barrichello ",
          "Sakon  Yamamoto ",
          "Scott  Speed ",
          "Sebastian  Vettel ",
          "Takuma  Sato ",
          "Vitantonio  Liuzzi "
         ],
         "xaxis": "x",
         "y": [
          1,
          13,
          0,
          0,
          14,
          94,
          109,
          21,
          30,
          8,
          6,
          0,
          110,
          109,
          10,
          61,
          20,
          5,
          39,
          0,
          0,
          0,
          6,
          4,
          3
         ],
         "yaxis": "y"
        }
       ],
       "frames": [
        {
         "data": [
          {
           "alignmentgroup": "True",
           "hovertemplate": "year=2007<br>Driver=%{x}<br>PTS=%{y}<extra></extra>",
           "legendgroup": "",
           "marker": {
            "color": "darkslateblue"
           },
           "name": "",
           "offsetgroup": "",
           "orientation": "v",
           "showlegend": false,
           "textposition": "auto",
           "type": "bar",
           "x": [
            "Adrian  Sutil ",
            "Alexander  Wurz ",
            "Anthony  Davidson ",
            "Christijan  Albers ",
            "David  Coulthard ",
            "Felipe  Massa ",
            "Fernando  Alonso ",
            "Giancarlo  Fisichella ",
            "Heikki  Kovalainen ",
            "Jarno  Trulli ",
            "Jenson  Button ",
            "Kazuki  Nakajima ",
            "Kimi  RÃ¤ikkÃ¶nen ",
            "Lewis  Hamilton ",
            "Mark  Webber ",
            "Nick  Heidfeld ",
            "Nico  Rosberg ",
            "Ralf  Schumacher ",
            "Robert  Kubica ",
            "Rubens  Barrichello ",
            "Sakon  Yamamoto ",
            "Scott  Speed ",
            "Sebastian  Vettel ",
            "Takuma  Sato ",
            "Vitantonio  Liuzzi "
           ],
           "xaxis": "x",
           "y": [
            1,
            13,
            0,
            0,
            14,
            94,
            109,
            21,
            30,
            8,
            6,
            0,
            110,
            109,
            10,
            61,
            20,
            5,
            39,
            0,
            0,
            0,
            6,
            4,
            3
           ],
           "yaxis": "y"
          }
         ],
         "name": "2007"
        },
        {
         "data": [
          {
           "alignmentgroup": "True",
           "hovertemplate": "year=2008<br>Driver=%{x}<br>PTS=%{y}<extra></extra>",
           "legendgroup": "",
           "marker": {
            "color": "darkslateblue"
           },
           "name": "",
           "offsetgroup": "",
           "orientation": "v",
           "showlegend": false,
           "textposition": "auto",
           "type": "bar",
           "x": [
            "Adrian  Sutil ",
            "Anthony  Davidson ",
            "David  Coulthard ",
            "Felipe  Massa ",
            "Fernando  Alonso ",
            "Giancarlo  Fisichella ",
            "Heikki  Kovalainen ",
            "Jarno  Trulli ",
            "Jenson  Button ",
            "Kazuki  Nakajima ",
            "Kimi  RÃ¤ikkÃ¶nen ",
            "Lewis  Hamilton ",
            "Mark  Webber ",
            "Nelson  Piquet ",
            "Nick  Heidfeld ",
            "Nico  Rosberg ",
            "Robert  Kubica ",
            "Rubens  Barrichello ",
            "Sebastian  Vettel ",
            "Sebastien  Bourdais ",
            "Takuma  Sato ",
            "Timo  Glock "
           ],
           "xaxis": "x",
           "y": [
            0,
            0,
            8,
            97,
            61,
            0,
            53,
            31,
            3,
            9,
            75,
            98,
            21,
            19,
            60,
            17,
            75,
            11,
            35,
            4,
            0,
            25
           ],
           "yaxis": "y"
          }
         ],
         "name": "2008"
        },
        {
         "data": [
          {
           "alignmentgroup": "True",
           "hovertemplate": "year=2009<br>Driver=%{x}<br>PTS=%{y}<extra></extra>",
           "legendgroup": "",
           "marker": {
            "color": "darkslateblue"
           },
           "name": "",
           "offsetgroup": "",
           "orientation": "v",
           "showlegend": false,
           "textposition": "auto",
           "type": "bar",
           "x": [
            "Adrian  Sutil ",
            "Felipe  Massa ",
            "Fernando  Alonso ",
            "Giancarlo  Fisichella ",
            "Heikki  Kovalainen ",
            "Jaime  Alguersuari ",
            "Jarno  Trulli ",
            "Jenson  Button ",
            "Kamui  Kobayashi ",
            "Kazuki  Nakajima ",
            "Kimi  RÃ¤ikkÃ¶nen ",
            "Lewis  Hamilton ",
            "Luca  Badoer ",
            "Mark  Webber ",
            "Nelson  Piquet ",
            "Nick  Heidfeld ",
            "Nico  Rosberg ",
            "Robert  Kubica ",
            "Romain  Grosjean ",
            "Rubens  Barrichello ",
            "Sebastian  Vettel ",
            "Sebastien  Bourdais ",
            "Sebastien  Buemi ",
            "Timo  Glock ",
            "Vitantonio  Liuzzi "
           ],
           "xaxis": "x",
           "y": [
            5,
            22,
            26,
            8,
            22,
            0,
            32.5,
            95,
            3,
            0,
            48,
            49,
            0,
            69.5,
            0,
            19,
            34.5,
            17,
            0,
            77,
            84,
            2,
            6,
            24,
            0
           ],
           "yaxis": "y"
          }
         ],
         "name": "2009"
        },
        {
         "data": [
          {
           "alignmentgroup": "True",
           "hovertemplate": "year=2010<br>Driver=%{x}<br>PTS=%{y}<extra></extra>",
           "legendgroup": "",
           "marker": {
            "color": "darkslateblue"
           },
           "name": "",
           "offsetgroup": "",
           "orientation": "v",
           "showlegend": false,
           "textposition": "auto",
           "type": "bar",
           "x": [
            "Adrian  Sutil ",
            "Bruno  Senna ",
            "Christian  Klien ",
            "Felipe  Massa ",
            "Fernando  Alonso ",
            "Heikki  Kovalainen ",
            "Jaime  Alguersuari ",
            "Jarno  Trulli ",
            "Jenson  Button ",
            "Kamui  Kobayashi ",
            "Karun  Chandhok ",
            "Lewis  Hamilton ",
            "Lucas  di Grassi ",
            "Mark  Webber ",
            "Michael  Schumacher ",
            "Nick  Heidfeld ",
            "Nico  Hulkenberg ",
            "Nico  Rosberg ",
            "Pedro  de la Rosa ",
            "Robert  Kubica ",
            "Rubens  Barrichello ",
            "Sakon  Yamamoto ",
            "Sebastian  Vettel ",
            "Sebastien  Buemi ",
            "Timo  Glock ",
            "Vitaly  Petrov ",
            "Vitantonio  Liuzzi "
           ],
           "xaxis": "x",
           "y": [
            47,
            0,
            0,
            144,
            252,
            0,
            5,
            0,
            214,
            32,
            0,
            240,
            0,
            242,
            72,
            6,
            22,
            142,
            6,
            136,
            47,
            0,
            256,
            8,
            0,
            27,
            21
           ],
           "yaxis": "y"
          }
         ],
         "name": "2010"
        },
        {
         "data": [
          {
           "alignmentgroup": "True",
           "hovertemplate": "year=2011<br>Driver=%{x}<br>PTS=%{y}<extra></extra>",
           "legendgroup": "",
           "marker": {
            "color": "darkslateblue"
           },
           "name": "",
           "offsetgroup": "",
           "orientation": "v",
           "showlegend": false,
           "textposition": "auto",
           "type": "bar",
           "x": [
            "Adrian  Sutil ",
            "Bruno  Senna ",
            "Daniel  Ricciardo ",
            "Felipe  Massa ",
            "Fernando  Alonso ",
            "Heikki  Kovalainen ",
            "Jaime  Alguersuari ",
            "Jarno  Trulli ",
            "Jenson  Button ",
            "Jerome  d'Ambrosio ",
            "Kamui  Kobayashi ",
            "Karun  Chandhok ",
            "Lewis  Hamilton ",
            "Mark  Webber ",
            "Michael  Schumacher ",
            "Narain  Karthikeyan ",
            "Nick  Heidfeld ",
            "Nico  Rosberg ",
            "Pastor  Maldonado ",
            "Paul  di Resta ",
            "Pedro  de la Rosa ",
            "Rubens  Barrichello ",
            "Sebastian  Vettel ",
            "Sebastien  Buemi ",
            "Sergio  Perez ",
            "Timo  Glock ",
            "Vitaly  Petrov ",
            "Vitantonio  Liuzzi "
           ],
           "xaxis": "x",
           "y": [
            42,
            2,
            0,
            118,
            257,
            0,
            26,
            0,
            270,
            0,
            30,
            0,
            227,
            258,
            76,
            0,
            34,
            89,
            1,
            27,
            0,
            4,
            392,
            15,
            14,
            0,
            37,
            0
           ],
           "yaxis": "y"
          }
         ],
         "name": "2011"
        },
        {
         "data": [
          {
           "alignmentgroup": "True",
           "hovertemplate": "year=2013<br>Driver=%{x}<br>PTS=%{y}<extra></extra>",
           "legendgroup": "",
           "marker": {
            "color": "darkslateblue"
           },
           "name": "",
           "offsetgroup": "",
           "orientation": "v",
           "showlegend": false,
           "textposition": "auto",
           "type": "bar",
           "x": [
            "Adrian  Sutil ",
            "Charles  Pic ",
            "Daniel  Ricciardo ",
            "Esteban  Gutierrez",
            "Felipe  Massa ",
            "Fernando  Alonso ",
            "Giedo  van der Garde ",
            "Heikki  Kovalainen ",
            "Jean-Eric  Vergne ",
            "Jenson  Button ",
            "Jules  Bianchi ",
            "Kimi  RÃ¤ikkÃ¶nen ",
            "Lewis  Hamilton ",
            "Mark  Webber ",
            "Max  Chilton ",
            "Nico  Hulkenberg ",
            "Nico  Rosberg ",
            "Pastor  Maldonado ",
            "Paul  di Resta ",
            "Romain  Grosjean ",
            "Sebastian  Vettel ",
            "Sergio  Perez ",
            "Valtteri Bottas "
           ],
           "xaxis": "x",
           "y": [
            29,
            0,
            20,
            6,
            112,
            242,
            0,
            0,
            13,
            73,
            0,
            183,
            189,
            199,
            0,
            51,
            171,
            1,
            48,
            132,
            397,
            49,
            4
           ],
           "yaxis": "y"
          }
         ],
         "name": "2013"
        },
        {
         "data": [
          {
           "alignmentgroup": "True",
           "hovertemplate": "year=2014<br>Driver=%{x}<br>PTS=%{y}<extra></extra>",
           "legendgroup": "",
           "marker": {
            "color": "darkslateblue"
           },
           "name": "",
           "offsetgroup": "",
           "orientation": "v",
           "showlegend": false,
           "textposition": "auto",
           "type": "bar",
           "x": [
            "Adrian  Sutil ",
            "Daniel  Ricciardo ",
            "Daniil  Kvyat ",
            "Esteban  Gutierrez",
            "Felipe  Massa ",
            "Fernando  Alonso ",
            "Jean-Eric  Vergne ",
            "Jenson  Button ",
            "Jules  Bianchi ",
            "Kamui  Kobayashi ",
            "Kevin  Magnussen ",
            "Kimi  RÃ¤ikkÃ¶nen ",
            "Lewis  Hamilton ",
            "Marcus  Ericsson ",
            "Max  Chilton ",
            "Nico  Hulkenberg ",
            "Nico  Rosberg ",
            "Pastor  Maldonado ",
            "Romain  Grosjean ",
            "Sebastian  Vettel ",
            "Sergio  Perez ",
            "Valtteri Bottas ",
            "Will  Stevens "
           ],
           "xaxis": "x",
           "y": [
            0,
            238,
            8,
            0,
            134,
            161,
            22,
            126,
            2,
            0,
            55,
            55,
            384,
            0,
            0,
            96,
            317,
            2,
            8,
            167,
            59,
            186,
            0
           ],
           "yaxis": "y"
          }
         ],
         "name": "2014"
        },
        {
         "data": [
          {
           "alignmentgroup": "True",
           "hovertemplate": "year=1990<br>Driver=%{x}<br>PTS=%{y}<extra></extra>",
           "legendgroup": "",
           "marker": {
            "color": "darkslateblue"
           },
           "name": "",
           "offsetgroup": "",
           "orientation": "v",
           "showlegend": false,
           "textposition": "auto",
           "type": "bar",
           "x": [
            "Aguri  Suzuki ",
            "Alain  Prost ",
            "Alessandro  Nannini ",
            "Alex  Caffi ",
            "Ayrton  Senna ",
            "Derek  Warwick ",
            "Eric  Bernard ",
            "Gerhard  Berger ",
            "Ivan  Capelli ",
            "Jean  Alesi ",
            "Mauricio  Gugelmin ",
            "Nelson  Piquet ",
            "Nigel  Mansell ",
            "Riccardo  Patrese ",
            "Roberto  Moreno ",
            "Satoru  Nakajima ",
            "Stefano  Modena ",
            "Thierry  Boutsen "
           ],
           "xaxis": "x",
           "y": [
            6,
            71,
            21,
            2,
            78,
            3,
            5,
            43,
            6,
            13,
            1,
            43,
            37,
            23,
            6,
            3,
            2,
            34
           ],
           "yaxis": "y"
          }
         ],
         "name": "1990"
        },
        {
         "data": [
          {
           "alignmentgroup": "True",
           "hovertemplate": "year=1991<br>Driver=%{x}<br>PTS=%{y}<extra></extra>",
           "legendgroup": "",
           "marker": {
            "color": "darkslateblue"
           },
           "name": "",
           "offsetgroup": "",
           "orientation": "v",
           "showlegend": false,
           "textposition": "auto",
           "type": "bar",
           "x": [
            "Aguri  Suzuki ",
            "Alain  Prost ",
            "Andrea  de Cesaris ",
            "Ayrton  Senna ",
            "Bertrand  Gachot ",
            "Emanuele  Pirro ",
            "Eric  Bernard ",
            "Gerhard  Berger ",
            "Gianni  Morbidelli ",
            "Ivan  Capelli ",
            "Jean  Alesi ",
            "Julian  Bailey ",
            "Jyrki  Jarvilehto ",
            "Mark  Blundell ",
            "Martin  Brundle ",
            "Michael  Schumacher ",
            "Mika  Hakkinen ",
            "Nelson  Piquet ",
            "Nigel  Mansell ",
            "Pierluigi  Martini ",
            "Riccardo  Patrese ",
            "Roberto  Moreno ",
            "Satoru  Nakajima ",
            "Stefano  Modena "
           ],
           "xaxis": "x",
           "y": [
            1,
            34,
            9,
            96,
            4,
            1,
            1,
            43,
            0.5,
            1,
            21,
            1,
            4,
            1,
            2,
            4,
            2,
            26.5,
            72,
            6,
            53,
            8,
            2,
            10
           ],
           "yaxis": "y"
          }
         ],
         "name": "1991"
        },
        {
         "data": [
          {
           "alignmentgroup": "True",
           "hovertemplate": "year=1995<br>Driver=%{x}<br>PTS=%{y}<extra></extra>",
           "legendgroup": "",
           "marker": {
            "color": "darkslateblue"
           },
           "name": "",
           "offsetgroup": "",
           "orientation": "v",
           "showlegend": false,
           "textposition": "auto",
           "type": "bar",
           "x": [
            "Aguri  Suzuki ",
            "Damon  Hill ",
            "David  Coulthard ",
            "Eddie  Irvine ",
            "Gerhard  Berger ",
            "Gianni  Morbidelli ",
            "Heinz-Harald  Frentzen ",
            "Jean  Alesi ",
            "Jean-Christophe  Boullion ",
            "Johnny  Herbert ",
            "Mark  Blundell ",
            "Martin  Brundle ",
            "Michael  Schumacher ",
            "Mika  Hakkinen ",
            "Mika  Salo ",
            "Olivier  Panis ",
            "Pedro  Lamy ",
            "Rubens  Barrichello "
           ],
           "xaxis": "x",
           "y": [
            1,
            69,
            49,
            10,
            31,
            5,
            15,
            42,
            3,
            45,
            13,
            7,
            102,
            17,
            5,
            16,
            1,
            11
           ],
           "yaxis": "y"
          }
         ],
         "name": "1995"
        },
        {
         "data": [
          {
           "alignmentgroup": "True",
           "hovertemplate": "year=1980<br>Driver=%{x}<br>PTS=%{y}<extra></extra>",
           "legendgroup": "",
           "marker": {
            "color": "darkslateblue"
           },
           "name": "",
           "offsetgroup": "",
           "orientation": "v",
           "showlegend": false,
           "textposition": "auto",
           "type": "bar",
           "x": [
            "Alain  Prost ",
            "Alan Jones ",
            "Bruno  Giacomelli ",
            "Carlos  Reutemann ",
            "Derek  Daly ",
            "Didier  Pironi ",
            "Elio  de Angelis ",
            "Emerson  Fittipaldi ",
            "Gilles  Villeneuve ",
            "Hector  Rebaque ",
            "Jacques  Laffite ",
            "Jean-Pierre  Jabouille ",
            "Jean-Pierre  Jarier ",
            "Jochen  Mass ",
            "Jody  Scheckter ",
            "John  Watson ",
            "Keke  Rosberg ",
            "Mario  Andretti ",
            "Nelson  Piquet ",
            "Rene  Arnoux ",
            "Riccardo  Patrese "
           ],
           "xaxis": "x",
           "y": [
            5,
            67,
            4,
            42,
            6,
            32,
            13,
            5,
            6,
            1,
            34,
            9,
            6,
            4,
            2,
            6,
            6,
            1,
            54,
            29,
            7
           ],
           "yaxis": "y"
          }
         ],
         "name": "1980"
        },
        {
         "data": [
          {
           "alignmentgroup": "True",
           "hovertemplate": "year=1981<br>Driver=%{x}<br>PTS=%{y}<extra></extra>",
           "legendgroup": "",
           "marker": {
            "color": "darkslateblue"
           },
           "name": "",
           "offsetgroup": "",
           "orientation": "v",
           "showlegend": false,
           "textposition": "auto",
           "type": "bar",
           "x": [
            "Alain  Prost ",
            "Alan Jones ",
            "Andrea  de Cesaris ",
            "Bruno  Giacomelli ",
            "Carlos  Reutemann ",
            "Didier  Pironi ",
            "Eddie Cheever ",
            "Elio  de Angelis ",
            "Eliseo  Salazar ",
            "Gilles  Villeneuve ",
            "Hector  Rebaque ",
            "Jacques  Laffite ",
            "John  Watson ",
            "Marc  Surer ",
            "Mario  Andretti ",
            "Nelson  Piquet ",
            "Nigel  Mansell ",
            "Patrick  Tambay ",
            "Rene  Arnoux ",
            "Riccardo  Patrese ",
            "Slim  Borgudd "
           ],
           "xaxis": "x",
           "y": [
            43,
            46,
            1,
            7,
            49,
            9,
            10,
            14,
            1,
            25,
            11,
            44,
            27,
            4,
            3,
            50,
            8,
            1,
            11,
            10,
            1
           ],
           "yaxis": "y"
          }
         ],
         "name": "1981"
        },
        {
         "data": [
          {
           "alignmentgroup": "True",
           "hovertemplate": "year=1982<br>Driver=%{x}<br>PTS=%{y}<extra></extra>",
           "legendgroup": "",
           "marker": {
            "color": "darkslateblue"
           },
           "name": "",
           "offsetgroup": "",
           "orientation": "v",
           "showlegend": false,
           "textposition": "auto",
           "type": "bar",
           "x": [
            "Alain  Prost ",
            "Andrea  de Cesaris ",
            "Bruno  Giacomelli ",
            "Carlos  Reutemann ",
            "Chico  Serra ",
            "Derek  Daly ",
            "Didier  Pironi ",
            "Eddie Cheever ",
            "Elio  de Angelis ",
            "Eliseo  Salazar ",
            "Gilles  Villeneuve ",
            "Jacques  Laffite ",
            "Jean-Pierre  Jarier ",
            "John  Watson ",
            "Keke  Rosberg ",
            "Manfred  Winkelhock ",
            "Marc  Surer ",
            "Mario  Andretti ",
            "Mauro  Baldi ",
            "Michele  Alboreto ",
            "Nelson  Piquet ",
            "Nigel  Mansell ",
            "Niki  Lauda ",
            "Patrick  Tambay ",
            "Rene  Arnoux ",
            "Riccardo  Patrese "
           ],
           "xaxis": "x",
           "y": [
            34,
            5,
            2,
            6,
            1,
            8,
            39,
            15,
            23,
            2,
            6,
            5,
            3,
            39,
            44,
            2,
            3,
            4,
            2,
            25,
            20,
            7,
            30,
            25,
            28,
            21
           ],
           "yaxis": "y"
          }
         ],
         "name": "1982"
        },
        {
         "data": [
          {
           "alignmentgroup": "True",
           "hovertemplate": "year=1983<br>Driver=%{x}<br>PTS=%{y}<extra></extra>",
           "legendgroup": "",
           "marker": {
            "color": "darkslateblue"
           },
           "name": "",
           "offsetgroup": "",
           "orientation": "v",
           "showlegend": false,
           "textposition": "auto",
           "type": "bar",
           "x": [
            "Alain  Prost ",
            "Andrea  de Cesaris ",
            "Bruno  Giacomelli ",
            "Danny  Sullivan ",
            "Derek  Warwick ",
            "Eddie Cheever ",
            "Elio  de Angelis ",
            "Jacques  Laffite ",
            "John  Watson ",
            "Johnny  Cecotto ",
            "Keke  Rosberg ",
            "Marc  Surer ",
            "Mauro  Baldi ",
            "Michele  Alboreto ",
            "Nelson  Piquet ",
            "Nigel  Mansell ",
            "Niki  Lauda ",
            "Patrick  Tambay ",
            "Rene  Arnoux ",
            "Riccardo  Patrese "
           ],
           "xaxis": "x",
           "y": [
            57,
            15,
            1,
            2,
            9,
            22,
            2,
            11,
            22,
            1,
            27,
            4,
            3,
            10,
            59,
            10,
            12,
            40,
            49,
            13
           ],
           "yaxis": "y"
          }
         ],
         "name": "1983"
        },
        {
         "data": [
          {
           "alignmentgroup": "True",
           "hovertemplate": "year=1984<br>Driver=%{x}<br>PTS=%{y}<extra></extra>",
           "legendgroup": "",
           "marker": {
            "color": "darkslateblue"
           },
           "name": "",
           "offsetgroup": "",
           "orientation": "v",
           "showlegend": false,
           "textposition": "auto",
           "type": "bar",
           "x": [
            "Alain  Prost ",
            "Andrea  de Cesaris ",
            "Ayrton  Senna ",
            "Derek  Warwick ",
            "Eddie Cheever ",
            "Elio  de Angelis ",
            "Jacques  Laffite ",
            "Keke  Rosberg ",
            "Marc  Surer ",
            "Michele  Alboreto ",
            "Nelson  Piquet ",
            "Nigel  Mansell ",
            "Niki  Lauda ",
            "Patrick  Tambay ",
            "Piercarlo  Ghinzani ",
            "Rene  Arnoux ",
            "Riccardo  Patrese ",
            "Stefan  Johansson ",
            "Teo  Fabi ",
            "Thierry  Boutsen "
           ],
           "xaxis": "x",
           "y": [
            71.5,
            3,
            13,
            23,
            3,
            34,
            5,
            20.5,
            1,
            30.5,
            29,
            13,
            72,
            11,
            2,
            27,
            8,
            3,
            9,
            5
           ],
           "yaxis": "y"
          }
         ],
         "name": "1984"
        },
        {
         "data": [
          {
           "alignmentgroup": "True",
           "hovertemplate": "year=1985<br>Driver=%{x}<br>PTS=%{y}<extra></extra>",
           "legendgroup": "",
           "marker": {
            "color": "darkslateblue"
           },
           "name": "",
           "offsetgroup": "",
           "orientation": "v",
           "showlegend": false,
           "textposition": "auto",
           "type": "bar",
           "x": [
            "Alain  Prost ",
            "Andrea  de Cesaris ",
            "Ayrton  Senna ",
            "Derek  Warwick ",
            "Elio  de Angelis ",
            "Gerhard  Berger ",
            "Ivan  Capelli ",
            "Jacques  Laffite ",
            "Keke  Rosberg ",
            "Marc  Surer ",
            "Michele  Alboreto ",
            "Nelson  Piquet ",
            "Nigel  Mansell ",
            "Niki  Lauda ",
            "Patrick  Tambay ",
            "Philippe  Streiff ",
            "Rene  Arnoux ",
            "Stefan  Bellof ",
            "Stefan  Johansson ",
            "Thierry  Boutsen "
           ],
           "xaxis": "x",
           "y": [
            73,
            3,
            38,
            5,
            33,
            3,
            3,
            16,
            40,
            5,
            53,
            21,
            31,
            14,
            11,
            4,
            3,
            4,
            26,
            11
           ],
           "yaxis": "y"
          }
         ],
         "name": "1985"
        },
        {
         "data": [
          {
           "alignmentgroup": "True",
           "hovertemplate": "year=1986<br>Driver=%{x}<br>PTS=%{y}<extra></extra>",
           "legendgroup": "",
           "marker": {
            "color": "darkslateblue"
           },
           "name": "",
           "offsetgroup": "",
           "orientation": "v",
           "showlegend": false,
           "textposition": "auto",
           "type": "bar",
           "x": [
            "Alain  Prost ",
            "Alan Jones ",
            "Ayrton  Senna ",
            "Christian  Danner ",
            "Gerhard  Berger ",
            "Jacques  Laffite ",
            "Johnny  Dumfries ",
            "Keke  Rosberg ",
            "Martin  Brundle ",
            "Michele  Alboreto ",
            "Nelson  Piquet ",
            "Nigel  Mansell ",
            "Patrick  Tambay ",
            "Philippe  Alliot ",
            "Philippe  Streiff ",
            "Rene  Arnoux ",
            "Riccardo  Patrese ",
            "Stefan  Johansson ",
            "Teo  Fabi "
           ],
           "xaxis": "x",
           "y": [
            72,
            4,
            55,
            1,
            17,
            14,
            3,
            22,
            8,
            14,
            69,
            70,
            2,
            1,
            3,
            14,
            2,
            23,
            2
           ],
           "yaxis": "y"
          }
         ],
         "name": "1986"
        },
        {
         "data": [
          {
           "alignmentgroup": "True",
           "hovertemplate": "year=1987<br>Driver=%{x}<br>PTS=%{y}<extra></extra>",
           "legendgroup": "",
           "marker": {
            "color": "darkslateblue"
           },
           "name": "",
           "offsetgroup": "",
           "orientation": "v",
           "showlegend": false,
           "textposition": "auto",
           "type": "bar",
           "x": [
            "Alain  Prost ",
            "Andrea  de Cesaris ",
            "Ayrton  Senna ",
            "Derek  Warwick ",
            "Eddie Cheever ",
            "Gerhard  Berger ",
            "Ivan  Capelli ",
            "Jonathan Palmer ",
            "Martin  Brundle ",
            "Michele  Alboreto ",
            "Nelson  Piquet ",
            "Nigel  Mansell ",
            "Philippe  Alliot ",
            "Philippe  Streiff ",
            "Rene  Arnoux ",
            "Riccardo  Patrese ",
            "Roberto  Moreno ",
            "Satoru  Nakajima ",
            "Stefan  Johansson ",
            "Teo  Fabi ",
            "Thierry  Boutsen "
           ],
           "xaxis": "x",
           "y": [
            46,
            4,
            57,
            3,
            8,
            36,
            1,
            7,
            2,
            17,
            73,
            61,
            3,
            4,
            1,
            6,
            1,
            7,
            30,
            12,
            16
           ],
           "yaxis": "y"
          }
         ],
         "name": "1987"
        },
        {
         "data": [
          {
           "alignmentgroup": "True",
           "hovertemplate": "year=1988<br>Driver=%{x}<br>PTS=%{y}<extra></extra>",
           "legendgroup": "",
           "marker": {
            "color": "darkslateblue"
           },
           "name": "",
           "offsetgroup": "",
           "orientation": "v",
           "showlegend": false,
           "textposition": "auto",
           "type": "bar",
           "x": [
            "Alain  Prost ",
            "Alessandro  Nannini ",
            "Andrea  de Cesaris ",
            "Ayrton  Senna ",
            "Derek  Warwick ",
            "Eddie Cheever ",
            "Gerhard  Berger ",
            "Ivan  Capelli ",
            "Jonathan Palmer ",
            "Mauricio  Gugelmin ",
            "Michele  Alboreto ",
            "Nelson  Piquet ",
            "Nigel  Mansell ",
            "Pierluigi  Martini ",
            "Riccardo  Patrese ",
            "Satoru  Nakajima ",
            "Thierry  Boutsen "
           ],
           "xaxis": "x",
           "y": [
            87,
            12,
            3,
            90,
            17,
            6,
            41,
            17,
            5,
            5,
            24,
            22,
            12,
            1,
            8,
            1,
            27
           ],
           "yaxis": "y"
          }
         ],
         "name": "1988"
        },
        {
         "data": [
          {
           "alignmentgroup": "True",
           "hovertemplate": "year=1989<br>Driver=%{x}<br>PTS=%{y}<extra></extra>",
           "legendgroup": "",
           "marker": {
            "color": "darkslateblue"
           },
           "name": "",
           "offsetgroup": "",
           "orientation": "v",
           "showlegend": false,
           "textposition": "auto",
           "type": "bar",
           "x": [
            "Alain  Prost ",
            "Alessandro  Nannini ",
            "Alex  Caffi ",
            "Andrea  de Cesaris ",
            "Ayrton  Senna ",
            "Christian  Danner ",
            "Derek  Warwick ",
            "Eddie Cheever ",
            "Emanuele  Pirro ",
            "Gabriele  Tarquini ",
            "Gerhard  Berger ",
            "Jean  Alesi ",
            "Johnny  Herbert ",
            "Jonathan Palmer ",
            "Luis  Perez-Sala ",
            "Martin  Brundle ",
            "Mauricio  Gugelmin ",
            "Michele  Alboreto ",
            "Nelson  Piquet ",
            "Nigel  Mansell ",
            "Olivier  Grouillard ",
            "Philippe  Alliot ",
            "Pierluigi  Martini ",
            "Rene  Arnoux ",
            "Riccardo  Patrese ",
            "Satoru  Nakajima ",
            "Stefan  Johansson ",
            "Stefano  Modena ",
            "Thierry  Boutsen "
           ],
           "xaxis": "x",
           "y": [
            76,
            32,
            4,
            4,
            60,
            3,
            7,
            6,
            2,
            1,
            21,
            8,
            5,
            2,
            1,
            4,
            4,
            6,
            12,
            38,
            1,
            1,
            5,
            2,
            40,
            3,
            6,
            4,
            37
           ],
           "yaxis": "y"
          }
         ],
         "name": "1989"
        },
        {
         "data": [
          {
           "alignmentgroup": "True",
           "hovertemplate": "year=1993<br>Driver=%{x}<br>PTS=%{y}<extra></extra>",
           "legendgroup": "",
           "marker": {
            "color": "darkslateblue"
           },
           "name": "",
           "offsetgroup": "",
           "orientation": "v",
           "showlegend": false,
           "textposition": "auto",
           "type": "bar",
           "x": [
            "Alain  Prost ",
            "Alessandro  Zanardi ",
            "Ayrton  Senna ",
            "Christian  Fittipaldi ",
            "Damon  Hill ",
            "Derek  Warwick ",
            "Eddie  Irvine ",
            "Erik  Comas ",
            "Fabrizio  Barbazza ",
            "Gerhard  Berger ",
            "Jean  Alesi ",
            "Johnny  Herbert ",
            "Jyrki  Jarvilehto ",
            "Karl  Wendlinger ",
            "Mark  Blundell ",
            "Martin  Brundle ",
            "Michael  Andretti ",
            "Michael  Schumacher ",
            "Mika  Hakkinen ",
            "Philippe  Alliot ",
            "Riccardo  Patrese ",
            "Rubens  Barrichello "
           ],
           "xaxis": "x",
           "y": [
            99,
            1,
            73,
            5,
            69,
            4,
            1,
            1,
            2,
            12,
            16,
            11,
            5,
            7,
            10,
            13,
            7,
            52,
            4,
            2,
            20,
            2
           ],
           "yaxis": "y"
          }
         ],
         "name": "1993"
        },
        {
         "data": [
          {
           "alignmentgroup": "True",
           "hovertemplate": "year=1952<br>Driver=%{x}<br>PTS=%{y}<extra></extra>",
           "legendgroup": "",
           "marker": {
            "color": "darkslateblue"
           },
           "name": "",
           "offsetgroup": "",
           "orientation": "v",
           "showlegend": false,
           "textposition": "auto",
           "type": "bar",
           "x": [
            "Alan  Brown ",
            "Alberto  Ascari ",
            "Art  Cross ",
            "Bill Vukovich",
            "Dennis  Poore ",
            "Duane  Carter ",
            "Eric  Thompson ",
            "Felice Bonetto ",
            "Jean  Behra ",
            "Jim  Rathmann ",
            "Jose Froilan  Gonzalez ",
            "Ken Wharton ",
            "Luigi Villoresi ",
            "Maurice Trintignant ",
            "Mike  Hawthorn ",
            "Nino  Farina ",
            "Paul  Frere ",
            "Piero Taruffi ",
            "Robert Manzon ",
            "Rudi Fischer",
            "Sam  Hanks ",
            "Troy  Ruttman "
           ],
           "xaxis": "x",
           "y": [
            2,
            36,
            2,
            1,
            3,
            3,
            2,
            2,
            6,
            6,
            6.5,
            3,
            8,
            2,
            10,
            24,
            2,
            22,
            9,
            10,
            4,
            8
           ],
           "yaxis": "y"
          }
         ],
         "name": "1952"
        },
        {
         "data": [
          {
           "alignmentgroup": "True",
           "hovertemplate": "year=1975<br>Driver=%{x}<br>PTS=%{y}<extra></extra>",
           "legendgroup": "",
           "marker": {
            "color": "darkslateblue"
           },
           "name": "",
           "offsetgroup": "",
           "orientation": "v",
           "showlegend": false,
           "textposition": "auto",
           "type": "bar",
           "x": [
            "Alan Jones ",
            "Carlos  Pace ",
            "Carlos  Reutemann ",
            "Clay  Regazzoni ",
            "Emerson  Fittipaldi ",
            "Gijs  van Lennep ",
            "Jacky  Ickx ",
            "Jacques  Laffite ",
            "James  Hunt ",
            "Jean-Pierre  Jarier ",
            "Jochen  Mass ",
            "Jody  Scheckter ",
            "Lella  Lombardi ",
            "Mario  Andretti ",
            "Mark  Donohue ",
            "Niki  Lauda ",
            "Patrick  Depailler ",
            "Ronnie  Peterson ",
            "Tom  Pryce ",
            "Tony  Brise ",
            "Vittorio  Brambilla "
           ],
           "xaxis": "x",
           "y": [
            2,
            24,
            37,
            25,
            45,
            1,
            3,
            6,
            33,
            1.5,
            20,
            20,
            0.5,
            5,
            4,
            64.5,
            12,
            6,
            8,
            1,
            6.5
           ],
           "yaxis": "y"
          }
         ],
         "name": "1975"
        },
        {
         "data": [
          {
           "alignmentgroup": "True",
           "hovertemplate": "year=1976<br>Driver=%{x}<br>PTS=%{y}<extra></extra>",
           "legendgroup": "",
           "marker": {
            "color": "darkslateblue"
           },
           "name": "",
           "offsetgroup": "",
           "orientation": "v",
           "showlegend": false,
           "textposition": "auto",
           "type": "bar",
           "x": [
            "Alan Jones ",
            "Carlos  Pace ",
            "Carlos  Reutemann ",
            "Chris  Amon ",
            "Clay  Regazzoni ",
            "Emerson  Fittipaldi ",
            "Gunnar  Nilsson ",
            "Hans-Joachim  Stuck ",
            "Jacques  Laffite ",
            "James  Hunt ",
            "Jochen  Mass ",
            "Jody  Scheckter ",
            "John  Watson ",
            "Mario  Andretti ",
            "Niki  Lauda ",
            "Patrick  Depailler ",
            "Rolf  Stommelen ",
            "Ronnie  Peterson ",
            "Tom  Pryce ",
            "Vittorio  Brambilla "
           ],
           "xaxis": "x",
           "y": [
            7,
            7,
            3,
            2,
            31,
            3,
            11,
            8,
            20,
            69,
            19,
            49,
            20,
            22,
            68,
            39,
            1,
            10,
            10,
            1
           ],
           "yaxis": "y"
          }
         ],
         "name": "1976"
        },
        {
         "data": [
          {
           "alignmentgroup": "True",
           "hovertemplate": "year=1977<br>Driver=%{x}<br>PTS=%{y}<extra></extra>",
           "legendgroup": "",
           "marker": {
            "color": "darkslateblue"
           },
           "name": "",
           "offsetgroup": "",
           "orientation": "v",
           "showlegend": false,
           "textposition": "auto",
           "type": "bar",
           "x": [
            "Alan Jones ",
            "Carlos  Pace ",
            "Carlos  Reutemann ",
            "Clay  Regazzoni ",
            "Emerson  Fittipaldi ",
            "Gunnar  Nilsson ",
            "Hans-Joachim  Stuck ",
            "Jacques  Laffite ",
            "James  Hunt ",
            "Jean-Pierre  Jarier ",
            "Jochen  Mass ",
            "Jody  Scheckter ",
            "John  Watson ",
            "Mario  Andretti ",
            "Niki  Lauda ",
            "Patrick  Depailler ",
            "Patrick  Tambay ",
            "Renzo  Zorzi ",
            "Riccardo  Patrese ",
            "Ronnie  Peterson ",
            "Vittorio  Brambilla "
           ],
           "xaxis": "x",
           "y": [
            22,
            6,
            42,
            5,
            11,
            20,
            12,
            18,
            40,
            1,
            25,
            55,
            9,
            47,
            72,
            20,
            5,
            1,
            1,
            7,
            6
           ],
           "yaxis": "y"
          }
         ],
         "name": "1977"
        },
        {
         "data": [
          {
           "alignmentgroup": "True",
           "hovertemplate": "year=1978<br>Driver=%{x}<br>PTS=%{y}<extra></extra>",
           "legendgroup": "",
           "marker": {
            "color": "darkslateblue"
           },
           "name": "",
           "offsetgroup": "",
           "orientation": "v",
           "showlegend": false,
           "textposition": "auto",
           "type": "bar",
           "x": [
            "Alan Jones ",
            "Carlos  Reutemann ",
            "Clay  Regazzoni ",
            "Derek  Daly ",
            "Didier  Pironi ",
            "Emerson  Fittipaldi ",
            "Gilles  Villeneuve ",
            "Hans-Joachim  Stuck ",
            "Hector  Rebaque ",
            "Jacques  Laffite ",
            "James  Hunt ",
            "Jean-Pierre  Jabouille ",
            "Jody  Scheckter ",
            "John  Watson ",
            "Mario  Andretti ",
            "Niki  Lauda ",
            "Patrick  Depailler ",
            "Patrick  Tambay ",
            "Riccardo  Patrese ",
            "Ronnie  Peterson ",
            "Vittorio  Brambilla "
           ],
           "xaxis": "x",
           "y": [
            11,
            48,
            4,
            1,
            7,
            17,
            17,
            2,
            1,
            19,
            8,
            3,
            24,
            25,
            64,
            44,
            34,
            8,
            11,
            51,
            1
           ],
           "yaxis": "y"
          }
         ],
         "name": "1978"
        },
        {
         "data": [
          {
           "alignmentgroup": "True",
           "hovertemplate": "year=1979<br>Driver=%{x}<br>PTS=%{y}<extra></extra>",
           "legendgroup": "",
           "marker": {
            "color": "darkslateblue"
           },
           "name": "",
           "offsetgroup": "",
           "orientation": "v",
           "showlegend": false,
           "textposition": "auto",
           "type": "bar",
           "x": [
            "Alan Jones ",
            "Carlos  Reutemann ",
            "Clay  Regazzoni ",
            "Didier  Pironi ",
            "Elio  de Angelis ",
            "Emerson  Fittipaldi ",
            "Gilles  Villeneuve ",
            "Hans-Joachim  Stuck ",
            "Jacky  Ickx ",
            "Jacques  Laffite ",
            "Jean-Pierre  Jabouille ",
            "Jean-Pierre  Jarier ",
            "Jochen  Mass ",
            "Jody  Scheckter ",
            "John  Watson ",
            "Mario  Andretti ",
            "Nelson  Piquet ",
            "Niki  Lauda ",
            "Patrick  Depailler ",
            "Rene  Arnoux ",
            "Riccardo  Patrese "
           ],
           "xaxis": "x",
           "y": [
            40,
            20,
            29,
            14,
            3,
            1,
            47,
            2,
            3,
            36,
            9,
            14,
            3,
            51,
            15,
            14,
            3,
            4,
            20,
            17,
            2
           ],
           "yaxis": "y"
          }
         ],
         "name": "1979"
        },
        {
         "data": [
          {
           "alignmentgroup": "True",
           "hovertemplate": "year=1950<br>Driver=%{x}<br>PTS=%{y}<extra></extra>",
           "legendgroup": "",
           "marker": {
            "color": "darkslateblue"
           },
           "name": "",
           "offsetgroup": "",
           "orientation": "v",
           "showlegend": false,
           "textposition": "auto",
           "type": "bar",
           "x": [
            "Alberto  Ascari ",
            "Bill  Holland ",
            "Cecil Green ",
            "Dorino Serafini ",
            "Eugene Chaboud ",
            "Felice Bonetto ",
            "Johnnie Parsons ",
            "Joie Chitwood ",
            "Juan Manuel  Fangio ",
            "Louis Chiron ",
            "Louis Rosier ",
            "Luigi  Fagioli ",
            "Mauri Rose ",
            "Nino  Farina ",
            "Peter Whitehead ",
            "Philippe Etancelin ",
            "Prince  Bira ",
            "Raymond Sommer ",
            "Reg Parnell ",
            "Robert Manzon ",
            "Tony Bettenhausen ",
            "Yves Giraud  Cabantous "
           ],
           "xaxis": "x",
           "y": [
            11,
            6,
            3,
            3,
            1,
            2,
            9,
            1,
            27,
            4,
            13,
            24,
            4,
            30,
            4,
            3,
            5,
            3,
            4,
            3,
            1,
            3
           ],
           "yaxis": "y"
          }
         ],
         "name": "1950"
        },
        {
         "data": [
          {
           "alignmentgroup": "True",
           "hovertemplate": "year=1951<br>Driver=%{x}<br>PTS=%{y}<extra></extra>",
           "legendgroup": "",
           "marker": {
            "color": "darkslateblue"
           },
           "name": "",
           "offsetgroup": "",
           "orientation": "v",
           "showlegend": false,
           "textposition": "auto",
           "type": "bar",
           "x": [
            "Alberto  Ascari ",
            "Andy  Linden ",
            "Bobby  Ball ",
            "Consalvo Sanesi ",
            "Felice Bonetto ",
            "Jack  McGrath ",
            "Jose Froilan  Gonzalez ",
            "Juan Manuel  Fangio ",
            "Lee  Wallard ",
            "Louis Rosier ",
            "Luigi  Fagioli ",
            "Luigi Villoresi ",
            "Manny  Ayulo ",
            "Mike  Nazaruk ",
            "Nino  Farina ",
            "Piero Taruffi ",
            "Reg Parnell ",
            "Toulo  de Graffenried ",
            "Yves Giraud  Cabantous "
           ],
           "xaxis": "x",
           "y": [
            25,
            3,
            2,
            3,
            7,
            2,
            24,
            31,
            9,
            3,
            4,
            15,
            2,
            6,
            19,
            10,
            5,
            2,
            2
           ],
           "yaxis": "y"
          }
         ],
         "name": "1951"
        },
        {
         "data": [
          {
           "alignmentgroup": "True",
           "hovertemplate": "year=1953<br>Driver=%{x}<br>PTS=%{y}<extra></extra>",
           "legendgroup": "",
           "marker": {
            "color": "darkslateblue"
           },
           "name": "",
           "offsetgroup": "",
           "orientation": "v",
           "showlegend": false,
           "textposition": "auto",
           "type": "bar",
           "x": [
            "Alberto  Ascari ",
            "Art  Cross ",
            "Bill Vukovich",
            "Duane  Carter ",
            "Felice Bonetto ",
            "Fred  Agabashian ",
            "Hermann  Lang ",
            "Jack  McGrath ",
            "Jose Froilan  Gonzalez ",
            "Juan Manuel  Fangio ",
            "Luigi Villoresi ",
            "Maurice Trintignant ",
            "Mike  Hawthorn ",
            "Nino  Farina ",
            "Onofre  Marimon ",
            "Oscar Alfredo  Galvez ",
            "Paul  Russo ",
            "Sam  Hanks ",
            "Toulo  de Graffenried "
           ],
           "xaxis": "x",
           "y": [
            34.5,
            6,
            9,
            2,
            6.5,
            1.5,
            2,
            2,
            13.5,
            27.5,
            17,
            4,
            19,
            26,
            4,
            2,
            1.5,
            2,
            7
           ],
           "yaxis": "y"
          }
         ],
         "name": "1953"
        },
        {
         "data": [
          {
           "alignmentgroup": "True",
           "hovertemplate": "year=1954<br>Driver=%{x}<br>PTS=%{y}<extra></extra>",
           "legendgroup": "",
           "marker": {
            "color": "darkslateblue"
           },
           "name": "",
           "offsetgroup": "",
           "orientation": "v",
           "showlegend": false,
           "textposition": "auto",
           "type": "bar",
           "x": [
            "Alberto  Ascari ",
            "Andre  Pilette ",
            "Bill Vukovich",
            "Duane  Carter ",
            "Elie  Bayol ",
            "Hans Herrmann ",
            "Jack  McGrath ",
            "Jean  Behra ",
            "Jimmy  Bryan ",
            "Jose Froilan  Gonzalez ",
            "Juan Manuel  Fangio ",
            "Karl  Kling ",
            "Luigi  Musso ",
            "Luigi Villoresi ",
            "Maurice Trintignant ",
            "Mike  Hawthorn ",
            "Mike  Nazaruk ",
            "Nino  Farina ",
            "Onofre  Marimon ",
            "Prince  Bira ",
            "Robert Manzon ",
            "Roberto  Mieres ",
            "Sergio  Mantovani ",
            "Stirling  Moss ",
            "Troy  Ruttman ",
            "Umberto Maglioli "
           ],
           "xaxis": "x",
           "y": [
            1.1,
            2,
            8,
            1.5,
            2,
            8,
            5,
            0.1,
            6,
            25.1,
            42,
            12,
            6,
            2,
            17,
            24.6,
            2,
            6,
            4.1,
            3,
            4,
            6,
            4,
            4.1,
            1.5,
            2
           ],
           "yaxis": "y"
          }
         ],
         "name": "1954"
        },
        {
         "data": [
          {
           "alignmentgroup": "True",
           "hovertemplate": "year=2002<br>Driver=%{x}<br>PTS=%{y}<extra></extra>",
           "legendgroup": "",
           "marker": {
            "color": "darkslateblue"
           },
           "name": "",
           "offsetgroup": "",
           "orientation": "v",
           "showlegend": false,
           "textposition": "auto",
           "type": "bar",
           "x": [
            "Alex  Yoong ",
            "Allan  McNish ",
            "David  Coulthard ",
            "Eddie  Irvine ",
            "Enrique  Bernoldi ",
            "Felipe  Massa ",
            "Giancarlo  Fisichella ",
            "Heinz-Harald  Frentzen ",
            "Jacques  Villeneuve ",
            "Jarno  Trulli ",
            "Jenson  Button ",
            "Juan Pablo  Montoya ",
            "Kimi  RÃ¤ikkÃ¶nen ",
            "Mark  Webber ",
            "Michael  Schumacher ",
            "Mika  Salo ",
            "Nick  Heidfeld ",
            "Olivier  Panis ",
            "Pedro  de la Rosa ",
            "Ralf  Schumacher ",
            "Rubens  Barrichello ",
            "Takuma  Sato "
           ],
           "xaxis": "x",
           "y": [
            0,
            0,
            41,
            8,
            0,
            4,
            7,
            2,
            4,
            9,
            14,
            50,
            24,
            2,
            144,
            2,
            7,
            3,
            0,
            42,
            77,
            2
           ],
           "yaxis": "y"
          }
         ],
         "name": "2002"
        },
        {
         "data": [
          {
           "alignmentgroup": "True",
           "hovertemplate": "year=2019<br>Driver=%{x}<br>PTS=%{y}<extra></extra>",
           "legendgroup": "",
           "marker": {
            "color": "darkslateblue"
           },
           "name": "",
           "offsetgroup": "",
           "orientation": "v",
           "showlegend": false,
           "textposition": "auto",
           "type": "bar",
           "x": [
            "Alexander  Albon ",
            "Antonio  Giovinazzi ",
            "Carlos  Sainz ",
            "Charles  Leclerc ",
            "Daniel  Ricciardo ",
            "Daniil  Kvyat ",
            "George  Russell ",
            "Kevin  Magnussen ",
            "Kimi  RÃ¤ikkÃ¶nen ",
            "Lance  Stroll ",
            "Lando  Norris ",
            "Lewis  Hamilton ",
            "Max  Verstappen ",
            "Nico  Hulkenberg ",
            "Pierre  Gasly ",
            "Robert  Kubica ",
            "Romain  Grosjean ",
            "Sebastian  Vettel ",
            "Sergio  Perez ",
            "Valtteri  Bottas "
           ],
           "xaxis": "x",
           "y": [
            92,
            14,
            96,
            264,
            54,
            37,
            0,
            20,
            43,
            21,
            49,
            413,
            278,
            37,
            95,
            1,
            8,
            240,
            52,
            326
           ],
           "yaxis": "y"
          }
         ],
         "name": "2019"
        },
        {
         "data": [
          {
           "alignmentgroup": "True",
           "hovertemplate": "year=2020<br>Driver=%{x}<br>PTS=%{y}<extra></extra>",
           "legendgroup": "",
           "marker": {
            "color": "darkslateblue"
           },
           "name": "",
           "offsetgroup": "",
           "orientation": "v",
           "showlegend": false,
           "textposition": "auto",
           "type": "bar",
           "x": [
            "Alexander  Albon ",
            "Antonio  Giovinazzi ",
            "Carlos  Sainz ",
            "Charles  Leclerc ",
            "Daniel  Ricciardo ",
            "Daniil  Kvyat ",
            "Esteban  Ocon ",
            "George  Russell ",
            "Jack  Aitken ",
            "Kevin  Magnussen ",
            "Kimi  RÃ¤ikkÃ¶nen ",
            "Lance  Stroll ",
            "Lando  Norris ",
            "Lewis  Hamilton ",
            "Max  Verstappen ",
            "Nicholas  Latifi ",
            "Nico  Hulkenberg ",
            "Pierre  Gasly ",
            "Pietro  Fittipaldi ",
            "Romain  Grosjean ",
            "Sebastian  Vettel ",
            "Sergio  Perez ",
            "Valtteri  Bottas "
           ],
           "xaxis": "x",
           "y": [
            105,
            4,
            105,
            98,
            119,
            32,
            62,
            3,
            0,
            1,
            4,
            75,
            97,
            347,
            214,
            0,
            10,
            75,
            0,
            2,
            33,
            125,
            223
           ],
           "yaxis": "y"
          }
         ],
         "name": "2020"
        },
        {
         "data": [
          {
           "alignmentgroup": "True",
           "hovertemplate": "year=2022<br>Driver=%{x}<br>PTS=%{y}<extra></extra>",
           "legendgroup": "",
           "marker": {
            "color": "darkslateblue"
           },
           "name": "",
           "offsetgroup": "",
           "orientation": "v",
           "showlegend": false,
           "textposition": "auto",
           "type": "bar",
           "x": [
            "Alexander  Albon ",
            "Carlos  Sainz ",
            "Charles  Leclerc ",
            "Daniel  Ricciardo ",
            "Esteban  Ocon ",
            "Fernando  Alonso ",
            "George  Russell ",
            "Kevin  Magnussen ",
            "Lance  Stroll ",
            "Lando  Norris ",
            "Lewis  Hamilton ",
            "Max  Verstappen ",
            "Mick  Schumacher ",
            "Nicholas  Latifi ",
            "Nico  Hulkenberg ",
            "Nyck  De Vries ",
            "Pierre  Gasly ",
            "Sebastian  Vettel ",
            "Sergio  Perez ",
            "Valtteri  Bottas ",
            "Yuki  Tsunoda ",
            "Zhou  Guanyu "
           ],
           "xaxis": "x",
           "y": [
            4,
            246,
            308,
            37,
            92,
            81,
            275,
            25,
            18,
            122,
            240,
            454,
            12,
            2,
            0,
            2,
            23,
            37,
            305,
            49,
            12,
            6
           ],
           "yaxis": "y"
          }
         ],
         "name": "2022"
        },
        {
         "data": [
          {
           "alignmentgroup": "True",
           "hovertemplate": "year=2023<br>Driver=%{x}<br>PTS=%{y}<extra></extra>",
           "legendgroup": "",
           "marker": {
            "color": "darkslateblue"
           },
           "name": "",
           "offsetgroup": "",
           "orientation": "v",
           "showlegend": false,
           "textposition": "auto",
           "type": "bar",
           "x": [
            "Alexander  Albon ",
            "Carlos  Sainz ",
            "Charles  Leclerc ",
            "Daniel  Ricciardo ",
            "Esteban  Ocon ",
            "Fernando  Alonso ",
            "George  Russell ",
            "Kevin  Magnussen ",
            "Lance  Stroll ",
            "Lando  Norris ",
            "Lewis  Hamilton ",
            "Liam  Lawson ",
            "Logan  Sargeant ",
            "Max  Verstappen ",
            "Nico  Hulkenberg ",
            "Nyck  De Vries ",
            "Oscar  Piastri ",
            "Pierre  Gasly ",
            "Sergio  Perez ",
            "Valtteri  Bottas ",
            "Yuki  Tsunoda ",
            "Zhou  Guanyu "
           ],
           "xaxis": "x",
           "y": [
            27,
            200,
            206,
            6,
            58,
            206,
            175,
            3,
            74,
            205,
            234,
            2,
            1,
            575,
            9,
            0,
            97,
            62,
            285,
            10,
            17,
            6
           ],
           "yaxis": "y"
          }
         ],
         "name": "2023"
        },
        {
         "data": [
          {
           "alignmentgroup": "True",
           "hovertemplate": "year=2024<br>Driver=%{x}<br>PTS=%{y}<extra></extra>",
           "legendgroup": "",
           "marker": {
            "color": "darkslateblue"
           },
           "name": "",
           "offsetgroup": "",
           "orientation": "v",
           "showlegend": false,
           "textposition": "auto",
           "type": "bar",
           "x": [
            "Alexander  Albon ",
            "Carlos  Sainz ",
            "Charles  Leclerc ",
            "Daniel  Ricciardo ",
            "Esteban  Ocon ",
            "Fernando  Alonso ",
            "George  Russell ",
            "Kevin  Magnussen ",
            "Lance  Stroll ",
            "Lando  Norris ",
            "Lewis  Hamilton ",
            "Logan  Sargeant ",
            "Max  Verstappen ",
            "Nico  Hulkenberg ",
            "Oliver  Bearman ",
            "Oscar  Piastri ",
            "Pierre  Gasly ",
            "Sergio  Perez ",
            "Valtteri  Bottas ",
            "Yuki  Tsunoda ",
            "Zhou  Guanyu "
           ],
           "xaxis": "x",
           "y": [
            2,
            108,
            138,
            5,
            1,
            33,
            54,
            1,
            11,
            113,
            42,
            0,
            169,
            6,
            6,
            71,
            1,
            107,
            0,
            19,
            0
           ],
           "yaxis": "y"
          }
         ],
         "name": "2024"
        },
        {
         "data": [
          {
           "alignmentgroup": "True",
           "hovertemplate": "year=2015<br>Driver=%{x}<br>PTS=%{y}<extra></extra>",
           "legendgroup": "",
           "marker": {
            "color": "darkslateblue"
           },
           "name": "",
           "offsetgroup": "",
           "orientation": "v",
           "showlegend": false,
           "textposition": "auto",
           "type": "bar",
           "x": [
            "Alexander  Rossi ",
            "Carlos  Sainz ",
            "Daniel  Ricciardo ",
            "Daniil  Kvyat ",
            "Felipe  Massa ",
            "Felipe  Nasr ",
            "Fernando  Alonso ",
            "Jenson  Button ",
            "Kimi  RÃ¤ikkÃ¶nen ",
            "Lewis  Hamilton ",
            "Marcus  Ericsson ",
            "Max  Verstappen ",
            "Nico  Hulkenberg ",
            "Nico  Rosberg ",
            "Pastor  Maldonado ",
            "Roberto  Merhi ",
            "Romain  Grosjean ",
            "Sebastian  Vettel ",
            "Sergio  Perez ",
            "Valtteri Bottas ",
            "Will  Stevens "
           ],
           "xaxis": "x",
           "y": [
            0,
            18,
            92,
            95,
            121,
            27,
            11,
            16,
            150,
            381,
            9,
            49,
            58,
            322,
            27,
            0,
            51,
            278,
            78,
            136,
            0
           ],
           "yaxis": "y"
          }
         ],
         "name": "2015"
        },
        {
         "data": [
          {
           "alignmentgroup": "True",
           "hovertemplate": "year=1997<br>Driver=%{x}<br>PTS=%{y}<extra></extra>",
           "legendgroup": "",
           "marker": {
            "color": "darkslateblue"
           },
           "name": "",
           "offsetgroup": "",
           "orientation": "v",
           "showlegend": false,
           "textposition": "auto",
           "type": "bar",
           "x": [
            "Alexander  Wurz ",
            "Damon  Hill ",
            "David  Coulthard ",
            "Eddie  Irvine ",
            "Gerhard  Berger ",
            "Giancarlo  Fisichella ",
            "Heinz-Harald  Frentzen ",
            "Jacques  Villeneuve ",
            "Jarno  Trulli ",
            "Jean  Alesi ",
            "Johnny  Herbert ",
            "Michael  Schumacher ",
            "Mika  Hakkinen ",
            "Mika  Salo ",
            "Nicola  Larini ",
            "Olivier  Panis ",
            "Pedro  Diniz ",
            "Ralf  Schumacher ",
            "Rubens  Barrichello ",
            "Shinji  Nakano "
           ],
           "xaxis": "x",
           "y": [
            4,
            7,
            36,
            24,
            27,
            20,
            42,
            81,
            3,
            36,
            15,
            78,
            27,
            2,
            1,
            16,
            2,
            13,
            6,
            2
           ],
           "yaxis": "y"
          }
         ],
         "name": "1997"
        },
        {
         "data": [
          {
           "alignmentgroup": "True",
           "hovertemplate": "year=1998<br>Driver=%{x}<br>PTS=%{y}<extra></extra>",
           "legendgroup": "",
           "marker": {
            "color": "darkslateblue"
           },
           "name": "",
           "offsetgroup": "",
           "orientation": "v",
           "showlegend": false,
           "textposition": "auto",
           "type": "bar",
           "x": [
            "Alexander  Wurz ",
            "Damon  Hill ",
            "David  Coulthard ",
            "Eddie  Irvine ",
            "Esteban  Tuero ",
            "Giancarlo  Fisichella ",
            "Heinz-Harald  Frentzen ",
            "Jacques  Villeneuve ",
            "Jan  Magnussen ",
            "Jarno  Trulli ",
            "Jean  Alesi ",
            "Johnny  Herbert ",
            "Jos  Verstappen ",
            "Michael  Schumacher ",
            "Mika  Hakkinen ",
            "Mika  Salo ",
            "Olivier  Panis ",
            "Pedro  Diniz ",
            "Ralf  Schumacher ",
            "Ricardo  Rosset ",
            "Rubens  Barrichello ",
            "Shinji  Nakano ",
            "Toranosuke  Takagi "
           ],
           "xaxis": "x",
           "y": [
            17,
            20,
            56,
            47,
            0,
            16,
            17,
            21,
            1,
            1,
            9,
            1,
            0,
            86,
            100,
            3,
            0,
            3,
            14,
            0,
            4,
            0,
            0
           ],
           "yaxis": "y"
          }
         ],
         "name": "1998"
        },
        {
         "data": [
          {
           "alignmentgroup": "True",
           "hovertemplate": "year=1999<br>Driver=%{x}<br>PTS=%{y}<extra></extra>",
           "legendgroup": "",
           "marker": {
            "color": "darkslateblue"
           },
           "name": "",
           "offsetgroup": "",
           "orientation": "v",
           "showlegend": false,
           "textposition": "auto",
           "type": "bar",
           "x": [
            "Alexander  Wurz ",
            "Damon  Hill ",
            "David  Coulthard ",
            "Eddie  Irvine ",
            "Giancarlo  Fisichella ",
            "Heinz-Harald  Frentzen ",
            "Jarno  Trulli ",
            "Jean  Alesi ",
            "Johnny  Herbert ",
            "Marc  Gene ",
            "Michael  Schumacher ",
            "Mika  Hakkinen ",
            "Mika  Salo ",
            "Olivier  Panis ",
            "Pedro  Diniz ",
            "Pedro  de la Rosa ",
            "Ralf  Schumacher ",
            "Rubens  Barrichello "
           ],
           "xaxis": "x",
           "y": [
            3,
            7,
            48,
            74,
            13,
            54,
            7,
            2,
            15,
            1,
            44,
            76,
            10,
            2,
            3,
            1,
            35,
            21
           ],
           "yaxis": "y"
          }
         ],
         "name": "1999"
        },
        {
         "data": [
          {
           "alignmentgroup": "True",
           "hovertemplate": "year=2000<br>Driver=%{x}<br>PTS=%{y}<extra></extra>",
           "legendgroup": "",
           "marker": {
            "color": "darkslateblue"
           },
           "name": "",
           "offsetgroup": "",
           "orientation": "v",
           "showlegend": false,
           "textposition": "auto",
           "type": "bar",
           "x": [
            "Alexander  Wurz ",
            "David  Coulthard ",
            "Eddie  Irvine ",
            "Gaston  Mazzacane ",
            "Giancarlo  Fisichella ",
            "Heinz-Harald  Frentzen ",
            "Jacques  Villeneuve ",
            "Jarno  Trulli ",
            "Jean  Alesi ",
            "Jenson  Button ",
            "Johnny  Herbert ",
            "Jos  Verstappen ",
            "Luciano  Burti ",
            "Marc  Gene ",
            "Michael  Schumacher ",
            "Mika  Hakkinen ",
            "Mika  Salo ",
            "Nick  Heidfeld ",
            "Pedro  Diniz ",
            "Pedro  de la Rosa ",
            "Ralf  Schumacher ",
            "Ricardo  Zonta ",
            "Rubens  Barrichello "
           ],
           "xaxis": "x",
           "y": [
            2,
            73,
            4,
            0,
            18,
            11,
            17,
            6,
            0,
            12,
            0,
            5,
            0,
            0,
            108,
            89,
            6,
            0,
            0,
            2,
            24,
            3,
            62
           ],
           "yaxis": "y"
          }
         ],
         "name": "2000"
        },
        {
         "data": [
          {
           "alignmentgroup": "True",
           "hovertemplate": "year=2005<br>Driver=%{x}<br>PTS=%{y}<extra></extra>",
           "legendgroup": "",
           "marker": {
            "color": "darkslateblue"
           },
           "name": "",
           "offsetgroup": "",
           "orientation": "v",
           "showlegend": false,
           "textposition": "auto",
           "type": "bar",
           "x": [
            "Alexander  Wurz ",
            "Antonio  Pizzonia ",
            "Christian  Klien ",
            "Christijan  Albers ",
            "David  Coulthard ",
            "Felipe  Massa ",
            "Fernando  Alonso ",
            "Giancarlo  Fisichella ",
            "Jacques  Villeneuve ",
            "Jarno  Trulli ",
            "Jenson  Button ",
            "Juan Pablo  Montoya ",
            "Kimi  RÃ¤ikkÃ¶nen ",
            "Mark  Webber ",
            "Michael  Schumacher ",
            "Narain  Karthikeyan ",
            "Nick  Heidfeld ",
            "Patrick  Friesacher",
            "Pedro  de la Rosa ",
            "Ralf  Schumacher ",
            "Robert  Doornbos ",
            "Rubens  Barrichello ",
            "Takuma  Sato ",
            "Tiago  Monteiro ",
            "Vitantonio  Liuzzi "
           ],
           "xaxis": "x",
           "y": [
            6,
            2,
            9,
            4,
            24,
            11,
            133,
            58,
            9,
            43,
            37,
            60,
            112,
            36,
            62,
            5,
            28,
            3,
            4,
            45,
            0,
            38,
            1,
            7,
            1
           ],
           "yaxis": "y"
          }
         ],
         "name": "2005"
        },
        {
         "data": [
          {
           "alignmentgroup": "True",
           "hovertemplate": "year=1956<br>Driver=%{x}<br>PTS=%{y}<extra></extra>",
           "legendgroup": "",
           "marker": {
            "color": "darkslateblue"
           },
           "name": "",
           "offsetgroup": "",
           "orientation": "v",
           "showlegend": false,
           "textposition": "auto",
           "type": "bar",
           "x": [
            "Alfonso  de Portago",
            "Cesare  Perdisa ",
            "Chico  Landi ",
            "Dick  Rathmann ",
            "Don Freeland ",
            "Eugenio  Castellotti ",
            "Gerino Gerini",
            "Harry  Schell ",
            "Hermano  da Silva Ramos ",
            "Horace Gould",
            "Jack Fairman ",
            "Jean  Behra ",
            "Johnnie Parsons ",
            "Juan Manuel  Fangio ",
            "Louis Rosier ",
            "Luigi  Musso ",
            "Luigi Villoresi ",
            "Mike  Hawthorn ",
            "Olivier Gendebien ",
            "Paco Godia ",
            "Pat  Flaherty ",
            "Paul  Frere ",
            "Paul  Russo ",
            "Peter  Collins ",
            "Ron  Flockhart ",
            "Sam  Hanks ",
            "Stirling  Moss "
           ],
           "xaxis": "x",
           "y": [
            3,
            3,
            1.5,
            2,
            4,
            7.5,
            1.5,
            3,
            2,
            2,
            5,
            22,
            3,
            30,
            2,
            4,
            2,
            4,
            2,
            6,
            8,
            6,
            1,
            25,
            4,
            6,
            27
           ],
           "yaxis": "y"
          }
         ],
         "name": "1956"
        },
        {
         "data": [
          {
           "alignmentgroup": "True",
           "hovertemplate": "year=1957<br>Driver=%{x}<br>PTS=%{y}<extra></extra>",
           "legendgroup": "",
           "marker": {
            "color": "darkslateblue"
           },
           "name": "",
           "offsetgroup": "",
           "orientation": "v",
           "showlegend": false,
           "textposition": "auto",
           "type": "bar",
           "x": [
            "Alfonso  de Portago",
            "Andy  Linden ",
            "Carlos  Menditeguy ",
            "Giorgio Scarlatti",
            "Harry  Schell ",
            "Jean  Behra ",
            "Jim  Rathmann ",
            "Jimmy  Bryan ",
            "Jose Froilan  Gonzalez ",
            "Juan Manuel  Fangio ",
            "Luigi  Musso ",
            "Masten  Gregory ",
            "Maurice Trintignant ",
            "Mike  Hawthorn ",
            "Paul  Russo ",
            "Peter  Collins ",
            "Roy  Salvadori ",
            "Sam  Hanks ",
            "Stirling  Moss ",
            "Stuart Lewis-Evans",
            "Tony  Brooks ",
            "Wolfgang  von Trips "
           ],
           "xaxis": "x",
           "y": [
            1,
            2,
            4,
            1,
            10,
            6,
            7,
            4,
            1,
            40,
            16,
            10,
            5,
            13,
            3,
            8,
            2,
            8,
            25,
            5,
            11,
            4
           ],
           "yaxis": "y"
          }
         ],
         "name": "1957"
        },
        {
         "data": [
          {
           "alignmentgroup": "True",
           "hovertemplate": "year=1972<br>Driver=%{x}<br>PTS=%{y}<extra></extra>",
           "legendgroup": "",
           "marker": {
            "color": "darkslateblue"
           },
           "name": "",
           "offsetgroup": "",
           "orientation": "v",
           "showlegend": false,
           "textposition": "auto",
           "type": "bar",
           "x": [
            "Andrea  de Adamich",
            "Arturo  Merzario ",
            "Brian Redman ",
            "Carlos  Pace ",
            "Carlos  Reutemann ",
            "Chris  Amon ",
            "Clay  Regazzoni ",
            "Denny  Hulme ",
            "Emerson  Fittipaldi ",
            "Francois Cevert",
            "Graham  Hill ",
            "Howden Ganley",
            "Jackie  Stewart ",
            "Jacky  Ickx ",
            "Jean-Pierre  Beltoise ",
            "Mario  Andretti ",
            "Mike  Hailwood ",
            "Peter Gethin",
            "Peter Revson ",
            "Ronnie  Peterson ",
            "Tim Schenken "
           ],
           "xaxis": "x",
           "y": [
            3,
            1,
            4,
            3,
            3,
            12,
            15,
            39,
            61,
            15,
            4,
            4,
            45,
            27,
            9,
            4,
            13,
            1,
            23,
            12,
            2
           ],
           "yaxis": "y"
          }
         ],
         "name": "1972"
        },
        {
         "data": [
          {
           "alignmentgroup": "True",
           "hovertemplate": "year=1973<br>Driver=%{x}<br>PTS=%{y}<extra></extra>",
           "legendgroup": "",
           "marker": {
            "color": "darkslateblue"
           },
           "name": "",
           "offsetgroup": "",
           "orientation": "v",
           "showlegend": false,
           "textposition": "auto",
           "type": "bar",
           "x": [
            "Andrea  de Adamich",
            "Arturo  Merzario ",
            "Carlos  Pace ",
            "Carlos  Reutemann ",
            "Chris  Amon ",
            "Clay  Regazzoni ",
            "Denny  Hulme ",
            "Emerson  Fittipaldi ",
            "Francois Cevert",
            "George Follmer",
            "Gijs  van Lennep ",
            "Howden Ganley",
            "Jackie  Oliver ",
            "Jackie  Stewart ",
            "Jacky  Ickx ",
            "James  Hunt ",
            "Jean-Pierre  Beltoise ",
            "Niki  Lauda ",
            "Peter Revson ",
            "Ronnie  Peterson ",
            "Wilson  Fittipaldi "
           ],
           "xaxis": "x",
           "y": [
            3,
            6,
            7,
            16,
            1,
            2,
            26,
            55,
            47,
            5,
            1,
            1,
            4,
            71,
            12,
            14,
            9,
            2,
            38,
            52,
            3
           ],
           "yaxis": "y"
          }
         ],
         "name": "1973"
        },
        {
         "data": [
          {
           "alignmentgroup": "True",
           "hovertemplate": "year=1992<br>Driver=%{x}<br>PTS=%{y}<extra></extra>",
           "legendgroup": "",
           "marker": {
            "color": "darkslateblue"
           },
           "name": "",
           "offsetgroup": "",
           "orientation": "v",
           "showlegend": false,
           "textposition": "auto",
           "type": "bar",
           "x": [
            "Andrea  de Cesaris ",
            "Ayrton  Senna ",
            "Bertrand  Gachot ",
            "Christian  Fittipaldi ",
            "Erik  Comas ",
            "Gerhard  Berger ",
            "Ivan  Capelli ",
            "Jean  Alesi ",
            "Johnny  Herbert ",
            "Karl  Wendlinger ",
            "Martin  Brundle ",
            "Michael  Schumacher ",
            "Michele  Alboreto ",
            "Mika  Hakkinen ",
            "Nigel  Mansell ",
            "Pierluigi  Martini ",
            "Riccardo  Patrese ",
            "Stefano  Modena ",
            "Thierry  Boutsen "
           ],
           "xaxis": "x",
           "y": [
            8,
            50,
            1,
            1,
            4,
            49,
            3,
            18,
            2,
            3,
            38,
            53,
            6,
            11,
            108,
            2,
            56,
            1,
            2
           ],
           "yaxis": "y"
          }
         ],
         "name": "1992"
        },
        {
         "data": [
          {
           "alignmentgroup": "True",
           "hovertemplate": "year=1994<br>Driver=%{x}<br>PTS=%{y}<extra></extra>",
           "legendgroup": "",
           "marker": {
            "color": "darkslateblue"
           },
           "name": "",
           "offsetgroup": "",
           "orientation": "v",
           "showlegend": false,
           "textposition": "auto",
           "type": "bar",
           "x": [
            "Andrea  de Cesaris ",
            "Christian  Fittipaldi ",
            "Damon  Hill ",
            "David  Coulthard ",
            "Eddie  Irvine ",
            "Eric  Bernard ",
            "Erik  Comas ",
            "Gerhard  Berger ",
            "Gianni  Morbidelli ",
            "Heinz-Harald  Frentzen ",
            "Jean  Alesi ",
            "Jos  Verstappen ",
            "Jyrki  Jarvilehto ",
            "Karl  Wendlinger ",
            "Mark  Blundell ",
            "Martin  Brundle ",
            "Michael  Schumacher ",
            "Michele  Alboreto ",
            "Mika  Hakkinen ",
            "Nicola  Larini ",
            "Nigel  Mansell ",
            "Olivier  Panis ",
            "Pierluigi  Martini ",
            "Rubens  Barrichello ",
            "Ukyo  Katayama "
           ],
           "xaxis": "x",
           "y": [
            4,
            6,
            91,
            14,
            6,
            4,
            2,
            41,
            3,
            7,
            24,
            10,
            1,
            4,
            8,
            16,
            92,
            1,
            26,
            6,
            13,
            9,
            4,
            19,
            5
           ],
           "yaxis": "y"
          }
         ],
         "name": "1994"
        },
        {
         "data": [
          {
           "alignmentgroup": "True",
           "hovertemplate": "year=2017<br>Driver=%{x}<br>PTS=%{y}<extra></extra>",
           "legendgroup": "",
           "marker": {
            "color": "darkslateblue"
           },
           "name": "",
           "offsetgroup": "",
           "orientation": "v",
           "showlegend": false,
           "textposition": "auto",
           "type": "bar",
           "x": [
            "Antonio  Giovinazzi ",
            "Brendon  Hartley ",
            "Carlos  Sainz ",
            "Daniel  Ricciardo ",
            "Daniil  Kvyat ",
            "Esteban  Ocon ",
            "Felipe  Massa ",
            "Fernando  Alonso ",
            "Jolyon  Palmer ",
            "Kevin  Magnussen ",
            "Kimi  RÃ¤ikkÃ¶nen ",
            "Lance  Stroll ",
            "Lewis  Hamilton ",
            "Marcus  Ericsson ",
            "Max  Verstappen ",
            "Nico  Hulkenberg ",
            "Pascal  Wehrlein ",
            "Pierre  Gasly ",
            "Romain  Grosjean ",
            "Sebastian  Vettel ",
            "Sergio  Perez ",
            "Stoffel  Vandoorne ",
            "Valtteri Bottas "
           ],
           "xaxis": "x",
           "y": [
            0,
            0,
            54,
            200,
            5,
            87,
            43,
            17,
            8,
            19,
            205,
            40,
            363,
            0,
            168,
            43,
            5,
            0,
            28,
            317,
            100,
            13,
            305
           ],
           "yaxis": "y"
          }
         ],
         "name": "2017"
        },
        {
         "data": [
          {
           "alignmentgroup": "True",
           "hovertemplate": "year=2021<br>Driver=%{x}<br>PTS=%{y}<extra></extra>",
           "legendgroup": "",
           "marker": {
            "color": "darkslateblue"
           },
           "name": "",
           "offsetgroup": "",
           "orientation": "v",
           "showlegend": false,
           "textposition": "auto",
           "type": "bar",
           "x": [
            "Antonio  Giovinazzi ",
            "Carlos  Sainz ",
            "Charles  Leclerc ",
            "Daniel  Ricciardo ",
            "Esteban  Ocon ",
            "Fernando  Alonso ",
            "George  Russell ",
            "Kimi  RÃ¤ikkÃ¶nen ",
            "Lance  Stroll ",
            "Lando  Norris ",
            "Lewis  Hamilton ",
            "Max  Verstappen ",
            "Mick  Schumacher ",
            "Nicholas  Latifi ",
            "Nikita  Mazepin ",
            "Pierre  Gasly ",
            "Robert  Kubica ",
            "Sebastian  Vettel ",
            "Sergio  Perez ",
            "Valtteri  Bottas ",
            "Yuki  Tsunoda "
           ],
           "xaxis": "x",
           "y": [
            3,
            164.5,
            159,
            115,
            74,
            81,
            16,
            10,
            34,
            160,
            387.5,
            395.5,
            0,
            7,
            0,
            110,
            0,
            43,
            190,
            226,
            32
           ],
           "yaxis": "y"
          }
         ],
         "name": "2021"
        },
        {
         "data": [
          {
           "alignmentgroup": "True",
           "hovertemplate": "year=2003<br>Driver=%{x}<br>PTS=%{y}<extra></extra>",
           "legendgroup": "",
           "marker": {
            "color": "darkslateblue"
           },
           "name": "",
           "offsetgroup": "",
           "orientation": "v",
           "showlegend": false,
           "textposition": "auto",
           "type": "bar",
           "x": [
            "Antonio  Pizzonia ",
            "Cristiano  da Matta ",
            "David  Coulthard ",
            "Fernando  Alonso ",
            "Giancarlo  Fisichella ",
            "Heinz-Harald  Frentzen ",
            "Jacques  Villeneuve ",
            "Jarno  Trulli ",
            "Jenson  Button ",
            "Jos  Verstappen ",
            "Juan Pablo  Montoya ",
            "Justin  Wilson ",
            "Kimi  RÃ¤ikkÃ¶nen ",
            "Marc  Gene ",
            "Mark  Webber ",
            "Michael  Schumacher ",
            "Nick  Heidfeld ",
            "Nicolas  Kiesa ",
            "Olivier  Panis ",
            "Ralf  Schumacher ",
            "Ralph  Firman ",
            "Rubens  Barrichello ",
            "Takuma  Sato ",
            "Zsolt  Baumgartner "
           ],
           "xaxis": "x",
           "y": [
            0,
            10,
            51,
            55,
            12,
            13,
            6,
            33,
            17,
            0,
            82,
            1,
            91,
            4,
            17,
            93,
            6,
            0,
            6,
            58,
            1,
            65,
            3,
            0
           ],
           "yaxis": "y"
          }
         ],
         "name": "2003"
        },
        {
         "data": [
          {
           "alignmentgroup": "True",
           "hovertemplate": "year=2004<br>Driver=%{x}<br>PTS=%{y}<extra></extra>",
           "legendgroup": "",
           "marker": {
            "color": "darkslateblue"
           },
           "name": "",
           "offsetgroup": "",
           "orientation": "v",
           "showlegend": false,
           "textposition": "auto",
           "type": "bar",
           "x": [
            "Antonio  Pizzonia ",
            "Christian  Klien ",
            "Cristiano  da Matta ",
            "David  Coulthard ",
            "Felipe  Massa ",
            "Fernando  Alonso ",
            "Giancarlo  Fisichella ",
            "Gianmaria  Bruni ",
            "Giorgio  Pantano ",
            "Jacques  Villeneuve ",
            "Jarno  Trulli ",
            "Jenson  Button ",
            "Juan Pablo  Montoya ",
            "Kimi  RÃ¤ikkÃ¶nen ",
            "Marc  Gene ",
            "Mark  Webber ",
            "Michael  Schumacher ",
            "Nick  Heidfeld ",
            "Olivier  Panis ",
            "Ralf  Schumacher ",
            "Ricardo  Zonta ",
            "Rubens  Barrichello ",
            "Takuma  Sato ",
            "Timo  Glock ",
            "Zsolt  Baumgartner "
           ],
           "xaxis": "x",
           "y": [
            6,
            3,
            3,
            24,
            12,
            59,
            22,
            0,
            0,
            0,
            46,
            85,
            58,
            45,
            0,
            7,
            148,
            3,
            6,
            24,
            0,
            114,
            34,
            2,
            1
           ],
           "yaxis": "y"
          }
         ],
         "name": "2004"
        },
        {
         "data": [
          {
           "alignmentgroup": "True",
           "hovertemplate": "year=1974<br>Driver=%{x}<br>PTS=%{y}<extra></extra>",
           "legendgroup": "",
           "marker": {
            "color": "darkslateblue"
           },
           "name": "",
           "offsetgroup": "",
           "orientation": "v",
           "showlegend": false,
           "textposition": "auto",
           "type": "bar",
           "x": [
            "Arturo  Merzario ",
            "Carlos  Pace ",
            "Carlos  Reutemann ",
            "Clay  Regazzoni ",
            "Denny  Hulme ",
            "Emerson  Fittipaldi ",
            "Graham  Hill ",
            "Hans-Joachim  Stuck ",
            "Jacky  Ickx ",
            "James  Hunt ",
            "Jean-Pierre  Beltoise ",
            "Jean-Pierre  Jarier ",
            "Jody  Scheckter ",
            "John  Watson ",
            "Mike  Hailwood ",
            "Niki  Lauda ",
            "Patrick  Depailler ",
            "Ronnie  Peterson ",
            "Tom  Pryce ",
            "Vittorio  Brambilla "
           ],
           "xaxis": "x",
           "y": [
            4,
            11,
            32,
            52,
            20,
            55,
            1,
            5,
            12,
            15,
            10,
            6,
            45,
            6,
            12,
            38,
            14,
            35,
            1,
            1
           ],
           "yaxis": "y"
          }
         ],
         "name": "1974"
        },
        {
         "data": [
          {
           "alignmentgroup": "True",
           "hovertemplate": "year=1963<br>Driver=%{x}<br>PTS=%{y}<extra></extra>",
           "legendgroup": "",
           "marker": {
            "color": "darkslateblue"
           },
           "name": "",
           "offsetgroup": "",
           "orientation": "v",
           "showlegend": false,
           "textposition": "auto",
           "type": "bar",
           "x": [
            "Bernard Collomb",
            "Bob  Anderson ",
            "Brausch  Niemann ",
            "Bruce  McLaren ",
            "Carel Godin  de Beaufort",
            "Chris  Amon ",
            "Dan  Gurney ",
            "David  Prophet ",
            "Doug  Serrurier ",
            "Ernie  Pieterse ",
            "Gerhard  Mitter ",
            "Giancarlo  Baghetti ",
            "Graham  Hill ",
            "Hap Sharp",
            "Ian  Burgess",
            "Ian  Raby ",
            "Innes  Ireland ",
            "Jack  Brabham ",
            "Jim  Clark ",
            "Jim Hall",
            "Jo  Bonnier ",
            "Jo  Siffert ",
            "John  Love ",
            "John  Surtees ",
            "John Campbell-Jones",
            "Lorenzo  Bandini ",
            "Lucien  Bianchi ",
            "Ludovico  Scarfiotti ",
            "Mario de Araujo Cabral",
            "Masten  Gregory ",
            "Maurice Trintignant ",
            "Mike  Hailwood ",
            "Mike  Spence ",
            "Moises  Solana ",
            "Pedro  Rodriguez ",
            "Peter  Broeker",
            "Peter  de Klerk ",
            "Phil  Hill ",
            "Richie  Ginther ",
            "Rodger  Ward ",
            "Sam  Tingle ",
            "Tony  Maggs ",
            "Tony Settember",
            "Trevor  Blokdyk ",
            "Trevor Taylor",
            "Willy  Mairesse "
           ],
           "xaxis": "x",
           "y": [
            0,
            0,
            0,
            17,
            2,
            0,
            19,
            0,
            0,
            0,
            3,
            0,
            29,
            0,
            0,
            0,
            6,
            14,
            54,
            3,
            6,
            1,
            0,
            22,
            0,
            6,
            0,
            1,
            0,
            0,
            0,
            0,
            0,
            0,
            0,
            0,
            0,
            0,
            29,
            0,
            0,
            9,
            0,
            0,
            1,
            0
           ],
           "yaxis": "y"
          }
         ],
         "name": "1963"
        },
        {
         "data": [
          {
           "alignmentgroup": "True",
           "hovertemplate": "year=1955<br>Driver=%{x}<br>PTS=%{y}<extra></extra>",
           "legendgroup": "",
           "marker": {
            "color": "darkslateblue"
           },
           "name": "",
           "offsetgroup": "",
           "orientation": "v",
           "showlegend": false,
           "textposition": "auto",
           "type": "bar",
           "x": [
            "Bill  Homeier ",
            "Bill Vukovich",
            "Bob  Sweikert ",
            "Carlos  Menditeguy ",
            "Cesare  Perdisa ",
            "Eugenio  Castellotti ",
            "Hans Herrmann ",
            "Jean  Behra ",
            "Jimmy  Davies ",
            "Johnny  Thomson ",
            "Jose Froilan  Gonzalez ",
            "Juan Manuel  Fangio ",
            "Karl  Kling ",
            "Luigi  Musso ",
            "Luigi Villoresi ",
            "Maurice Trintignant ",
            "Nino  Farina ",
            "Paul  Frere ",
            "Paul  Russo ",
            "Piero Taruffi ",
            "Roberto  Mieres ",
            "Stirling  Moss ",
            "Tony Bettenhausen ",
            "Umberto Maglioli ",
            "Walt Faulkner "
           ],
           "xaxis": "x",
           "y": [
            1,
            1,
            8,
            2,
            2,
            12,
            1,
            6,
            4,
            3,
            2,
            40,
            5,
            6,
            2,
            11.3,
            10.3,
            3,
            3,
            9,
            7,
            23,
            3,
            1.3,
            1
           ],
           "yaxis": "y"
          }
         ],
         "name": "1955"
        },
        {
         "data": [
          {
           "alignmentgroup": "True",
           "hovertemplate": "year=1964<br>Driver=%{x}<br>PTS=%{y}<extra></extra>",
           "legendgroup": "",
           "marker": {
            "color": "darkslateblue"
           },
           "name": "",
           "offsetgroup": "",
           "orientation": "v",
           "showlegend": false,
           "textposition": "auto",
           "type": "bar",
           "x": [
            "Bob  Anderson ",
            "Bruce  McLaren ",
            "Chris  Amon ",
            "Dan  Gurney ",
            "Graham  Hill ",
            "Innes  Ireland ",
            "Jack  Brabham ",
            "Jim  Clark ",
            "Jo  Bonnier ",
            "Jo  Siffert ",
            "John  Surtees ",
            "Lorenzo  Bandini ",
            "Maurice Trintignant ",
            "Mike  Hailwood ",
            "Mike  Spence ",
            "Pedro  Rodriguez ",
            "Peter Arundell",
            "Phil  Hill ",
            "Richie  Ginther ",
            "Tony  Maggs ",
            "Trevor Taylor",
            "Walt Hansgen "
           ],
           "xaxis": "x",
           "y": [
            5,
            13,
            2,
            19,
            39,
            4,
            11,
            32,
            3,
            7,
            40,
            23,
            2,
            1,
            4,
            1,
            11,
            1,
            23,
            4,
            1,
            2
           ],
           "yaxis": "y"
          }
         ],
         "name": "1964"
        },
        {
         "data": [
          {
           "alignmentgroup": "True",
           "hovertemplate": "year=1966<br>Driver=%{x}<br>PTS=%{y}<extra></extra>",
           "legendgroup": "",
           "marker": {
            "color": "darkslateblue"
           },
           "name": "",
           "offsetgroup": "",
           "orientation": "v",
           "showlegend": false,
           "textposition": "auto",
           "type": "bar",
           "x": [
            "Bob  Anderson ",
            "Bob  Bondurant ",
            "Bruce  McLaren ",
            "Dan  Gurney ",
            "Denny  Hulme ",
            "Graham  Hill ",
            "Jack  Brabham ",
            "Jackie  Stewart ",
            "Jim  Clark ",
            "Jo  Bonnier ",
            "Jo  Siffert ",
            "Jochen  Rindt ",
            "John  Surtees ",
            "John Taylor",
            "Lorenzo  Bandini ",
            "Ludovico  Scarfiotti ",
            "Mike  Spence ",
            "Mike Parkes",
            "Peter Arundell",
            "Richie  Ginther "
           ],
           "xaxis": "x",
           "y": [
            1,
            3,
            3,
            4,
            18,
            17,
            42,
            14,
            16,
            1,
            3,
            22,
            28,
            1,
            12,
            9,
            4,
            12,
            1,
            5
           ],
           "yaxis": "y"
          }
         ],
         "name": "1966"
        },
        {
         "data": [
          {
           "alignmentgroup": "True",
           "hovertemplate": "year=1967<br>Driver=%{x}<br>PTS=%{y}<extra></extra>",
           "legendgroup": "",
           "marker": {
            "color": "darkslateblue"
           },
           "name": "",
           "offsetgroup": "",
           "orientation": "v",
           "showlegend": false,
           "textposition": "auto",
           "type": "bar",
           "x": [
            "Bob  Anderson ",
            "Bruce  McLaren ",
            "Chris  Amon ",
            "Chris Irwin ",
            "Dan  Gurney ",
            "Denny  Hulme ",
            "Graham  Hill ",
            "Guy Ligier",
            "Jack  Brabham ",
            "Jackie  Stewart ",
            "Jacky  Ickx ",
            "Jim  Clark ",
            "Jo  Bonnier ",
            "Jo  Siffert ",
            "Jochen  Rindt ",
            "John  Love ",
            "John  Surtees ",
            "Ludovico  Scarfiotti ",
            "Mike  Spence ",
            "Mike Parkes",
            "Pedro  Rodriguez "
           ],
           "xaxis": "x",
           "y": [
            2,
            3,
            20,
            2,
            13,
            51,
            15,
            1,
            46,
            10,
            1,
            41,
            3,
            6,
            6,
            6,
            20,
            1,
            9,
            2,
            15
           ],
           "yaxis": "y"
          }
         ],
         "name": "1967"
        },
        {
         "data": [
          {
           "alignmentgroup": "True",
           "hovertemplate": "year=2018<br>Driver=%{x}<br>PTS=%{y}<extra></extra>",
           "legendgroup": "",
           "marker": {
            "color": "darkslateblue"
           },
           "name": "",
           "offsetgroup": "",
           "orientation": "v",
           "showlegend": false,
           "textposition": "auto",
           "type": "bar",
           "x": [
            "Brendon  Hartley ",
            "Carlos  Sainz ",
            "Charles  Leclerc ",
            "Daniel  Ricciardo ",
            "Esteban  Ocon ",
            "Fernando  Alonso ",
            "Kevin  Magnussen ",
            "Kimi  RÃ¤ikkÃ¶nen ",
            "Lance  Stroll ",
            "Lewis  Hamilton ",
            "Marcus  Ericsson ",
            "Max  Verstappen ",
            "Nico  Hulkenberg ",
            "Pierre  Gasly ",
            "Romain  Grosjean ",
            "Sebastian  Vettel ",
            "Sergey  Sirotkin ",
            "Sergio  Perez ",
            "Stoffel  Vandoorne ",
            "Valtteri  Bottas "
           ],
           "xaxis": "x",
           "y": [
            4,
            53,
            39,
            170,
            49,
            50,
            56,
            251,
            6,
            408,
            9,
            249,
            69,
            29,
            37,
            320,
            1,
            62,
            12,
            247
           ],
           "yaxis": "y"
          }
         ],
         "name": "2018"
        },
        {
         "data": [
          {
           "alignmentgroup": "True",
           "hovertemplate": "year=1968<br>Driver=%{x}<br>PTS=%{y}<extra></extra>",
           "legendgroup": "",
           "marker": {
            "color": "darkslateblue"
           },
           "name": "",
           "offsetgroup": "",
           "orientation": "v",
           "showlegend": false,
           "textposition": "auto",
           "type": "bar",
           "x": [
            "Brian Redman ",
            "Bruce  McLaren ",
            "Chris  Amon ",
            "Dan  Gurney ",
            "Denny  Hulme ",
            "Graham  Hill ",
            "Jack  Brabham ",
            "Jackie  Oliver ",
            "Jackie  Stewart ",
            "Jacky  Ickx ",
            "Jean-Pierre  Beltoise ",
            "Jim  Clark ",
            "Jo  Bonnier ",
            "Jo  Siffert ",
            "Jochen  Rindt ",
            "John  Surtees ",
            "Johnny Servoz-Gavin",
            "Lucien  Bianchi ",
            "Ludovico  Scarfiotti ",
            "Pedro  Rodriguez ",
            "Piers Courage ",
            "Richard  Attwood ",
            "Silvio Moser",
            "Vic Elford"
           ],
           "xaxis": "x",
           "y": [
            4,
            22,
            10,
            3,
            33,
            48,
            2,
            6,
            36,
            27,
            11,
            9,
            3,
            12,
            8,
            12,
            6,
            5,
            6,
            18,
            4,
            6,
            2,
            5
           ],
           "yaxis": "y"
          }
         ],
         "name": "1968"
        },
        {
         "data": [
          {
           "alignmentgroup": "True",
           "hovertemplate": "year=1959<br>Driver=%{x}<br>PTS=%{y}<extra></extra>",
           "legendgroup": "",
           "marker": {
            "color": "darkslateblue"
           },
           "name": "",
           "offsetgroup": "",
           "orientation": "v",
           "showlegend": false,
           "textposition": "auto",
           "type": "bar",
           "x": [
            "Bruce  McLaren ",
            "Cliff  Allison ",
            "Dan  Gurney ",
            "Harry  Schell ",
            "Innes  Ireland ",
            "Jack  Brabham ",
            "Jean  Behra ",
            "Jim  Rathmann ",
            "Jo  Bonnier ",
            "Johnny  Thomson ",
            "Masten  Gregory ",
            "Maurice Trintignant ",
            "Olivier Gendebien ",
            "Paul  Goldsmith ",
            "Phil  Hill ",
            "Rodger  Ward ",
            "Stirling  Moss ",
            "Tony  Brooks ",
            "Tony Bettenhausen "
           ],
           "xaxis": "x",
           "y": [
            16.5,
            2,
            13,
            5,
            5,
            31,
            2,
            6,
            10,
            5,
            10,
            19,
            3,
            2,
            20,
            8,
            25.5,
            27,
            3
           ],
           "yaxis": "y"
          }
         ],
         "name": "1959"
        },
        {
         "data": [
          {
           "alignmentgroup": "True",
           "hovertemplate": "year=1960<br>Driver=%{x}<br>PTS=%{y}<extra></extra>",
           "legendgroup": "",
           "marker": {
            "color": "darkslateblue"
           },
           "name": "",
           "offsetgroup": "",
           "orientation": "v",
           "showlegend": false,
           "textposition": "auto",
           "type": "bar",
           "x": [
            "Bruce  McLaren ",
            "Carlos  Menditeguy ",
            "Cliff  Allison ",
            "Don Branson ",
            "Eddie  Johnson ",
            "Giulio  Cabianca ",
            "Graham  Hill ",
            "Hans Herrmann ",
            "Henry  Taylor ",
            "Innes  Ireland ",
            "Jack  Brabham ",
            "Jim  Clark ",
            "Jim  Rathmann ",
            "Jo  Bonnier ",
            "John  Surtees ",
            "Johnny  Thomson ",
            "Lucien  Bianchi ",
            "Olivier Gendebien ",
            "Paul  Goldsmith ",
            "Phil  Hill ",
            "Richie  Ginther ",
            "Rodger  Ward ",
            "Ron  Flockhart ",
            "Stirling  Moss ",
            "Tony  Brooks ",
            "Willy  Mairesse ",
            "Wolfgang  von Trips "
           ],
           "xaxis": "x",
           "y": [
            34,
            3,
            6,
            3,
            1,
            3,
            4,
            1,
            3,
            18,
            43,
            8,
            8,
            4,
            6,
            2,
            1,
            10,
            4,
            16,
            8,
            6,
            1,
            19,
            7,
            4,
            10
           ],
           "yaxis": "y"
          }
         ],
         "name": "1960"
        },
        {
         "data": [
          {
           "alignmentgroup": "True",
           "hovertemplate": "year=1961<br>Driver=%{x}<br>PTS=%{y}<extra></extra>",
           "legendgroup": "",
           "marker": {
            "color": "darkslateblue"
           },
           "name": "",
           "offsetgroup": "",
           "orientation": "v",
           "showlegend": false,
           "textposition": "auto",
           "type": "bar",
           "x": [
            "Bruce  McLaren ",
            "Dan  Gurney ",
            "Giancarlo  Baghetti ",
            "Graham  Hill ",
            "Innes  Ireland ",
            "Jack  Brabham ",
            "Jackie Lewis",
            "Jim  Clark ",
            "Jo  Bonnier ",
            "John  Surtees ",
            "Olivier Gendebien ",
            "Phil  Hill ",
            "Richie  Ginther ",
            "Roy  Salvadori ",
            "Stirling  Moss ",
            "Tony  Brooks ",
            "Wolfgang  von Trips "
           ],
           "xaxis": "x",
           "y": [
            11,
            21,
            9,
            3,
            12,
            4,
            3,
            11,
            3,
            4,
            3,
            34,
            16,
            2,
            21,
            6,
            33
           ],
           "yaxis": "y"
          }
         ],
         "name": "1961"
        },
        {
         "data": [
          {
           "alignmentgroup": "True",
           "hovertemplate": "year=1962<br>Driver=%{x}<br>PTS=%{y}<extra></extra>",
           "legendgroup": "",
           "marker": {
            "color": "darkslateblue"
           },
           "name": "",
           "offsetgroup": "",
           "orientation": "v",
           "showlegend": false,
           "textposition": "auto",
           "type": "bar",
           "x": [
            "Bruce  McLaren ",
            "Carel Godin  de Beaufort",
            "Dan  Gurney ",
            "Giancarlo  Baghetti ",
            "Graham  Hill ",
            "Innes  Ireland ",
            "Jack  Brabham ",
            "Jim  Clark ",
            "Jo  Bonnier ",
            "John  Surtees ",
            "Lorenzo  Bandini ",
            "Masten  Gregory ",
            "Neville  Lederle ",
            "Phil  Hill ",
            "Ricardo Rodriguez",
            "Richie  Ginther ",
            "Tony  Maggs ",
            "Trevor Taylor",
            "Willy  Mairesse "
           ],
           "xaxis": "x",
           "y": [
            27,
            2,
            15,
            5,
            42,
            2,
            9,
            30,
            3,
            19,
            4,
            1,
            1,
            14,
            4,
            10,
            13,
            6,
            3
           ],
           "yaxis": "y"
          }
         ],
         "name": "1962"
        },
        {
         "data": [
          {
           "alignmentgroup": "True",
           "hovertemplate": "year=1965<br>Driver=%{x}<br>PTS=%{y}<extra></extra>",
           "legendgroup": "",
           "marker": {
            "color": "darkslateblue"
           },
           "name": "",
           "offsetgroup": "",
           "orientation": "v",
           "showlegend": false,
           "textposition": "auto",
           "type": "bar",
           "x": [
            "Bruce  McLaren ",
            "Dan  Gurney ",
            "Denny  Hulme ",
            "Graham  Hill ",
            "Jack  Brabham ",
            "Jackie  Stewart ",
            "Jim  Clark ",
            "Jo  Siffert ",
            "Jochen  Rindt ",
            "John  Surtees ",
            "Lorenzo  Bandini ",
            "Mike  Spence ",
            "Pedro  Rodriguez ",
            "Richard  Attwood ",
            "Richie  Ginther ",
            "Ronnie  Bucknum "
           ],
           "xaxis": "x",
           "y": [
            10,
            25,
            5,
            40,
            9,
            33,
            54,
            5,
            4,
            17,
            13,
            10,
            2,
            2,
            11,
            2
           ],
           "yaxis": "y"
          }
         ],
         "name": "1965"
        },
        {
         "data": [
          {
           "alignmentgroup": "True",
           "hovertemplate": "year=1969<br>Driver=%{x}<br>PTS=%{y}<extra></extra>",
           "legendgroup": "",
           "marker": {
            "color": "darkslateblue"
           },
           "name": "",
           "offsetgroup": "",
           "orientation": "v",
           "showlegend": false,
           "textposition": "auto",
           "type": "bar",
           "x": [
            "Bruce  McLaren ",
            "Chris  Amon ",
            "Denny  Hulme ",
            "Graham  Hill ",
            "Jack  Brabham ",
            "Jackie  Oliver ",
            "Jackie  Stewart ",
            "Jacky  Ickx ",
            "Jean-Pierre  Beltoise ",
            "Jo  Siffert ",
            "Jochen  Rindt ",
            "John  Surtees ",
            "Johnny Servoz-Gavin",
            "Pedro  Rodriguez ",
            "Piers Courage ",
            "Richard  Attwood ",
            "Silvio Moser",
            "Vic Elford"
           ],
           "xaxis": "x",
           "y": [
            26,
            4,
            20,
            19,
            14,
            1,
            63,
            37,
            21,
            15,
            22,
            6,
            1,
            3,
            16,
            3,
            1,
            3
           ],
           "yaxis": "y"
          }
         ],
         "name": "1969"
        },
        {
         "data": [
          {
           "alignmentgroup": "True",
           "hovertemplate": "year=1970<br>Driver=%{x}<br>PTS=%{y}<extra></extra>",
           "legendgroup": "",
           "marker": {
            "color": "darkslateblue"
           },
           "name": "",
           "offsetgroup": "",
           "orientation": "v",
           "showlegend": false,
           "textposition": "auto",
           "type": "bar",
           "x": [
            "Bruce  McLaren ",
            "Chris  Amon ",
            "Clay  Regazzoni ",
            "Dan  Gurney ",
            "Denny  Hulme ",
            "Derek  Bell ",
            "Emerson  Fittipaldi ",
            "Francois Cevert",
            "Graham  Hill ",
            "Henri  Pescarolo ",
            "Ignazio Giunti",
            "Jack  Brabham ",
            "Jackie  Oliver ",
            "Jackie  Stewart ",
            "Jacky  Ickx ",
            "Jean-Pierre  Beltoise ",
            "Jochen  Rindt ",
            "John  Surtees ",
            "John Miles ",
            "Johnny Servoz-Gavin",
            "Mario  Andretti ",
            "Pedro  Rodriguez ",
            "Peter Gethin",
            "Reine Wisell ",
            "Rolf  Stommelen "
           ],
           "xaxis": "x",
           "y": [
            6,
            23,
            33,
            1,
            27,
            1,
            12,
            1,
            7,
            8,
            3,
            25,
            2,
            25,
            40,
            16,
            45,
            3,
            2,
            2,
            4,
            23,
            1,
            4,
            10
           ],
           "yaxis": "y"
          }
         ],
         "name": "1970"
        },
        {
         "data": [
          {
           "alignmentgroup": "True",
           "hovertemplate": "year=2012<br>Driver=%{x}<br>PTS=%{y}<extra></extra>",
           "legendgroup": "",
           "marker": {
            "color": "darkslateblue"
           },
           "name": "",
           "offsetgroup": "",
           "orientation": "v",
           "showlegend": false,
           "textposition": "auto",
           "type": "bar",
           "x": [
            "Bruno  Senna ",
            "Charles  Pic ",
            "Daniel  Ricciardo ",
            "Felipe  Massa ",
            "Fernando  Alonso ",
            "Heikki  Kovalainen ",
            "Jean-Eric  Vergne ",
            "Jenson  Button ",
            "Jerome  d'Ambrosio ",
            "Kamui  Kobayashi ",
            "Kimi  RÃ¤ikkÃ¶nen ",
            "Lewis  Hamilton ",
            "Mark  Webber ",
            "Michael  Schumacher ",
            "Narain  Karthikeyan ",
            "Nico  Hulkenberg ",
            "Nico  Rosberg ",
            "Pastor  Maldonado ",
            "Paul  di Resta ",
            "Pedro  de la Rosa ",
            "Romain  Grosjean ",
            "Sebastian  Vettel ",
            "Sergio  Perez ",
            "Timo  Glock ",
            "Vitaly  Petrov "
           ],
           "xaxis": "x",
           "y": [
            31,
            0,
            10,
            122,
            278,
            0,
            16,
            188,
            0,
            60,
            207,
            190,
            179,
            49,
            0,
            63,
            93,
            45,
            46,
            0,
            96,
            281,
            66,
            0,
            0
           ],
           "yaxis": "y"
          }
         ],
         "name": "2012"
        },
        {
         "data": [
          {
           "alignmentgroup": "True",
           "hovertemplate": "year=2016<br>Driver=%{x}<br>PTS=%{y}<extra></extra>",
           "legendgroup": "",
           "marker": {
            "color": "darkslateblue"
           },
           "name": "",
           "offsetgroup": "",
           "orientation": "v",
           "showlegend": false,
           "textposition": "auto",
           "type": "bar",
           "x": [
            "Carlos  Sainz ",
            "Daniel  Ricciardo ",
            "Daniil  Kvyat ",
            "Esteban  Gutierrez",
            "Esteban  Ocon ",
            "Felipe  Massa ",
            "Felipe  Nasr ",
            "Fernando  Alonso ",
            "Jenson  Button ",
            "Jolyon  Palmer ",
            "Kevin  Magnussen ",
            "Kimi  RÃ¤ikkÃ¶nen ",
            "Lewis  Hamilton ",
            "Marcus  Ericsson ",
            "Max  Verstappen ",
            "Nico  Hulkenberg ",
            "Nico  Rosberg ",
            "Pascal  Wehrlein ",
            "Rio  Haryanto ",
            "Romain  Grosjean ",
            "Sebastian  Vettel ",
            "Sergio  Perez ",
            "Stoffel  Vandoorne ",
            "Valtteri Bottas "
           ],
           "xaxis": "x",
           "y": [
            46,
            256,
            25,
            0,
            0,
            53,
            2,
            54,
            21,
            1,
            7,
            186,
            380,
            0,
            204,
            72,
            385,
            1,
            0,
            29,
            212,
            101,
            1,
            85
           ],
           "yaxis": "y"
          }
         ],
         "name": "2016"
        },
        {
         "data": [
          {
           "alignmentgroup": "True",
           "hovertemplate": "year=1971<br>Driver=%{x}<br>PTS=%{y}<extra></extra>",
           "legendgroup": "",
           "marker": {
            "color": "darkslateblue"
           },
           "name": "",
           "offsetgroup": "",
           "orientation": "v",
           "showlegend": false,
           "textposition": "auto",
           "type": "bar",
           "x": [
            "Chris  Amon ",
            "Clay  Regazzoni ",
            "Denny  Hulme ",
            "Emerson  Fittipaldi ",
            "Francois Cevert",
            "Graham  Hill ",
            "Henri  Pescarolo ",
            "Howden Ganley",
            "Jackie  Stewart ",
            "Jacky  Ickx ",
            "Jean-Pierre  Beltoise ",
            "Jo  Siffert ",
            "John  Surtees ",
            "Mario  Andretti ",
            "Mark  Donohue ",
            "Mike  Hailwood ",
            "Pedro  Rodriguez ",
            "Peter Gethin",
            "Reine Wisell ",
            "Rolf  Stommelen ",
            "Ronnie  Peterson ",
            "Tim Schenken "
           ],
           "xaxis": "x",
           "y": [
            9,
            13,
            9,
            16,
            26,
            2,
            4,
            5,
            62,
            19,
            1,
            19,
            3,
            12,
            4,
            3,
            9,
            9,
            9,
            3,
            33,
            5
           ],
           "yaxis": "y"
          }
         ],
         "name": "1971"
        },
        {
         "data": [
          {
           "alignmentgroup": "True",
           "hovertemplate": "year=2006<br>Driver=%{x}<br>PTS=%{y}<extra></extra>",
           "legendgroup": "",
           "marker": {
            "color": "darkslateblue"
           },
           "name": "",
           "offsetgroup": "",
           "orientation": "v",
           "showlegend": false,
           "textposition": "auto",
           "type": "bar",
           "x": [
            "Christian  Klien ",
            "Christijan  Albers ",
            "David  Coulthard ",
            "Felipe  Massa ",
            "Fernando  Alonso ",
            "Franck  Montagny ",
            "Giancarlo  Fisichella ",
            "Jacques  Villeneuve ",
            "Jarno  Trulli ",
            "Jenson  Button ",
            "Juan Pablo  Montoya ",
            "Kimi  RÃ¤ikkÃ¶nen ",
            "Mark  Webber ",
            "Michael  Schumacher ",
            "Nick  Heidfeld ",
            "Nico  Rosberg ",
            "Pedro  de la Rosa ",
            "Ralf  Schumacher ",
            "Robert  Doornbos ",
            "Robert  Kubica ",
            "Rubens  Barrichello ",
            "Sakon  Yamamoto ",
            "Scott  Speed ",
            "Takuma  Sato ",
            "Tiago  Monteiro ",
            "Vitantonio  Liuzzi ",
            "Yuji  Ide "
           ],
           "xaxis": "x",
           "y": [
            2,
            0,
            14,
            80,
            134,
            0,
            72,
            7,
            15,
            56,
            26,
            65,
            7,
            121,
            23,
            4,
            19,
            20,
            0,
            6,
            30,
            0,
            0,
            0,
            0,
            1,
            0
           ],
           "yaxis": "y"
          }
         ],
         "name": "2006"
        },
        {
         "data": [
          {
           "alignmentgroup": "True",
           "hovertemplate": "year=1958<br>Driver=%{x}<br>PTS=%{y}<extra></extra>",
           "legendgroup": "",
           "marker": {
            "color": "darkslateblue"
           },
           "name": "",
           "offsetgroup": "",
           "orientation": "v",
           "showlegend": false,
           "textposition": "auto",
           "type": "bar",
           "x": [
            "Cliff  Allison ",
            "George Amick ",
            "Harry  Schell ",
            "Jack  Brabham ",
            "Jean  Behra ",
            "Jim  Rathmann ",
            "Jimmy  Bryan ",
            "Jo  Bonnier ",
            "Johnny Boyd ",
            "Juan Manuel  Fangio ",
            "Luigi  Musso ",
            "Maurice Trintignant ",
            "Mike  Hawthorn ",
            "Peter  Collins ",
            "Phil  Hill ",
            "Roy  Salvadori ",
            "Stirling  Moss ",
            "Stuart Lewis-Evans",
            "Tony  Brooks ",
            "Tony Bettenhausen ",
            "Wolfgang  von Trips "
           ],
           "xaxis": "x",
           "y": [
            3,
            6,
            14,
            3,
            9,
            2,
            8,
            3,
            4,
            7,
            12,
            12,
            42,
            14,
            9,
            15,
            41,
            11,
            24,
            4,
            9
           ],
           "yaxis": "y"
          }
         ],
         "name": "1958"
        },
        {
         "data": [
          {
           "alignmentgroup": "True",
           "hovertemplate": "year=1996<br>Driver=%{x}<br>PTS=%{y}<extra></extra>",
           "legendgroup": "",
           "marker": {
            "color": "darkslateblue"
           },
           "name": "",
           "offsetgroup": "",
           "orientation": "v",
           "showlegend": false,
           "textposition": "auto",
           "type": "bar",
           "x": [
            "Damon  Hill ",
            "David  Coulthard ",
            "Eddie  Irvine ",
            "Gerhard  Berger ",
            "Heinz-Harald  Frentzen ",
            "Jacques  Villeneuve ",
            "Jean  Alesi ",
            "Johnny  Herbert ",
            "Jos  Verstappen ",
            "Martin  Brundle ",
            "Michael  Schumacher ",
            "Mika  Hakkinen ",
            "Mika  Salo ",
            "Olivier  Panis ",
            "Pedro  Diniz ",
            "Rubens  Barrichello "
           ],
           "xaxis": "x",
           "y": [
            97,
            18,
            11,
            21,
            7,
            78,
            47,
            4,
            1,
            8,
            59,
            31,
            5,
            13,
            2,
            14
           ],
           "yaxis": "y"
          }
         ],
         "name": "1996"
        },
        {
         "data": [
          {
           "alignmentgroup": "True",
           "hovertemplate": "year=2001<br>Driver=%{x}<br>PTS=%{y}<extra></extra>",
           "legendgroup": "",
           "marker": {
            "color": "darkslateblue"
           },
           "name": "",
           "offsetgroup": "",
           "orientation": "v",
           "showlegend": false,
           "textposition": "auto",
           "type": "bar",
           "x": [
            "David  Coulthard ",
            "Eddie  Irvine ",
            "Giancarlo  Fisichella ",
            "Heinz-Harald  Frentzen ",
            "Jacques  Villeneuve ",
            "Jarno  Trulli ",
            "Jean  Alesi ",
            "Jenson  Button ",
            "Jos  Verstappen ",
            "Juan Pablo  Montoya ",
            "Kimi  RÃ¤ikkÃ¶nen ",
            "Michael  Schumacher ",
            "Mika  Hakkinen ",
            "Nick  Heidfeld ",
            "Olivier  Panis ",
            "Pedro  de la Rosa ",
            "Ralf  Schumacher ",
            "Rubens  Barrichello "
           ],
           "xaxis": "x",
           "y": [
            65,
            6,
            8,
            6,
            12,
            12,
            5,
            2,
            1,
            31,
            9,
            123,
            37,
            12,
            5,
            3,
            49,
            56
           ],
           "yaxis": "y"
          }
         ],
         "name": "2001"
        }
       ],
       "layout": {
        "barmode": "relative",
        "legend": {
         "tracegroupgap": 0
        },
        "margin": {
         "t": 60
        },
        "sliders": [
         {
          "active": 0,
          "currentvalue": {
           "prefix": "year="
          },
          "len": 0.9,
          "pad": {
           "b": 10,
           "t": 60
          },
          "steps": [
           {
            "args": [
             [
              "2007"
             ],
             {
              "frame": {
               "duration": 0,
               "redraw": true
              },
              "fromcurrent": true,
              "mode": "immediate",
              "transition": {
               "duration": 0,
               "easing": "linear"
              }
             }
            ],
            "label": "2007",
            "method": "animate"
           },
           {
            "args": [
             [
              "2008"
             ],
             {
              "frame": {
               "duration": 0,
               "redraw": true
              },
              "fromcurrent": true,
              "mode": "immediate",
              "transition": {
               "duration": 0,
               "easing": "linear"
              }
             }
            ],
            "label": "2008",
            "method": "animate"
           },
           {
            "args": [
             [
              "2009"
             ],
             {
              "frame": {
               "duration": 0,
               "redraw": true
              },
              "fromcurrent": true,
              "mode": "immediate",
              "transition": {
               "duration": 0,
               "easing": "linear"
              }
             }
            ],
            "label": "2009",
            "method": "animate"
           },
           {
            "args": [
             [
              "2010"
             ],
             {
              "frame": {
               "duration": 0,
               "redraw": true
              },
              "fromcurrent": true,
              "mode": "immediate",
              "transition": {
               "duration": 0,
               "easing": "linear"
              }
             }
            ],
            "label": "2010",
            "method": "animate"
           },
           {
            "args": [
             [
              "2011"
             ],
             {
              "frame": {
               "duration": 0,
               "redraw": true
              },
              "fromcurrent": true,
              "mode": "immediate",
              "transition": {
               "duration": 0,
               "easing": "linear"
              }
             }
            ],
            "label": "2011",
            "method": "animate"
           },
           {
            "args": [
             [
              "2013"
             ],
             {
              "frame": {
               "duration": 0,
               "redraw": true
              },
              "fromcurrent": true,
              "mode": "immediate",
              "transition": {
               "duration": 0,
               "easing": "linear"
              }
             }
            ],
            "label": "2013",
            "method": "animate"
           },
           {
            "args": [
             [
              "2014"
             ],
             {
              "frame": {
               "duration": 0,
               "redraw": true
              },
              "fromcurrent": true,
              "mode": "immediate",
              "transition": {
               "duration": 0,
               "easing": "linear"
              }
             }
            ],
            "label": "2014",
            "method": "animate"
           },
           {
            "args": [
             [
              "1990"
             ],
             {
              "frame": {
               "duration": 0,
               "redraw": true
              },
              "fromcurrent": true,
              "mode": "immediate",
              "transition": {
               "duration": 0,
               "easing": "linear"
              }
             }
            ],
            "label": "1990",
            "method": "animate"
           },
           {
            "args": [
             [
              "1991"
             ],
             {
              "frame": {
               "duration": 0,
               "redraw": true
              },
              "fromcurrent": true,
              "mode": "immediate",
              "transition": {
               "duration": 0,
               "easing": "linear"
              }
             }
            ],
            "label": "1991",
            "method": "animate"
           },
           {
            "args": [
             [
              "1995"
             ],
             {
              "frame": {
               "duration": 0,
               "redraw": true
              },
              "fromcurrent": true,
              "mode": "immediate",
              "transition": {
               "duration": 0,
               "easing": "linear"
              }
             }
            ],
            "label": "1995",
            "method": "animate"
           },
           {
            "args": [
             [
              "1980"
             ],
             {
              "frame": {
               "duration": 0,
               "redraw": true
              },
              "fromcurrent": true,
              "mode": "immediate",
              "transition": {
               "duration": 0,
               "easing": "linear"
              }
             }
            ],
            "label": "1980",
            "method": "animate"
           },
           {
            "args": [
             [
              "1981"
             ],
             {
              "frame": {
               "duration": 0,
               "redraw": true
              },
              "fromcurrent": true,
              "mode": "immediate",
              "transition": {
               "duration": 0,
               "easing": "linear"
              }
             }
            ],
            "label": "1981",
            "method": "animate"
           },
           {
            "args": [
             [
              "1982"
             ],
             {
              "frame": {
               "duration": 0,
               "redraw": true
              },
              "fromcurrent": true,
              "mode": "immediate",
              "transition": {
               "duration": 0,
               "easing": "linear"
              }
             }
            ],
            "label": "1982",
            "method": "animate"
           },
           {
            "args": [
             [
              "1983"
             ],
             {
              "frame": {
               "duration": 0,
               "redraw": true
              },
              "fromcurrent": true,
              "mode": "immediate",
              "transition": {
               "duration": 0,
               "easing": "linear"
              }
             }
            ],
            "label": "1983",
            "method": "animate"
           },
           {
            "args": [
             [
              "1984"
             ],
             {
              "frame": {
               "duration": 0,
               "redraw": true
              },
              "fromcurrent": true,
              "mode": "immediate",
              "transition": {
               "duration": 0,
               "easing": "linear"
              }
             }
            ],
            "label": "1984",
            "method": "animate"
           },
           {
            "args": [
             [
              "1985"
             ],
             {
              "frame": {
               "duration": 0,
               "redraw": true
              },
              "fromcurrent": true,
              "mode": "immediate",
              "transition": {
               "duration": 0,
               "easing": "linear"
              }
             }
            ],
            "label": "1985",
            "method": "animate"
           },
           {
            "args": [
             [
              "1986"
             ],
             {
              "frame": {
               "duration": 0,
               "redraw": true
              },
              "fromcurrent": true,
              "mode": "immediate",
              "transition": {
               "duration": 0,
               "easing": "linear"
              }
             }
            ],
            "label": "1986",
            "method": "animate"
           },
           {
            "args": [
             [
              "1987"
             ],
             {
              "frame": {
               "duration": 0,
               "redraw": true
              },
              "fromcurrent": true,
              "mode": "immediate",
              "transition": {
               "duration": 0,
               "easing": "linear"
              }
             }
            ],
            "label": "1987",
            "method": "animate"
           },
           {
            "args": [
             [
              "1988"
             ],
             {
              "frame": {
               "duration": 0,
               "redraw": true
              },
              "fromcurrent": true,
              "mode": "immediate",
              "transition": {
               "duration": 0,
               "easing": "linear"
              }
             }
            ],
            "label": "1988",
            "method": "animate"
           },
           {
            "args": [
             [
              "1989"
             ],
             {
              "frame": {
               "duration": 0,
               "redraw": true
              },
              "fromcurrent": true,
              "mode": "immediate",
              "transition": {
               "duration": 0,
               "easing": "linear"
              }
             }
            ],
            "label": "1989",
            "method": "animate"
           },
           {
            "args": [
             [
              "1993"
             ],
             {
              "frame": {
               "duration": 0,
               "redraw": true
              },
              "fromcurrent": true,
              "mode": "immediate",
              "transition": {
               "duration": 0,
               "easing": "linear"
              }
             }
            ],
            "label": "1993",
            "method": "animate"
           },
           {
            "args": [
             [
              "1952"
             ],
             {
              "frame": {
               "duration": 0,
               "redraw": true
              },
              "fromcurrent": true,
              "mode": "immediate",
              "transition": {
               "duration": 0,
               "easing": "linear"
              }
             }
            ],
            "label": "1952",
            "method": "animate"
           },
           {
            "args": [
             [
              "1975"
             ],
             {
              "frame": {
               "duration": 0,
               "redraw": true
              },
              "fromcurrent": true,
              "mode": "immediate",
              "transition": {
               "duration": 0,
               "easing": "linear"
              }
             }
            ],
            "label": "1975",
            "method": "animate"
           },
           {
            "args": [
             [
              "1976"
             ],
             {
              "frame": {
               "duration": 0,
               "redraw": true
              },
              "fromcurrent": true,
              "mode": "immediate",
              "transition": {
               "duration": 0,
               "easing": "linear"
              }
             }
            ],
            "label": "1976",
            "method": "animate"
           },
           {
            "args": [
             [
              "1977"
             ],
             {
              "frame": {
               "duration": 0,
               "redraw": true
              },
              "fromcurrent": true,
              "mode": "immediate",
              "transition": {
               "duration": 0,
               "easing": "linear"
              }
             }
            ],
            "label": "1977",
            "method": "animate"
           },
           {
            "args": [
             [
              "1978"
             ],
             {
              "frame": {
               "duration": 0,
               "redraw": true
              },
              "fromcurrent": true,
              "mode": "immediate",
              "transition": {
               "duration": 0,
               "easing": "linear"
              }
             }
            ],
            "label": "1978",
            "method": "animate"
           },
           {
            "args": [
             [
              "1979"
             ],
             {
              "frame": {
               "duration": 0,
               "redraw": true
              },
              "fromcurrent": true,
              "mode": "immediate",
              "transition": {
               "duration": 0,
               "easing": "linear"
              }
             }
            ],
            "label": "1979",
            "method": "animate"
           },
           {
            "args": [
             [
              "1950"
             ],
             {
              "frame": {
               "duration": 0,
               "redraw": true
              },
              "fromcurrent": true,
              "mode": "immediate",
              "transition": {
               "duration": 0,
               "easing": "linear"
              }
             }
            ],
            "label": "1950",
            "method": "animate"
           },
           {
            "args": [
             [
              "1951"
             ],
             {
              "frame": {
               "duration": 0,
               "redraw": true
              },
              "fromcurrent": true,
              "mode": "immediate",
              "transition": {
               "duration": 0,
               "easing": "linear"
              }
             }
            ],
            "label": "1951",
            "method": "animate"
           },
           {
            "args": [
             [
              "1953"
             ],
             {
              "frame": {
               "duration": 0,
               "redraw": true
              },
              "fromcurrent": true,
              "mode": "immediate",
              "transition": {
               "duration": 0,
               "easing": "linear"
              }
             }
            ],
            "label": "1953",
            "method": "animate"
           },
           {
            "args": [
             [
              "1954"
             ],
             {
              "frame": {
               "duration": 0,
               "redraw": true
              },
              "fromcurrent": true,
              "mode": "immediate",
              "transition": {
               "duration": 0,
               "easing": "linear"
              }
             }
            ],
            "label": "1954",
            "method": "animate"
           },
           {
            "args": [
             [
              "2002"
             ],
             {
              "frame": {
               "duration": 0,
               "redraw": true
              },
              "fromcurrent": true,
              "mode": "immediate",
              "transition": {
               "duration": 0,
               "easing": "linear"
              }
             }
            ],
            "label": "2002",
            "method": "animate"
           },
           {
            "args": [
             [
              "2019"
             ],
             {
              "frame": {
               "duration": 0,
               "redraw": true
              },
              "fromcurrent": true,
              "mode": "immediate",
              "transition": {
               "duration": 0,
               "easing": "linear"
              }
             }
            ],
            "label": "2019",
            "method": "animate"
           },
           {
            "args": [
             [
              "2020"
             ],
             {
              "frame": {
               "duration": 0,
               "redraw": true
              },
              "fromcurrent": true,
              "mode": "immediate",
              "transition": {
               "duration": 0,
               "easing": "linear"
              }
             }
            ],
            "label": "2020",
            "method": "animate"
           },
           {
            "args": [
             [
              "2022"
             ],
             {
              "frame": {
               "duration": 0,
               "redraw": true
              },
              "fromcurrent": true,
              "mode": "immediate",
              "transition": {
               "duration": 0,
               "easing": "linear"
              }
             }
            ],
            "label": "2022",
            "method": "animate"
           },
           {
            "args": [
             [
              "2023"
             ],
             {
              "frame": {
               "duration": 0,
               "redraw": true
              },
              "fromcurrent": true,
              "mode": "immediate",
              "transition": {
               "duration": 0,
               "easing": "linear"
              }
             }
            ],
            "label": "2023",
            "method": "animate"
           },
           {
            "args": [
             [
              "2024"
             ],
             {
              "frame": {
               "duration": 0,
               "redraw": true
              },
              "fromcurrent": true,
              "mode": "immediate",
              "transition": {
               "duration": 0,
               "easing": "linear"
              }
             }
            ],
            "label": "2024",
            "method": "animate"
           },
           {
            "args": [
             [
              "2015"
             ],
             {
              "frame": {
               "duration": 0,
               "redraw": true
              },
              "fromcurrent": true,
              "mode": "immediate",
              "transition": {
               "duration": 0,
               "easing": "linear"
              }
             }
            ],
            "label": "2015",
            "method": "animate"
           },
           {
            "args": [
             [
              "1997"
             ],
             {
              "frame": {
               "duration": 0,
               "redraw": true
              },
              "fromcurrent": true,
              "mode": "immediate",
              "transition": {
               "duration": 0,
               "easing": "linear"
              }
             }
            ],
            "label": "1997",
            "method": "animate"
           },
           {
            "args": [
             [
              "1998"
             ],
             {
              "frame": {
               "duration": 0,
               "redraw": true
              },
              "fromcurrent": true,
              "mode": "immediate",
              "transition": {
               "duration": 0,
               "easing": "linear"
              }
             }
            ],
            "label": "1998",
            "method": "animate"
           },
           {
            "args": [
             [
              "1999"
             ],
             {
              "frame": {
               "duration": 0,
               "redraw": true
              },
              "fromcurrent": true,
              "mode": "immediate",
              "transition": {
               "duration": 0,
               "easing": "linear"
              }
             }
            ],
            "label": "1999",
            "method": "animate"
           },
           {
            "args": [
             [
              "2000"
             ],
             {
              "frame": {
               "duration": 0,
               "redraw": true
              },
              "fromcurrent": true,
              "mode": "immediate",
              "transition": {
               "duration": 0,
               "easing": "linear"
              }
             }
            ],
            "label": "2000",
            "method": "animate"
           },
           {
            "args": [
             [
              "2005"
             ],
             {
              "frame": {
               "duration": 0,
               "redraw": true
              },
              "fromcurrent": true,
              "mode": "immediate",
              "transition": {
               "duration": 0,
               "easing": "linear"
              }
             }
            ],
            "label": "2005",
            "method": "animate"
           },
           {
            "args": [
             [
              "1956"
             ],
             {
              "frame": {
               "duration": 0,
               "redraw": true
              },
              "fromcurrent": true,
              "mode": "immediate",
              "transition": {
               "duration": 0,
               "easing": "linear"
              }
             }
            ],
            "label": "1956",
            "method": "animate"
           },
           {
            "args": [
             [
              "1957"
             ],
             {
              "frame": {
               "duration": 0,
               "redraw": true
              },
              "fromcurrent": true,
              "mode": "immediate",
              "transition": {
               "duration": 0,
               "easing": "linear"
              }
             }
            ],
            "label": "1957",
            "method": "animate"
           },
           {
            "args": [
             [
              "1972"
             ],
             {
              "frame": {
               "duration": 0,
               "redraw": true
              },
              "fromcurrent": true,
              "mode": "immediate",
              "transition": {
               "duration": 0,
               "easing": "linear"
              }
             }
            ],
            "label": "1972",
            "method": "animate"
           },
           {
            "args": [
             [
              "1973"
             ],
             {
              "frame": {
               "duration": 0,
               "redraw": true
              },
              "fromcurrent": true,
              "mode": "immediate",
              "transition": {
               "duration": 0,
               "easing": "linear"
              }
             }
            ],
            "label": "1973",
            "method": "animate"
           },
           {
            "args": [
             [
              "1992"
             ],
             {
              "frame": {
               "duration": 0,
               "redraw": true
              },
              "fromcurrent": true,
              "mode": "immediate",
              "transition": {
               "duration": 0,
               "easing": "linear"
              }
             }
            ],
            "label": "1992",
            "method": "animate"
           },
           {
            "args": [
             [
              "1994"
             ],
             {
              "frame": {
               "duration": 0,
               "redraw": true
              },
              "fromcurrent": true,
              "mode": "immediate",
              "transition": {
               "duration": 0,
               "easing": "linear"
              }
             }
            ],
            "label": "1994",
            "method": "animate"
           },
           {
            "args": [
             [
              "2017"
             ],
             {
              "frame": {
               "duration": 0,
               "redraw": true
              },
              "fromcurrent": true,
              "mode": "immediate",
              "transition": {
               "duration": 0,
               "easing": "linear"
              }
             }
            ],
            "label": "2017",
            "method": "animate"
           },
           {
            "args": [
             [
              "2021"
             ],
             {
              "frame": {
               "duration": 0,
               "redraw": true
              },
              "fromcurrent": true,
              "mode": "immediate",
              "transition": {
               "duration": 0,
               "easing": "linear"
              }
             }
            ],
            "label": "2021",
            "method": "animate"
           },
           {
            "args": [
             [
              "2003"
             ],
             {
              "frame": {
               "duration": 0,
               "redraw": true
              },
              "fromcurrent": true,
              "mode": "immediate",
              "transition": {
               "duration": 0,
               "easing": "linear"
              }
             }
            ],
            "label": "2003",
            "method": "animate"
           },
           {
            "args": [
             [
              "2004"
             ],
             {
              "frame": {
               "duration": 0,
               "redraw": true
              },
              "fromcurrent": true,
              "mode": "immediate",
              "transition": {
               "duration": 0,
               "easing": "linear"
              }
             }
            ],
            "label": "2004",
            "method": "animate"
           },
           {
            "args": [
             [
              "1974"
             ],
             {
              "frame": {
               "duration": 0,
               "redraw": true
              },
              "fromcurrent": true,
              "mode": "immediate",
              "transition": {
               "duration": 0,
               "easing": "linear"
              }
             }
            ],
            "label": "1974",
            "method": "animate"
           },
           {
            "args": [
             [
              "1963"
             ],
             {
              "frame": {
               "duration": 0,
               "redraw": true
              },
              "fromcurrent": true,
              "mode": "immediate",
              "transition": {
               "duration": 0,
               "easing": "linear"
              }
             }
            ],
            "label": "1963",
            "method": "animate"
           },
           {
            "args": [
             [
              "1955"
             ],
             {
              "frame": {
               "duration": 0,
               "redraw": true
              },
              "fromcurrent": true,
              "mode": "immediate",
              "transition": {
               "duration": 0,
               "easing": "linear"
              }
             }
            ],
            "label": "1955",
            "method": "animate"
           },
           {
            "args": [
             [
              "1964"
             ],
             {
              "frame": {
               "duration": 0,
               "redraw": true
              },
              "fromcurrent": true,
              "mode": "immediate",
              "transition": {
               "duration": 0,
               "easing": "linear"
              }
             }
            ],
            "label": "1964",
            "method": "animate"
           },
           {
            "args": [
             [
              "1966"
             ],
             {
              "frame": {
               "duration": 0,
               "redraw": true
              },
              "fromcurrent": true,
              "mode": "immediate",
              "transition": {
               "duration": 0,
               "easing": "linear"
              }
             }
            ],
            "label": "1966",
            "method": "animate"
           },
           {
            "args": [
             [
              "1967"
             ],
             {
              "frame": {
               "duration": 0,
               "redraw": true
              },
              "fromcurrent": true,
              "mode": "immediate",
              "transition": {
               "duration": 0,
               "easing": "linear"
              }
             }
            ],
            "label": "1967",
            "method": "animate"
           },
           {
            "args": [
             [
              "2018"
             ],
             {
              "frame": {
               "duration": 0,
               "redraw": true
              },
              "fromcurrent": true,
              "mode": "immediate",
              "transition": {
               "duration": 0,
               "easing": "linear"
              }
             }
            ],
            "label": "2018",
            "method": "animate"
           },
           {
            "args": [
             [
              "1968"
             ],
             {
              "frame": {
               "duration": 0,
               "redraw": true
              },
              "fromcurrent": true,
              "mode": "immediate",
              "transition": {
               "duration": 0,
               "easing": "linear"
              }
             }
            ],
            "label": "1968",
            "method": "animate"
           },
           {
            "args": [
             [
              "1959"
             ],
             {
              "frame": {
               "duration": 0,
               "redraw": true
              },
              "fromcurrent": true,
              "mode": "immediate",
              "transition": {
               "duration": 0,
               "easing": "linear"
              }
             }
            ],
            "label": "1959",
            "method": "animate"
           },
           {
            "args": [
             [
              "1960"
             ],
             {
              "frame": {
               "duration": 0,
               "redraw": true
              },
              "fromcurrent": true,
              "mode": "immediate",
              "transition": {
               "duration": 0,
               "easing": "linear"
              }
             }
            ],
            "label": "1960",
            "method": "animate"
           },
           {
            "args": [
             [
              "1961"
             ],
             {
              "frame": {
               "duration": 0,
               "redraw": true
              },
              "fromcurrent": true,
              "mode": "immediate",
              "transition": {
               "duration": 0,
               "easing": "linear"
              }
             }
            ],
            "label": "1961",
            "method": "animate"
           },
           {
            "args": [
             [
              "1962"
             ],
             {
              "frame": {
               "duration": 0,
               "redraw": true
              },
              "fromcurrent": true,
              "mode": "immediate",
              "transition": {
               "duration": 0,
               "easing": "linear"
              }
             }
            ],
            "label": "1962",
            "method": "animate"
           },
           {
            "args": [
             [
              "1965"
             ],
             {
              "frame": {
               "duration": 0,
               "redraw": true
              },
              "fromcurrent": true,
              "mode": "immediate",
              "transition": {
               "duration": 0,
               "easing": "linear"
              }
             }
            ],
            "label": "1965",
            "method": "animate"
           },
           {
            "args": [
             [
              "1969"
             ],
             {
              "frame": {
               "duration": 0,
               "redraw": true
              },
              "fromcurrent": true,
              "mode": "immediate",
              "transition": {
               "duration": 0,
               "easing": "linear"
              }
             }
            ],
            "label": "1969",
            "method": "animate"
           },
           {
            "args": [
             [
              "1970"
             ],
             {
              "frame": {
               "duration": 0,
               "redraw": true
              },
              "fromcurrent": true,
              "mode": "immediate",
              "transition": {
               "duration": 0,
               "easing": "linear"
              }
             }
            ],
            "label": "1970",
            "method": "animate"
           },
           {
            "args": [
             [
              "2012"
             ],
             {
              "frame": {
               "duration": 0,
               "redraw": true
              },
              "fromcurrent": true,
              "mode": "immediate",
              "transition": {
               "duration": 0,
               "easing": "linear"
              }
             }
            ],
            "label": "2012",
            "method": "animate"
           },
           {
            "args": [
             [
              "2016"
             ],
             {
              "frame": {
               "duration": 0,
               "redraw": true
              },
              "fromcurrent": true,
              "mode": "immediate",
              "transition": {
               "duration": 0,
               "easing": "linear"
              }
             }
            ],
            "label": "2016",
            "method": "animate"
           },
           {
            "args": [
             [
              "1971"
             ],
             {
              "frame": {
               "duration": 0,
               "redraw": true
              },
              "fromcurrent": true,
              "mode": "immediate",
              "transition": {
               "duration": 0,
               "easing": "linear"
              }
             }
            ],
            "label": "1971",
            "method": "animate"
           },
           {
            "args": [
             [
              "2006"
             ],
             {
              "frame": {
               "duration": 0,
               "redraw": true
              },
              "fromcurrent": true,
              "mode": "immediate",
              "transition": {
               "duration": 0,
               "easing": "linear"
              }
             }
            ],
            "label": "2006",
            "method": "animate"
           },
           {
            "args": [
             [
              "1958"
             ],
             {
              "frame": {
               "duration": 0,
               "redraw": true
              },
              "fromcurrent": true,
              "mode": "immediate",
              "transition": {
               "duration": 0,
               "easing": "linear"
              }
             }
            ],
            "label": "1958",
            "method": "animate"
           },
           {
            "args": [
             [
              "1996"
             ],
             {
              "frame": {
               "duration": 0,
               "redraw": true
              },
              "fromcurrent": true,
              "mode": "immediate",
              "transition": {
               "duration": 0,
               "easing": "linear"
              }
             }
            ],
            "label": "1996",
            "method": "animate"
           },
           {
            "args": [
             [
              "2001"
             ],
             {
              "frame": {
               "duration": 0,
               "redraw": true
              },
              "fromcurrent": true,
              "mode": "immediate",
              "transition": {
               "duration": 0,
               "easing": "linear"
              }
             }
            ],
            "label": "2001",
            "method": "animate"
           }
          ],
          "x": 0.1,
          "xanchor": "left",
          "y": 0,
          "yanchor": "top"
         }
        ],
        "template": {
         "data": {
          "bar": [
           {
            "error_x": {
             "color": "#2a3f5f"
            },
            "error_y": {
             "color": "#2a3f5f"
            },
            "marker": {
             "line": {
              "color": "#E5ECF6",
              "width": 0.5
             }
            },
            "type": "bar"
           }
          ],
          "barpolar": [
           {
            "marker": {
             "line": {
              "color": "#E5ECF6",
              "width": 0.5
             }
            },
            "type": "barpolar"
           }
          ],
          "carpet": [
           {
            "aaxis": {
             "endlinecolor": "#2a3f5f",
             "gridcolor": "white",
             "linecolor": "white",
             "minorgridcolor": "white",
             "startlinecolor": "#2a3f5f"
            },
            "baxis": {
             "endlinecolor": "#2a3f5f",
             "gridcolor": "white",
             "linecolor": "white",
             "minorgridcolor": "white",
             "startlinecolor": "#2a3f5f"
            },
            "type": "carpet"
           }
          ],
          "choropleth": [
           {
            "colorbar": {
             "outlinewidth": 0,
             "ticks": ""
            },
            "type": "choropleth"
           }
          ],
          "contour": [
           {
            "colorbar": {
             "outlinewidth": 0,
             "ticks": ""
            },
            "colorscale": [
             [
              0,
              "#0d0887"
             ],
             [
              0.1111111111111111,
              "#46039f"
             ],
             [
              0.2222222222222222,
              "#7201a8"
             ],
             [
              0.3333333333333333,
              "#9c179e"
             ],
             [
              0.4444444444444444,
              "#bd3786"
             ],
             [
              0.5555555555555556,
              "#d8576b"
             ],
             [
              0.6666666666666666,
              "#ed7953"
             ],
             [
              0.7777777777777778,
              "#fb9f3a"
             ],
             [
              0.8888888888888888,
              "#fdca26"
             ],
             [
              1,
              "#f0f921"
             ]
            ],
            "type": "contour"
           }
          ],
          "contourcarpet": [
           {
            "colorbar": {
             "outlinewidth": 0,
             "ticks": ""
            },
            "type": "contourcarpet"
           }
          ],
          "heatmap": [
           {
            "colorbar": {
             "outlinewidth": 0,
             "ticks": ""
            },
            "colorscale": [
             [
              0,
              "#0d0887"
             ],
             [
              0.1111111111111111,
              "#46039f"
             ],
             [
              0.2222222222222222,
              "#7201a8"
             ],
             [
              0.3333333333333333,
              "#9c179e"
             ],
             [
              0.4444444444444444,
              "#bd3786"
             ],
             [
              0.5555555555555556,
              "#d8576b"
             ],
             [
              0.6666666666666666,
              "#ed7953"
             ],
             [
              0.7777777777777778,
              "#fb9f3a"
             ],
             [
              0.8888888888888888,
              "#fdca26"
             ],
             [
              1,
              "#f0f921"
             ]
            ],
            "type": "heatmap"
           }
          ],
          "heatmapgl": [
           {
            "colorbar": {
             "outlinewidth": 0,
             "ticks": ""
            },
            "colorscale": [
             [
              0,
              "#0d0887"
             ],
             [
              0.1111111111111111,
              "#46039f"
             ],
             [
              0.2222222222222222,
              "#7201a8"
             ],
             [
              0.3333333333333333,
              "#9c179e"
             ],
             [
              0.4444444444444444,
              "#bd3786"
             ],
             [
              0.5555555555555556,
              "#d8576b"
             ],
             [
              0.6666666666666666,
              "#ed7953"
             ],
             [
              0.7777777777777778,
              "#fb9f3a"
             ],
             [
              0.8888888888888888,
              "#fdca26"
             ],
             [
              1,
              "#f0f921"
             ]
            ],
            "type": "heatmapgl"
           }
          ],
          "histogram": [
           {
            "marker": {
             "colorbar": {
              "outlinewidth": 0,
              "ticks": ""
             }
            },
            "type": "histogram"
           }
          ],
          "histogram2d": [
           {
            "colorbar": {
             "outlinewidth": 0,
             "ticks": ""
            },
            "colorscale": [
             [
              0,
              "#0d0887"
             ],
             [
              0.1111111111111111,
              "#46039f"
             ],
             [
              0.2222222222222222,
              "#7201a8"
             ],
             [
              0.3333333333333333,
              "#9c179e"
             ],
             [
              0.4444444444444444,
              "#bd3786"
             ],
             [
              0.5555555555555556,
              "#d8576b"
             ],
             [
              0.6666666666666666,
              "#ed7953"
             ],
             [
              0.7777777777777778,
              "#fb9f3a"
             ],
             [
              0.8888888888888888,
              "#fdca26"
             ],
             [
              1,
              "#f0f921"
             ]
            ],
            "type": "histogram2d"
           }
          ],
          "histogram2dcontour": [
           {
            "colorbar": {
             "outlinewidth": 0,
             "ticks": ""
            },
            "colorscale": [
             [
              0,
              "#0d0887"
             ],
             [
              0.1111111111111111,
              "#46039f"
             ],
             [
              0.2222222222222222,
              "#7201a8"
             ],
             [
              0.3333333333333333,
              "#9c179e"
             ],
             [
              0.4444444444444444,
              "#bd3786"
             ],
             [
              0.5555555555555556,
              "#d8576b"
             ],
             [
              0.6666666666666666,
              "#ed7953"
             ],
             [
              0.7777777777777778,
              "#fb9f3a"
             ],
             [
              0.8888888888888888,
              "#fdca26"
             ],
             [
              1,
              "#f0f921"
             ]
            ],
            "type": "histogram2dcontour"
           }
          ],
          "mesh3d": [
           {
            "colorbar": {
             "outlinewidth": 0,
             "ticks": ""
            },
            "type": "mesh3d"
           }
          ],
          "parcoords": [
           {
            "line": {
             "colorbar": {
              "outlinewidth": 0,
              "ticks": ""
             }
            },
            "type": "parcoords"
           }
          ],
          "pie": [
           {
            "automargin": true,
            "type": "pie"
           }
          ],
          "scatter": [
           {
            "marker": {
             "colorbar": {
              "outlinewidth": 0,
              "ticks": ""
             }
            },
            "type": "scatter"
           }
          ],
          "scatter3d": [
           {
            "line": {
             "colorbar": {
              "outlinewidth": 0,
              "ticks": ""
             }
            },
            "marker": {
             "colorbar": {
              "outlinewidth": 0,
              "ticks": ""
             }
            },
            "type": "scatter3d"
           }
          ],
          "scattercarpet": [
           {
            "marker": {
             "colorbar": {
              "outlinewidth": 0,
              "ticks": ""
             }
            },
            "type": "scattercarpet"
           }
          ],
          "scattergeo": [
           {
            "marker": {
             "colorbar": {
              "outlinewidth": 0,
              "ticks": ""
             }
            },
            "type": "scattergeo"
           }
          ],
          "scattergl": [
           {
            "marker": {
             "colorbar": {
              "outlinewidth": 0,
              "ticks": ""
             }
            },
            "type": "scattergl"
           }
          ],
          "scattermapbox": [
           {
            "marker": {
             "colorbar": {
              "outlinewidth": 0,
              "ticks": ""
             }
            },
            "type": "scattermapbox"
           }
          ],
          "scatterpolar": [
           {
            "marker": {
             "colorbar": {
              "outlinewidth": 0,
              "ticks": ""
             }
            },
            "type": "scatterpolar"
           }
          ],
          "scatterpolargl": [
           {
            "marker": {
             "colorbar": {
              "outlinewidth": 0,
              "ticks": ""
             }
            },
            "type": "scatterpolargl"
           }
          ],
          "scatterternary": [
           {
            "marker": {
             "colorbar": {
              "outlinewidth": 0,
              "ticks": ""
             }
            },
            "type": "scatterternary"
           }
          ],
          "surface": [
           {
            "colorbar": {
             "outlinewidth": 0,
             "ticks": ""
            },
            "colorscale": [
             [
              0,
              "#0d0887"
             ],
             [
              0.1111111111111111,
              "#46039f"
             ],
             [
              0.2222222222222222,
              "#7201a8"
             ],
             [
              0.3333333333333333,
              "#9c179e"
             ],
             [
              0.4444444444444444,
              "#bd3786"
             ],
             [
              0.5555555555555556,
              "#d8576b"
             ],
             [
              0.6666666666666666,
              "#ed7953"
             ],
             [
              0.7777777777777778,
              "#fb9f3a"
             ],
             [
              0.8888888888888888,
              "#fdca26"
             ],
             [
              1,
              "#f0f921"
             ]
            ],
            "type": "surface"
           }
          ],
          "table": [
           {
            "cells": {
             "fill": {
              "color": "#EBF0F8"
             },
             "line": {
              "color": "white"
             }
            },
            "header": {
             "fill": {
              "color": "#C8D4E3"
             },
             "line": {
              "color": "white"
             }
            },
            "type": "table"
           }
          ]
         },
         "layout": {
          "annotationdefaults": {
           "arrowcolor": "#2a3f5f",
           "arrowhead": 0,
           "arrowwidth": 1
          },
          "autotypenumbers": "strict",
          "coloraxis": {
           "colorbar": {
            "outlinewidth": 0,
            "ticks": ""
           }
          },
          "colorscale": {
           "diverging": [
            [
             0,
             "#8e0152"
            ],
            [
             0.1,
             "#c51b7d"
            ],
            [
             0.2,
             "#de77ae"
            ],
            [
             0.3,
             "#f1b6da"
            ],
            [
             0.4,
             "#fde0ef"
            ],
            [
             0.5,
             "#f7f7f7"
            ],
            [
             0.6,
             "#e6f5d0"
            ],
            [
             0.7,
             "#b8e186"
            ],
            [
             0.8,
             "#7fbc41"
            ],
            [
             0.9,
             "#4d9221"
            ],
            [
             1,
             "#276419"
            ]
           ],
           "sequential": [
            [
             0,
             "#0d0887"
            ],
            [
             0.1111111111111111,
             "#46039f"
            ],
            [
             0.2222222222222222,
             "#7201a8"
            ],
            [
             0.3333333333333333,
             "#9c179e"
            ],
            [
             0.4444444444444444,
             "#bd3786"
            ],
            [
             0.5555555555555556,
             "#d8576b"
            ],
            [
             0.6666666666666666,
             "#ed7953"
            ],
            [
             0.7777777777777778,
             "#fb9f3a"
            ],
            [
             0.8888888888888888,
             "#fdca26"
            ],
            [
             1,
             "#f0f921"
            ]
           ],
           "sequentialminus": [
            [
             0,
             "#0d0887"
            ],
            [
             0.1111111111111111,
             "#46039f"
            ],
            [
             0.2222222222222222,
             "#7201a8"
            ],
            [
             0.3333333333333333,
             "#9c179e"
            ],
            [
             0.4444444444444444,
             "#bd3786"
            ],
            [
             0.5555555555555556,
             "#d8576b"
            ],
            [
             0.6666666666666666,
             "#ed7953"
            ],
            [
             0.7777777777777778,
             "#fb9f3a"
            ],
            [
             0.8888888888888888,
             "#fdca26"
            ],
            [
             1,
             "#f0f921"
            ]
           ]
          },
          "colorway": [
           "#636efa",
           "#EF553B",
           "#00cc96",
           "#ab63fa",
           "#FFA15A",
           "#19d3f3",
           "#FF6692",
           "#B6E880",
           "#FF97FF",
           "#FECB52"
          ],
          "font": {
           "color": "#2a3f5f"
          },
          "geo": {
           "bgcolor": "white",
           "lakecolor": "white",
           "landcolor": "#E5ECF6",
           "showlakes": true,
           "showland": true,
           "subunitcolor": "white"
          },
          "hoverlabel": {
           "align": "left"
          },
          "hovermode": "closest",
          "mapbox": {
           "style": "light"
          },
          "paper_bgcolor": "white",
          "plot_bgcolor": "#E5ECF6",
          "polar": {
           "angularaxis": {
            "gridcolor": "white",
            "linecolor": "white",
            "ticks": ""
           },
           "bgcolor": "#E5ECF6",
           "radialaxis": {
            "gridcolor": "white",
            "linecolor": "white",
            "ticks": ""
           }
          },
          "scene": {
           "xaxis": {
            "backgroundcolor": "#E5ECF6",
            "gridcolor": "white",
            "gridwidth": 2,
            "linecolor": "white",
            "showbackground": true,
            "ticks": "",
            "zerolinecolor": "white"
           },
           "yaxis": {
            "backgroundcolor": "#E5ECF6",
            "gridcolor": "white",
            "gridwidth": 2,
            "linecolor": "white",
            "showbackground": true,
            "ticks": "",
            "zerolinecolor": "white"
           },
           "zaxis": {
            "backgroundcolor": "#E5ECF6",
            "gridcolor": "white",
            "gridwidth": 2,
            "linecolor": "white",
            "showbackground": true,
            "ticks": "",
            "zerolinecolor": "white"
           }
          },
          "shapedefaults": {
           "line": {
            "color": "#2a3f5f"
           }
          },
          "ternary": {
           "aaxis": {
            "gridcolor": "white",
            "linecolor": "white",
            "ticks": ""
           },
           "baxis": {
            "gridcolor": "white",
            "linecolor": "white",
            "ticks": ""
           },
           "bgcolor": "#E5ECF6",
           "caxis": {
            "gridcolor": "white",
            "linecolor": "white",
            "ticks": ""
           }
          },
          "title": {
           "x": 0.05
          },
          "xaxis": {
           "automargin": true,
           "gridcolor": "white",
           "linecolor": "white",
           "ticks": "",
           "title": {
            "standoff": 15
           },
           "zerolinecolor": "white",
           "zerolinewidth": 2
          },
          "yaxis": {
           "automargin": true,
           "gridcolor": "white",
           "linecolor": "white",
           "ticks": "",
           "title": {
            "standoff": 15
           },
           "zerolinecolor": "white",
           "zerolinewidth": 2
          }
         }
        },
        "title": {
         "text": "Points Accumulation Over Years"
        },
        "updatemenus": [
         {
          "buttons": [
           {
            "args": [
             null,
             {
              "frame": {
               "duration": 500,
               "redraw": true
              },
              "fromcurrent": true,
              "mode": "immediate",
              "transition": {
               "duration": 500,
               "easing": "linear"
              }
             }
            ],
            "label": "&#9654;",
            "method": "animate"
           },
           {
            "args": [
             [
              null
             ],
             {
              "frame": {
               "duration": 0,
               "redraw": true
              },
              "fromcurrent": true,
              "mode": "immediate",
              "transition": {
               "duration": 0,
               "easing": "linear"
              }
             }
            ],
            "label": "&#9724;",
            "method": "animate"
           }
          ],
          "direction": "left",
          "pad": {
           "r": 10,
           "t": 70
          },
          "showactive": false,
          "type": "buttons",
          "x": 0.1,
          "xanchor": "right",
          "y": 0,
          "yanchor": "top"
         }
        ],
        "xaxis": {
         "anchor": "y",
         "domain": [
          0,
          1
         ],
         "title": {
          "text": "Driver"
         }
        },
        "yaxis": {
         "anchor": "x",
         "domain": [
          0,
          1
         ],
         "range": [
          0,
          800
         ],
         "title": {
          "text": "PTS"
         }
        }
       }
      },
      "text/html": [
       "<div>                            <div id=\"2576e2b6-bdba-4069-a4fe-c5db5d22813e\" class=\"plotly-graph-div\" style=\"height:525px; width:100%;\"></div>            <script type=\"text/javascript\">                require([\"plotly\"], function(Plotly) {                    window.PLOTLYENV=window.PLOTLYENV || {};                                    if (document.getElementById(\"2576e2b6-bdba-4069-a4fe-c5db5d22813e\")) {                    Plotly.newPlot(                        \"2576e2b6-bdba-4069-a4fe-c5db5d22813e\",                        [{\"alignmentgroup\": \"True\", \"hovertemplate\": \"year=2007<br>Driver=%{x}<br>PTS=%{y}<extra></extra>\", \"legendgroup\": \"\", \"marker\": {\"color\": \"darkslateblue\"}, \"name\": \"\", \"offsetgroup\": \"\", \"orientation\": \"v\", \"showlegend\": false, \"textposition\": \"auto\", \"type\": \"bar\", \"x\": [\"Adrian  Sutil \", \"Alexander  Wurz \", \"Anthony  Davidson \", \"Christijan  Albers \", \"David  Coulthard \", \"Felipe  Massa \", \"Fernando  Alonso \", \"Giancarlo  Fisichella \", \"Heikki  Kovalainen \", \"Jarno  Trulli \", \"Jenson  Button \", \"Kazuki  Nakajima \", \"Kimi  R\\u00c3\\u00a4ikk\\u00c3\\u00b6nen \", \"Lewis  Hamilton \", \"Mark  Webber \", \"Nick  Heidfeld \", \"Nico  Rosberg \", \"Ralf  Schumacher \", \"Robert  Kubica \", \"Rubens  Barrichello \", \"Sakon  Yamamoto \", \"Scott  Speed \", \"Sebastian  Vettel \", \"Takuma  Sato \", \"Vitantonio  Liuzzi \"], \"xaxis\": \"x\", \"y\": [1.0, 13.0, 0.0, 0.0, 14.0, 94.0, 109.0, 21.0, 30.0, 8.0, 6.0, 0.0, 110.0, 109.0, 10.0, 61.0, 20.0, 5.0, 39.0, 0.0, 0.0, 0.0, 6.0, 4.0, 3.0], \"yaxis\": \"y\"}],                        {\"barmode\": \"relative\", \"legend\": {\"tracegroupgap\": 0}, \"margin\": {\"t\": 60}, \"sliders\": [{\"active\": 0, \"currentvalue\": {\"prefix\": \"year=\"}, \"len\": 0.9, \"pad\": {\"b\": 10, \"t\": 60}, \"steps\": [{\"args\": [[\"2007\"], {\"frame\": {\"duration\": 0, \"redraw\": true}, \"fromcurrent\": true, \"mode\": \"immediate\", \"transition\": {\"duration\": 0, \"easing\": \"linear\"}}], \"label\": \"2007\", \"method\": \"animate\"}, {\"args\": [[\"2008\"], {\"frame\": {\"duration\": 0, \"redraw\": true}, \"fromcurrent\": true, \"mode\": \"immediate\", \"transition\": {\"duration\": 0, \"easing\": \"linear\"}}], \"label\": \"2008\", \"method\": \"animate\"}, {\"args\": [[\"2009\"], {\"frame\": {\"duration\": 0, \"redraw\": true}, \"fromcurrent\": true, \"mode\": \"immediate\", \"transition\": {\"duration\": 0, \"easing\": \"linear\"}}], \"label\": \"2009\", \"method\": \"animate\"}, {\"args\": [[\"2010\"], {\"frame\": {\"duration\": 0, \"redraw\": true}, \"fromcurrent\": true, \"mode\": \"immediate\", \"transition\": {\"duration\": 0, \"easing\": \"linear\"}}], \"label\": \"2010\", \"method\": \"animate\"}, {\"args\": [[\"2011\"], {\"frame\": {\"duration\": 0, \"redraw\": true}, \"fromcurrent\": true, \"mode\": \"immediate\", \"transition\": {\"duration\": 0, \"easing\": \"linear\"}}], \"label\": \"2011\", \"method\": \"animate\"}, {\"args\": [[\"2013\"], {\"frame\": {\"duration\": 0, \"redraw\": true}, \"fromcurrent\": true, \"mode\": \"immediate\", \"transition\": {\"duration\": 0, \"easing\": \"linear\"}}], \"label\": \"2013\", \"method\": \"animate\"}, {\"args\": [[\"2014\"], {\"frame\": {\"duration\": 0, \"redraw\": true}, \"fromcurrent\": true, \"mode\": \"immediate\", \"transition\": {\"duration\": 0, \"easing\": \"linear\"}}], \"label\": \"2014\", \"method\": \"animate\"}, {\"args\": [[\"1990\"], {\"frame\": {\"duration\": 0, \"redraw\": true}, \"fromcurrent\": true, \"mode\": \"immediate\", \"transition\": {\"duration\": 0, \"easing\": \"linear\"}}], \"label\": \"1990\", \"method\": \"animate\"}, {\"args\": [[\"1991\"], {\"frame\": {\"duration\": 0, \"redraw\": true}, \"fromcurrent\": true, \"mode\": \"immediate\", \"transition\": {\"duration\": 0, \"easing\": \"linear\"}}], \"label\": \"1991\", \"method\": \"animate\"}, {\"args\": [[\"1995\"], {\"frame\": {\"duration\": 0, \"redraw\": true}, \"fromcurrent\": true, \"mode\": \"immediate\", \"transition\": {\"duration\": 0, \"easing\": \"linear\"}}], \"label\": \"1995\", \"method\": \"animate\"}, {\"args\": [[\"1980\"], {\"frame\": {\"duration\": 0, \"redraw\": true}, \"fromcurrent\": true, \"mode\": \"immediate\", \"transition\": {\"duration\": 0, \"easing\": \"linear\"}}], \"label\": \"1980\", \"method\": \"animate\"}, {\"args\": [[\"1981\"], {\"frame\": {\"duration\": 0, \"redraw\": true}, \"fromcurrent\": true, \"mode\": \"immediate\", \"transition\": {\"duration\": 0, \"easing\": \"linear\"}}], \"label\": \"1981\", \"method\": \"animate\"}, {\"args\": [[\"1982\"], {\"frame\": {\"duration\": 0, \"redraw\": true}, \"fromcurrent\": true, \"mode\": \"immediate\", \"transition\": {\"duration\": 0, \"easing\": \"linear\"}}], \"label\": \"1982\", \"method\": \"animate\"}, {\"args\": [[\"1983\"], {\"frame\": {\"duration\": 0, \"redraw\": true}, \"fromcurrent\": true, \"mode\": \"immediate\", \"transition\": {\"duration\": 0, \"easing\": \"linear\"}}], \"label\": \"1983\", \"method\": \"animate\"}, {\"args\": [[\"1984\"], {\"frame\": {\"duration\": 0, \"redraw\": true}, \"fromcurrent\": true, \"mode\": \"immediate\", \"transition\": {\"duration\": 0, \"easing\": \"linear\"}}], \"label\": \"1984\", \"method\": \"animate\"}, {\"args\": [[\"1985\"], {\"frame\": {\"duration\": 0, \"redraw\": true}, \"fromcurrent\": true, \"mode\": \"immediate\", \"transition\": {\"duration\": 0, \"easing\": \"linear\"}}], \"label\": \"1985\", \"method\": \"animate\"}, {\"args\": [[\"1986\"], {\"frame\": {\"duration\": 0, \"redraw\": true}, \"fromcurrent\": true, \"mode\": \"immediate\", \"transition\": {\"duration\": 0, \"easing\": \"linear\"}}], \"label\": \"1986\", \"method\": \"animate\"}, {\"args\": [[\"1987\"], {\"frame\": {\"duration\": 0, \"redraw\": true}, \"fromcurrent\": true, \"mode\": \"immediate\", \"transition\": {\"duration\": 0, \"easing\": \"linear\"}}], \"label\": \"1987\", \"method\": \"animate\"}, {\"args\": [[\"1988\"], {\"frame\": {\"duration\": 0, \"redraw\": true}, \"fromcurrent\": true, \"mode\": \"immediate\", \"transition\": {\"duration\": 0, \"easing\": \"linear\"}}], \"label\": \"1988\", \"method\": \"animate\"}, {\"args\": [[\"1989\"], {\"frame\": {\"duration\": 0, \"redraw\": true}, \"fromcurrent\": true, \"mode\": \"immediate\", \"transition\": {\"duration\": 0, \"easing\": \"linear\"}}], \"label\": \"1989\", \"method\": \"animate\"}, {\"args\": [[\"1993\"], {\"frame\": {\"duration\": 0, \"redraw\": true}, \"fromcurrent\": true, \"mode\": \"immediate\", \"transition\": {\"duration\": 0, \"easing\": \"linear\"}}], \"label\": \"1993\", \"method\": \"animate\"}, {\"args\": [[\"1952\"], {\"frame\": {\"duration\": 0, \"redraw\": true}, \"fromcurrent\": true, \"mode\": \"immediate\", \"transition\": {\"duration\": 0, \"easing\": \"linear\"}}], \"label\": \"1952\", \"method\": \"animate\"}, {\"args\": [[\"1975\"], {\"frame\": {\"duration\": 0, \"redraw\": true}, \"fromcurrent\": true, \"mode\": \"immediate\", \"transition\": {\"duration\": 0, \"easing\": \"linear\"}}], \"label\": \"1975\", \"method\": \"animate\"}, {\"args\": [[\"1976\"], {\"frame\": {\"duration\": 0, \"redraw\": true}, \"fromcurrent\": true, \"mode\": \"immediate\", \"transition\": {\"duration\": 0, \"easing\": \"linear\"}}], \"label\": \"1976\", \"method\": \"animate\"}, {\"args\": [[\"1977\"], {\"frame\": {\"duration\": 0, \"redraw\": true}, \"fromcurrent\": true, \"mode\": \"immediate\", \"transition\": {\"duration\": 0, \"easing\": \"linear\"}}], \"label\": \"1977\", \"method\": \"animate\"}, {\"args\": [[\"1978\"], {\"frame\": {\"duration\": 0, \"redraw\": true}, \"fromcurrent\": true, \"mode\": \"immediate\", \"transition\": {\"duration\": 0, \"easing\": \"linear\"}}], \"label\": \"1978\", \"method\": \"animate\"}, {\"args\": [[\"1979\"], {\"frame\": {\"duration\": 0, \"redraw\": true}, \"fromcurrent\": true, \"mode\": \"immediate\", \"transition\": {\"duration\": 0, \"easing\": \"linear\"}}], \"label\": \"1979\", \"method\": \"animate\"}, {\"args\": [[\"1950\"], {\"frame\": {\"duration\": 0, \"redraw\": true}, \"fromcurrent\": true, \"mode\": \"immediate\", \"transition\": {\"duration\": 0, \"easing\": \"linear\"}}], \"label\": \"1950\", \"method\": \"animate\"}, {\"args\": [[\"1951\"], {\"frame\": {\"duration\": 0, \"redraw\": true}, \"fromcurrent\": true, \"mode\": \"immediate\", \"transition\": {\"duration\": 0, \"easing\": \"linear\"}}], \"label\": \"1951\", \"method\": \"animate\"}, {\"args\": [[\"1953\"], {\"frame\": {\"duration\": 0, \"redraw\": true}, \"fromcurrent\": true, \"mode\": \"immediate\", \"transition\": {\"duration\": 0, \"easing\": \"linear\"}}], \"label\": \"1953\", \"method\": \"animate\"}, {\"args\": [[\"1954\"], {\"frame\": {\"duration\": 0, \"redraw\": true}, \"fromcurrent\": true, \"mode\": \"immediate\", \"transition\": {\"duration\": 0, \"easing\": \"linear\"}}], \"label\": \"1954\", \"method\": \"animate\"}, {\"args\": [[\"2002\"], {\"frame\": {\"duration\": 0, \"redraw\": true}, \"fromcurrent\": true, \"mode\": \"immediate\", \"transition\": {\"duration\": 0, \"easing\": \"linear\"}}], \"label\": \"2002\", \"method\": \"animate\"}, {\"args\": [[\"2019\"], {\"frame\": {\"duration\": 0, \"redraw\": true}, \"fromcurrent\": true, \"mode\": \"immediate\", \"transition\": {\"duration\": 0, \"easing\": \"linear\"}}], \"label\": \"2019\", \"method\": \"animate\"}, {\"args\": [[\"2020\"], {\"frame\": {\"duration\": 0, \"redraw\": true}, \"fromcurrent\": true, \"mode\": \"immediate\", \"transition\": {\"duration\": 0, \"easing\": \"linear\"}}], \"label\": \"2020\", \"method\": \"animate\"}, {\"args\": [[\"2022\"], {\"frame\": {\"duration\": 0, \"redraw\": true}, \"fromcurrent\": true, \"mode\": \"immediate\", \"transition\": {\"duration\": 0, \"easing\": \"linear\"}}], \"label\": \"2022\", \"method\": \"animate\"}, {\"args\": [[\"2023\"], {\"frame\": {\"duration\": 0, \"redraw\": true}, \"fromcurrent\": true, \"mode\": \"immediate\", \"transition\": {\"duration\": 0, \"easing\": \"linear\"}}], \"label\": \"2023\", \"method\": \"animate\"}, {\"args\": [[\"2024\"], {\"frame\": {\"duration\": 0, \"redraw\": true}, \"fromcurrent\": true, \"mode\": \"immediate\", \"transition\": {\"duration\": 0, \"easing\": \"linear\"}}], \"label\": \"2024\", \"method\": \"animate\"}, {\"args\": [[\"2015\"], {\"frame\": {\"duration\": 0, \"redraw\": true}, \"fromcurrent\": true, \"mode\": \"immediate\", \"transition\": {\"duration\": 0, \"easing\": \"linear\"}}], \"label\": \"2015\", \"method\": \"animate\"}, {\"args\": [[\"1997\"], {\"frame\": {\"duration\": 0, \"redraw\": true}, \"fromcurrent\": true, \"mode\": \"immediate\", \"transition\": {\"duration\": 0, \"easing\": \"linear\"}}], \"label\": \"1997\", \"method\": \"animate\"}, {\"args\": [[\"1998\"], {\"frame\": {\"duration\": 0, \"redraw\": true}, \"fromcurrent\": true, \"mode\": \"immediate\", \"transition\": {\"duration\": 0, \"easing\": \"linear\"}}], \"label\": \"1998\", \"method\": \"animate\"}, {\"args\": [[\"1999\"], {\"frame\": {\"duration\": 0, \"redraw\": true}, \"fromcurrent\": true, \"mode\": \"immediate\", \"transition\": {\"duration\": 0, \"easing\": \"linear\"}}], \"label\": \"1999\", \"method\": \"animate\"}, {\"args\": [[\"2000\"], {\"frame\": {\"duration\": 0, \"redraw\": true}, \"fromcurrent\": true, \"mode\": \"immediate\", \"transition\": {\"duration\": 0, \"easing\": \"linear\"}}], \"label\": \"2000\", \"method\": \"animate\"}, {\"args\": [[\"2005\"], {\"frame\": {\"duration\": 0, \"redraw\": true}, \"fromcurrent\": true, \"mode\": \"immediate\", \"transition\": {\"duration\": 0, \"easing\": \"linear\"}}], \"label\": \"2005\", \"method\": \"animate\"}, {\"args\": [[\"1956\"], {\"frame\": {\"duration\": 0, \"redraw\": true}, \"fromcurrent\": true, \"mode\": \"immediate\", \"transition\": {\"duration\": 0, \"easing\": \"linear\"}}], \"label\": \"1956\", \"method\": \"animate\"}, {\"args\": [[\"1957\"], {\"frame\": {\"duration\": 0, \"redraw\": true}, \"fromcurrent\": true, \"mode\": \"immediate\", \"transition\": {\"duration\": 0, \"easing\": \"linear\"}}], \"label\": \"1957\", \"method\": \"animate\"}, {\"args\": [[\"1972\"], {\"frame\": {\"duration\": 0, \"redraw\": true}, \"fromcurrent\": true, \"mode\": \"immediate\", \"transition\": {\"duration\": 0, \"easing\": \"linear\"}}], \"label\": \"1972\", \"method\": \"animate\"}, {\"args\": [[\"1973\"], {\"frame\": {\"duration\": 0, \"redraw\": true}, \"fromcurrent\": true, \"mode\": \"immediate\", \"transition\": {\"duration\": 0, \"easing\": \"linear\"}}], \"label\": \"1973\", \"method\": \"animate\"}, {\"args\": [[\"1992\"], {\"frame\": {\"duration\": 0, \"redraw\": true}, \"fromcurrent\": true, \"mode\": \"immediate\", \"transition\": {\"duration\": 0, \"easing\": \"linear\"}}], \"label\": \"1992\", \"method\": \"animate\"}, {\"args\": [[\"1994\"], {\"frame\": {\"duration\": 0, \"redraw\": true}, \"fromcurrent\": true, \"mode\": \"immediate\", \"transition\": {\"duration\": 0, \"easing\": \"linear\"}}], \"label\": \"1994\", \"method\": \"animate\"}, {\"args\": [[\"2017\"], {\"frame\": {\"duration\": 0, \"redraw\": true}, \"fromcurrent\": true, \"mode\": \"immediate\", \"transition\": {\"duration\": 0, \"easing\": \"linear\"}}], \"label\": \"2017\", \"method\": \"animate\"}, {\"args\": [[\"2021\"], {\"frame\": {\"duration\": 0, \"redraw\": true}, \"fromcurrent\": true, \"mode\": \"immediate\", \"transition\": {\"duration\": 0, \"easing\": \"linear\"}}], \"label\": \"2021\", \"method\": \"animate\"}, {\"args\": [[\"2003\"], {\"frame\": {\"duration\": 0, \"redraw\": true}, \"fromcurrent\": true, \"mode\": \"immediate\", \"transition\": {\"duration\": 0, \"easing\": \"linear\"}}], \"label\": \"2003\", \"method\": \"animate\"}, {\"args\": [[\"2004\"], {\"frame\": {\"duration\": 0, \"redraw\": true}, \"fromcurrent\": true, \"mode\": \"immediate\", \"transition\": {\"duration\": 0, \"easing\": \"linear\"}}], \"label\": \"2004\", \"method\": \"animate\"}, {\"args\": [[\"1974\"], {\"frame\": {\"duration\": 0, \"redraw\": true}, \"fromcurrent\": true, \"mode\": \"immediate\", \"transition\": {\"duration\": 0, \"easing\": \"linear\"}}], \"label\": \"1974\", \"method\": \"animate\"}, {\"args\": [[\"1963\"], {\"frame\": {\"duration\": 0, \"redraw\": true}, \"fromcurrent\": true, \"mode\": \"immediate\", \"transition\": {\"duration\": 0, \"easing\": \"linear\"}}], \"label\": \"1963\", \"method\": \"animate\"}, {\"args\": [[\"1955\"], {\"frame\": {\"duration\": 0, \"redraw\": true}, \"fromcurrent\": true, \"mode\": \"immediate\", \"transition\": {\"duration\": 0, \"easing\": \"linear\"}}], \"label\": \"1955\", \"method\": \"animate\"}, {\"args\": [[\"1964\"], {\"frame\": {\"duration\": 0, \"redraw\": true}, \"fromcurrent\": true, \"mode\": \"immediate\", \"transition\": {\"duration\": 0, \"easing\": \"linear\"}}], \"label\": \"1964\", \"method\": \"animate\"}, {\"args\": [[\"1966\"], {\"frame\": {\"duration\": 0, \"redraw\": true}, \"fromcurrent\": true, \"mode\": \"immediate\", \"transition\": {\"duration\": 0, \"easing\": \"linear\"}}], \"label\": \"1966\", \"method\": \"animate\"}, {\"args\": [[\"1967\"], {\"frame\": {\"duration\": 0, \"redraw\": true}, \"fromcurrent\": true, \"mode\": \"immediate\", \"transition\": {\"duration\": 0, \"easing\": \"linear\"}}], \"label\": \"1967\", \"method\": \"animate\"}, {\"args\": [[\"2018\"], {\"frame\": {\"duration\": 0, \"redraw\": true}, \"fromcurrent\": true, \"mode\": \"immediate\", \"transition\": {\"duration\": 0, \"easing\": \"linear\"}}], \"label\": \"2018\", \"method\": \"animate\"}, {\"args\": [[\"1968\"], {\"frame\": {\"duration\": 0, \"redraw\": true}, \"fromcurrent\": true, \"mode\": \"immediate\", \"transition\": {\"duration\": 0, \"easing\": \"linear\"}}], \"label\": \"1968\", \"method\": \"animate\"}, {\"args\": [[\"1959\"], {\"frame\": {\"duration\": 0, \"redraw\": true}, \"fromcurrent\": true, \"mode\": \"immediate\", \"transition\": {\"duration\": 0, \"easing\": \"linear\"}}], \"label\": \"1959\", \"method\": \"animate\"}, {\"args\": [[\"1960\"], {\"frame\": {\"duration\": 0, \"redraw\": true}, \"fromcurrent\": true, \"mode\": \"immediate\", \"transition\": {\"duration\": 0, \"easing\": \"linear\"}}], \"label\": \"1960\", \"method\": \"animate\"}, {\"args\": [[\"1961\"], {\"frame\": {\"duration\": 0, \"redraw\": true}, \"fromcurrent\": true, \"mode\": \"immediate\", \"transition\": {\"duration\": 0, \"easing\": \"linear\"}}], \"label\": \"1961\", \"method\": \"animate\"}, {\"args\": [[\"1962\"], {\"frame\": {\"duration\": 0, \"redraw\": true}, \"fromcurrent\": true, \"mode\": \"immediate\", \"transition\": {\"duration\": 0, \"easing\": \"linear\"}}], \"label\": \"1962\", \"method\": \"animate\"}, {\"args\": [[\"1965\"], {\"frame\": {\"duration\": 0, \"redraw\": true}, \"fromcurrent\": true, \"mode\": \"immediate\", \"transition\": {\"duration\": 0, \"easing\": \"linear\"}}], \"label\": \"1965\", \"method\": \"animate\"}, {\"args\": [[\"1969\"], {\"frame\": {\"duration\": 0, \"redraw\": true}, \"fromcurrent\": true, \"mode\": \"immediate\", \"transition\": {\"duration\": 0, \"easing\": \"linear\"}}], \"label\": \"1969\", \"method\": \"animate\"}, {\"args\": [[\"1970\"], {\"frame\": {\"duration\": 0, \"redraw\": true}, \"fromcurrent\": true, \"mode\": \"immediate\", \"transition\": {\"duration\": 0, \"easing\": \"linear\"}}], \"label\": \"1970\", \"method\": \"animate\"}, {\"args\": [[\"2012\"], {\"frame\": {\"duration\": 0, \"redraw\": true}, \"fromcurrent\": true, \"mode\": \"immediate\", \"transition\": {\"duration\": 0, \"easing\": \"linear\"}}], \"label\": \"2012\", \"method\": \"animate\"}, {\"args\": [[\"2016\"], {\"frame\": {\"duration\": 0, \"redraw\": true}, \"fromcurrent\": true, \"mode\": \"immediate\", \"transition\": {\"duration\": 0, \"easing\": \"linear\"}}], \"label\": \"2016\", \"method\": \"animate\"}, {\"args\": [[\"1971\"], {\"frame\": {\"duration\": 0, \"redraw\": true}, \"fromcurrent\": true, \"mode\": \"immediate\", \"transition\": {\"duration\": 0, \"easing\": \"linear\"}}], \"label\": \"1971\", \"method\": \"animate\"}, {\"args\": [[\"2006\"], {\"frame\": {\"duration\": 0, \"redraw\": true}, \"fromcurrent\": true, \"mode\": \"immediate\", \"transition\": {\"duration\": 0, \"easing\": \"linear\"}}], \"label\": \"2006\", \"method\": \"animate\"}, {\"args\": [[\"1958\"], {\"frame\": {\"duration\": 0, \"redraw\": true}, \"fromcurrent\": true, \"mode\": \"immediate\", \"transition\": {\"duration\": 0, \"easing\": \"linear\"}}], \"label\": \"1958\", \"method\": \"animate\"}, {\"args\": [[\"1996\"], {\"frame\": {\"duration\": 0, \"redraw\": true}, \"fromcurrent\": true, \"mode\": \"immediate\", \"transition\": {\"duration\": 0, \"easing\": \"linear\"}}], \"label\": \"1996\", \"method\": \"animate\"}, {\"args\": [[\"2001\"], {\"frame\": {\"duration\": 0, \"redraw\": true}, \"fromcurrent\": true, \"mode\": \"immediate\", \"transition\": {\"duration\": 0, \"easing\": \"linear\"}}], \"label\": \"2001\", \"method\": \"animate\"}], \"x\": 0.1, \"xanchor\": \"left\", \"y\": 0, \"yanchor\": \"top\"}], \"template\": {\"data\": {\"bar\": [{\"error_x\": {\"color\": \"#2a3f5f\"}, \"error_y\": {\"color\": \"#2a3f5f\"}, \"marker\": {\"line\": {\"color\": \"#E5ECF6\", \"width\": 0.5}}, \"type\": \"bar\"}], \"barpolar\": [{\"marker\": {\"line\": {\"color\": \"#E5ECF6\", \"width\": 0.5}}, \"type\": \"barpolar\"}], \"carpet\": [{\"aaxis\": {\"endlinecolor\": \"#2a3f5f\", \"gridcolor\": \"white\", \"linecolor\": \"white\", \"minorgridcolor\": \"white\", \"startlinecolor\": \"#2a3f5f\"}, \"baxis\": {\"endlinecolor\": \"#2a3f5f\", \"gridcolor\": \"white\", \"linecolor\": \"white\", \"minorgridcolor\": \"white\", \"startlinecolor\": \"#2a3f5f\"}, \"type\": \"carpet\"}], \"choropleth\": [{\"colorbar\": {\"outlinewidth\": 0, \"ticks\": \"\"}, \"type\": \"choropleth\"}], \"contour\": [{\"colorbar\": {\"outlinewidth\": 0, \"ticks\": \"\"}, \"colorscale\": [[0.0, \"#0d0887\"], [0.1111111111111111, \"#46039f\"], [0.2222222222222222, \"#7201a8\"], [0.3333333333333333, \"#9c179e\"], [0.4444444444444444, \"#bd3786\"], [0.5555555555555556, \"#d8576b\"], [0.6666666666666666, \"#ed7953\"], [0.7777777777777778, \"#fb9f3a\"], [0.8888888888888888, \"#fdca26\"], [1.0, \"#f0f921\"]], \"type\": \"contour\"}], \"contourcarpet\": [{\"colorbar\": {\"outlinewidth\": 0, \"ticks\": \"\"}, \"type\": \"contourcarpet\"}], \"heatmap\": [{\"colorbar\": {\"outlinewidth\": 0, \"ticks\": \"\"}, \"colorscale\": [[0.0, \"#0d0887\"], [0.1111111111111111, \"#46039f\"], [0.2222222222222222, \"#7201a8\"], [0.3333333333333333, \"#9c179e\"], [0.4444444444444444, \"#bd3786\"], [0.5555555555555556, \"#d8576b\"], [0.6666666666666666, \"#ed7953\"], [0.7777777777777778, \"#fb9f3a\"], [0.8888888888888888, \"#fdca26\"], [1.0, \"#f0f921\"]], \"type\": \"heatmap\"}], \"heatmapgl\": [{\"colorbar\": {\"outlinewidth\": 0, \"ticks\": \"\"}, \"colorscale\": [[0.0, \"#0d0887\"], [0.1111111111111111, \"#46039f\"], [0.2222222222222222, \"#7201a8\"], [0.3333333333333333, \"#9c179e\"], [0.4444444444444444, \"#bd3786\"], [0.5555555555555556, \"#d8576b\"], [0.6666666666666666, \"#ed7953\"], [0.7777777777777778, \"#fb9f3a\"], [0.8888888888888888, \"#fdca26\"], [1.0, \"#f0f921\"]], \"type\": \"heatmapgl\"}], \"histogram\": [{\"marker\": {\"colorbar\": {\"outlinewidth\": 0, \"ticks\": \"\"}}, \"type\": \"histogram\"}], \"histogram2d\": [{\"colorbar\": {\"outlinewidth\": 0, \"ticks\": \"\"}, \"colorscale\": [[0.0, \"#0d0887\"], [0.1111111111111111, \"#46039f\"], [0.2222222222222222, \"#7201a8\"], [0.3333333333333333, \"#9c179e\"], [0.4444444444444444, \"#bd3786\"], [0.5555555555555556, \"#d8576b\"], [0.6666666666666666, \"#ed7953\"], [0.7777777777777778, \"#fb9f3a\"], [0.8888888888888888, \"#fdca26\"], [1.0, \"#f0f921\"]], \"type\": \"histogram2d\"}], \"histogram2dcontour\": [{\"colorbar\": {\"outlinewidth\": 0, \"ticks\": \"\"}, \"colorscale\": [[0.0, \"#0d0887\"], [0.1111111111111111, \"#46039f\"], [0.2222222222222222, \"#7201a8\"], [0.3333333333333333, \"#9c179e\"], [0.4444444444444444, \"#bd3786\"], [0.5555555555555556, \"#d8576b\"], [0.6666666666666666, \"#ed7953\"], [0.7777777777777778, \"#fb9f3a\"], [0.8888888888888888, \"#fdca26\"], [1.0, \"#f0f921\"]], \"type\": \"histogram2dcontour\"}], \"mesh3d\": [{\"colorbar\": {\"outlinewidth\": 0, \"ticks\": \"\"}, \"type\": \"mesh3d\"}], \"parcoords\": [{\"line\": {\"colorbar\": {\"outlinewidth\": 0, \"ticks\": \"\"}}, \"type\": \"parcoords\"}], \"pie\": [{\"automargin\": true, \"type\": \"pie\"}], \"scatter\": [{\"marker\": {\"colorbar\": {\"outlinewidth\": 0, \"ticks\": \"\"}}, \"type\": \"scatter\"}], \"scatter3d\": [{\"line\": {\"colorbar\": {\"outlinewidth\": 0, \"ticks\": \"\"}}, \"marker\": {\"colorbar\": {\"outlinewidth\": 0, \"ticks\": \"\"}}, \"type\": \"scatter3d\"}], \"scattercarpet\": [{\"marker\": {\"colorbar\": {\"outlinewidth\": 0, \"ticks\": \"\"}}, \"type\": \"scattercarpet\"}], \"scattergeo\": [{\"marker\": {\"colorbar\": {\"outlinewidth\": 0, \"ticks\": \"\"}}, \"type\": \"scattergeo\"}], \"scattergl\": [{\"marker\": {\"colorbar\": {\"outlinewidth\": 0, \"ticks\": \"\"}}, \"type\": \"scattergl\"}], \"scattermapbox\": [{\"marker\": {\"colorbar\": {\"outlinewidth\": 0, \"ticks\": \"\"}}, \"type\": \"scattermapbox\"}], \"scatterpolar\": [{\"marker\": {\"colorbar\": {\"outlinewidth\": 0, \"ticks\": \"\"}}, \"type\": \"scatterpolar\"}], \"scatterpolargl\": [{\"marker\": {\"colorbar\": {\"outlinewidth\": 0, \"ticks\": \"\"}}, \"type\": \"scatterpolargl\"}], \"scatterternary\": [{\"marker\": {\"colorbar\": {\"outlinewidth\": 0, \"ticks\": \"\"}}, \"type\": \"scatterternary\"}], \"surface\": [{\"colorbar\": {\"outlinewidth\": 0, \"ticks\": \"\"}, \"colorscale\": [[0.0, \"#0d0887\"], [0.1111111111111111, \"#46039f\"], [0.2222222222222222, \"#7201a8\"], [0.3333333333333333, \"#9c179e\"], [0.4444444444444444, \"#bd3786\"], [0.5555555555555556, \"#d8576b\"], [0.6666666666666666, \"#ed7953\"], [0.7777777777777778, \"#fb9f3a\"], [0.8888888888888888, \"#fdca26\"], [1.0, \"#f0f921\"]], \"type\": \"surface\"}], \"table\": [{\"cells\": {\"fill\": {\"color\": \"#EBF0F8\"}, \"line\": {\"color\": \"white\"}}, \"header\": {\"fill\": {\"color\": \"#C8D4E3\"}, \"line\": {\"color\": \"white\"}}, \"type\": \"table\"}]}, \"layout\": {\"annotationdefaults\": {\"arrowcolor\": \"#2a3f5f\", \"arrowhead\": 0, \"arrowwidth\": 1}, \"autotypenumbers\": \"strict\", \"coloraxis\": {\"colorbar\": {\"outlinewidth\": 0, \"ticks\": \"\"}}, \"colorscale\": {\"diverging\": [[0, \"#8e0152\"], [0.1, \"#c51b7d\"], [0.2, \"#de77ae\"], [0.3, \"#f1b6da\"], [0.4, \"#fde0ef\"], [0.5, \"#f7f7f7\"], [0.6, \"#e6f5d0\"], [0.7, \"#b8e186\"], [0.8, \"#7fbc41\"], [0.9, \"#4d9221\"], [1, \"#276419\"]], \"sequential\": [[0.0, \"#0d0887\"], [0.1111111111111111, \"#46039f\"], [0.2222222222222222, \"#7201a8\"], [0.3333333333333333, \"#9c179e\"], [0.4444444444444444, \"#bd3786\"], [0.5555555555555556, \"#d8576b\"], [0.6666666666666666, \"#ed7953\"], [0.7777777777777778, \"#fb9f3a\"], [0.8888888888888888, \"#fdca26\"], [1.0, \"#f0f921\"]], \"sequentialminus\": [[0.0, \"#0d0887\"], [0.1111111111111111, \"#46039f\"], [0.2222222222222222, \"#7201a8\"], [0.3333333333333333, \"#9c179e\"], [0.4444444444444444, \"#bd3786\"], [0.5555555555555556, \"#d8576b\"], [0.6666666666666666, \"#ed7953\"], [0.7777777777777778, \"#fb9f3a\"], [0.8888888888888888, \"#fdca26\"], [1.0, \"#f0f921\"]]}, \"colorway\": [\"#636efa\", \"#EF553B\", \"#00cc96\", \"#ab63fa\", \"#FFA15A\", \"#19d3f3\", \"#FF6692\", \"#B6E880\", \"#FF97FF\", \"#FECB52\"], \"font\": {\"color\": \"#2a3f5f\"}, \"geo\": {\"bgcolor\": \"white\", \"lakecolor\": \"white\", \"landcolor\": \"#E5ECF6\", \"showlakes\": true, \"showland\": true, \"subunitcolor\": \"white\"}, \"hoverlabel\": {\"align\": \"left\"}, \"hovermode\": \"closest\", \"mapbox\": {\"style\": \"light\"}, \"paper_bgcolor\": \"white\", \"plot_bgcolor\": \"#E5ECF6\", \"polar\": {\"angularaxis\": {\"gridcolor\": \"white\", \"linecolor\": \"white\", \"ticks\": \"\"}, \"bgcolor\": \"#E5ECF6\", \"radialaxis\": {\"gridcolor\": \"white\", \"linecolor\": \"white\", \"ticks\": \"\"}}, \"scene\": {\"xaxis\": {\"backgroundcolor\": \"#E5ECF6\", \"gridcolor\": \"white\", \"gridwidth\": 2, \"linecolor\": \"white\", \"showbackground\": true, \"ticks\": \"\", \"zerolinecolor\": \"white\"}, \"yaxis\": {\"backgroundcolor\": \"#E5ECF6\", \"gridcolor\": \"white\", \"gridwidth\": 2, \"linecolor\": \"white\", \"showbackground\": true, \"ticks\": \"\", \"zerolinecolor\": \"white\"}, \"zaxis\": {\"backgroundcolor\": \"#E5ECF6\", \"gridcolor\": \"white\", \"gridwidth\": 2, \"linecolor\": \"white\", \"showbackground\": true, \"ticks\": \"\", \"zerolinecolor\": \"white\"}}, \"shapedefaults\": {\"line\": {\"color\": \"#2a3f5f\"}}, \"ternary\": {\"aaxis\": {\"gridcolor\": \"white\", \"linecolor\": \"white\", \"ticks\": \"\"}, \"baxis\": {\"gridcolor\": \"white\", \"linecolor\": \"white\", \"ticks\": \"\"}, \"bgcolor\": \"#E5ECF6\", \"caxis\": {\"gridcolor\": \"white\", \"linecolor\": \"white\", \"ticks\": \"\"}}, \"title\": {\"x\": 0.05}, \"xaxis\": {\"automargin\": true, \"gridcolor\": \"white\", \"linecolor\": \"white\", \"ticks\": \"\", \"title\": {\"standoff\": 15}, \"zerolinecolor\": \"white\", \"zerolinewidth\": 2}, \"yaxis\": {\"automargin\": true, \"gridcolor\": \"white\", \"linecolor\": \"white\", \"ticks\": \"\", \"title\": {\"standoff\": 15}, \"zerolinecolor\": \"white\", \"zerolinewidth\": 2}}}, \"title\": {\"text\": \"Points Accumulation Over Years\"}, \"updatemenus\": [{\"buttons\": [{\"args\": [null, {\"frame\": {\"duration\": 500, \"redraw\": true}, \"fromcurrent\": true, \"mode\": \"immediate\", \"transition\": {\"duration\": 500, \"easing\": \"linear\"}}], \"label\": \"&#9654;\", \"method\": \"animate\"}, {\"args\": [[null], {\"frame\": {\"duration\": 0, \"redraw\": true}, \"fromcurrent\": true, \"mode\": \"immediate\", \"transition\": {\"duration\": 0, \"easing\": \"linear\"}}], \"label\": \"&#9724;\", \"method\": \"animate\"}], \"direction\": \"left\", \"pad\": {\"r\": 10, \"t\": 70}, \"showactive\": false, \"type\": \"buttons\", \"x\": 0.1, \"xanchor\": \"right\", \"y\": 0, \"yanchor\": \"top\"}], \"xaxis\": {\"anchor\": \"y\", \"domain\": [0.0, 1.0], \"title\": {\"text\": \"Driver\"}}, \"yaxis\": {\"anchor\": \"x\", \"domain\": [0.0, 1.0], \"range\": [0, 800], \"title\": {\"text\": \"PTS\"}}},                        {\"responsive\": true}                    ).then(function(){\n",
       "                            Plotly.addFrames('2576e2b6-bdba-4069-a4fe-c5db5d22813e', [{\"data\": [{\"alignmentgroup\": \"True\", \"hovertemplate\": \"year=2007<br>Driver=%{x}<br>PTS=%{y}<extra></extra>\", \"legendgroup\": \"\", \"marker\": {\"color\": \"darkslateblue\"}, \"name\": \"\", \"offsetgroup\": \"\", \"orientation\": \"v\", \"showlegend\": false, \"textposition\": \"auto\", \"x\": [\"Adrian  Sutil \", \"Alexander  Wurz \", \"Anthony  Davidson \", \"Christijan  Albers \", \"David  Coulthard \", \"Felipe  Massa \", \"Fernando  Alonso \", \"Giancarlo  Fisichella \", \"Heikki  Kovalainen \", \"Jarno  Trulli \", \"Jenson  Button \", \"Kazuki  Nakajima \", \"Kimi  R\\u00c3\\u00a4ikk\\u00c3\\u00b6nen \", \"Lewis  Hamilton \", \"Mark  Webber \", \"Nick  Heidfeld \", \"Nico  Rosberg \", \"Ralf  Schumacher \", \"Robert  Kubica \", \"Rubens  Barrichello \", \"Sakon  Yamamoto \", \"Scott  Speed \", \"Sebastian  Vettel \", \"Takuma  Sato \", \"Vitantonio  Liuzzi \"], \"xaxis\": \"x\", \"y\": [1.0, 13.0, 0.0, 0.0, 14.0, 94.0, 109.0, 21.0, 30.0, 8.0, 6.0, 0.0, 110.0, 109.0, 10.0, 61.0, 20.0, 5.0, 39.0, 0.0, 0.0, 0.0, 6.0, 4.0, 3.0], \"yaxis\": \"y\", \"type\": \"bar\"}], \"name\": \"2007\"}, {\"data\": [{\"alignmentgroup\": \"True\", \"hovertemplate\": \"year=2008<br>Driver=%{x}<br>PTS=%{y}<extra></extra>\", \"legendgroup\": \"\", \"marker\": {\"color\": \"darkslateblue\"}, \"name\": \"\", \"offsetgroup\": \"\", \"orientation\": \"v\", \"showlegend\": false, \"textposition\": \"auto\", \"x\": [\"Adrian  Sutil \", \"Anthony  Davidson \", \"David  Coulthard \", \"Felipe  Massa \", \"Fernando  Alonso \", \"Giancarlo  Fisichella \", \"Heikki  Kovalainen \", \"Jarno  Trulli \", \"Jenson  Button \", \"Kazuki  Nakajima \", \"Kimi  R\\u00c3\\u00a4ikk\\u00c3\\u00b6nen \", \"Lewis  Hamilton \", \"Mark  Webber \", \"Nelson  Piquet \", \"Nick  Heidfeld \", \"Nico  Rosberg \", \"Robert  Kubica \", \"Rubens  Barrichello \", \"Sebastian  Vettel \", \"Sebastien  Bourdais \", \"Takuma  Sato \", \"Timo  Glock \"], \"xaxis\": \"x\", \"y\": [0.0, 0.0, 8.0, 97.0, 61.0, 0.0, 53.0, 31.0, 3.0, 9.0, 75.0, 98.0, 21.0, 19.0, 60.0, 17.0, 75.0, 11.0, 35.0, 4.0, 0.0, 25.0], \"yaxis\": \"y\", \"type\": \"bar\"}], \"name\": \"2008\"}, {\"data\": [{\"alignmentgroup\": \"True\", \"hovertemplate\": \"year=2009<br>Driver=%{x}<br>PTS=%{y}<extra></extra>\", \"legendgroup\": \"\", \"marker\": {\"color\": \"darkslateblue\"}, \"name\": \"\", \"offsetgroup\": \"\", \"orientation\": \"v\", \"showlegend\": false, \"textposition\": \"auto\", \"x\": [\"Adrian  Sutil \", \"Felipe  Massa \", \"Fernando  Alonso \", \"Giancarlo  Fisichella \", \"Heikki  Kovalainen \", \"Jaime  Alguersuari \", \"Jarno  Trulli \", \"Jenson  Button \", \"Kamui  Kobayashi \", \"Kazuki  Nakajima \", \"Kimi  R\\u00c3\\u00a4ikk\\u00c3\\u00b6nen \", \"Lewis  Hamilton \", \"Luca  Badoer \", \"Mark  Webber \", \"Nelson  Piquet \", \"Nick  Heidfeld \", \"Nico  Rosberg \", \"Robert  Kubica \", \"Romain  Grosjean \", \"Rubens  Barrichello \", \"Sebastian  Vettel \", \"Sebastien  Bourdais \", \"Sebastien  Buemi \", \"Timo  Glock \", \"Vitantonio  Liuzzi \"], \"xaxis\": \"x\", \"y\": [5.0, 22.0, 26.0, 8.0, 22.0, 0.0, 32.5, 95.0, 3.0, 0.0, 48.0, 49.0, 0.0, 69.5, 0.0, 19.0, 34.5, 17.0, 0.0, 77.0, 84.0, 2.0, 6.0, 24.0, 0.0], \"yaxis\": \"y\", \"type\": \"bar\"}], \"name\": \"2009\"}, {\"data\": [{\"alignmentgroup\": \"True\", \"hovertemplate\": \"year=2010<br>Driver=%{x}<br>PTS=%{y}<extra></extra>\", \"legendgroup\": \"\", \"marker\": {\"color\": \"darkslateblue\"}, \"name\": \"\", \"offsetgroup\": \"\", \"orientation\": \"v\", \"showlegend\": false, \"textposition\": \"auto\", \"x\": [\"Adrian  Sutil \", \"Bruno  Senna \", \"Christian  Klien \", \"Felipe  Massa \", \"Fernando  Alonso \", \"Heikki  Kovalainen \", \"Jaime  Alguersuari \", \"Jarno  Trulli \", \"Jenson  Button \", \"Kamui  Kobayashi \", \"Karun  Chandhok \", \"Lewis  Hamilton \", \"Lucas  di Grassi \", \"Mark  Webber \", \"Michael  Schumacher \", \"Nick  Heidfeld \", \"Nico  Hulkenberg \", \"Nico  Rosberg \", \"Pedro  de la Rosa \", \"Robert  Kubica \", \"Rubens  Barrichello \", \"Sakon  Yamamoto \", \"Sebastian  Vettel \", \"Sebastien  Buemi \", \"Timo  Glock \", \"Vitaly  Petrov \", \"Vitantonio  Liuzzi \"], \"xaxis\": \"x\", \"y\": [47.0, 0.0, 0.0, 144.0, 252.0, 0.0, 5.0, 0.0, 214.0, 32.0, 0.0, 240.0, 0.0, 242.0, 72.0, 6.0, 22.0, 142.0, 6.0, 136.0, 47.0, 0.0, 256.0, 8.0, 0.0, 27.0, 21.0], \"yaxis\": \"y\", \"type\": \"bar\"}], \"name\": \"2010\"}, {\"data\": [{\"alignmentgroup\": \"True\", \"hovertemplate\": \"year=2011<br>Driver=%{x}<br>PTS=%{y}<extra></extra>\", \"legendgroup\": \"\", \"marker\": {\"color\": \"darkslateblue\"}, \"name\": \"\", \"offsetgroup\": \"\", \"orientation\": \"v\", \"showlegend\": false, \"textposition\": \"auto\", \"x\": [\"Adrian  Sutil \", \"Bruno  Senna \", \"Daniel  Ricciardo \", \"Felipe  Massa \", \"Fernando  Alonso \", \"Heikki  Kovalainen \", \"Jaime  Alguersuari \", \"Jarno  Trulli \", \"Jenson  Button \", \"Jerome  d'Ambrosio \", \"Kamui  Kobayashi \", \"Karun  Chandhok \", \"Lewis  Hamilton \", \"Mark  Webber \", \"Michael  Schumacher \", \"Narain  Karthikeyan \", \"Nick  Heidfeld \", \"Nico  Rosberg \", \"Pastor  Maldonado \", \"Paul  di Resta \", \"Pedro  de la Rosa \", \"Rubens  Barrichello \", \"Sebastian  Vettel \", \"Sebastien  Buemi \", \"Sergio  Perez \", \"Timo  Glock \", \"Vitaly  Petrov \", \"Vitantonio  Liuzzi \"], \"xaxis\": \"x\", \"y\": [42.0, 2.0, 0.0, 118.0, 257.0, 0.0, 26.0, 0.0, 270.0, 0.0, 30.0, 0.0, 227.0, 258.0, 76.0, 0.0, 34.0, 89.0, 1.0, 27.0, 0.0, 4.0, 392.0, 15.0, 14.0, 0.0, 37.0, 0.0], \"yaxis\": \"y\", \"type\": \"bar\"}], \"name\": \"2011\"}, {\"data\": [{\"alignmentgroup\": \"True\", \"hovertemplate\": \"year=2013<br>Driver=%{x}<br>PTS=%{y}<extra></extra>\", \"legendgroup\": \"\", \"marker\": {\"color\": \"darkslateblue\"}, \"name\": \"\", \"offsetgroup\": \"\", \"orientation\": \"v\", \"showlegend\": false, \"textposition\": \"auto\", \"x\": [\"Adrian  Sutil \", \"Charles  Pic \", \"Daniel  Ricciardo \", \"Esteban  Gutierrez\", \"Felipe  Massa \", \"Fernando  Alonso \", \"Giedo  van der Garde \", \"Heikki  Kovalainen \", \"Jean-Eric  Vergne \", \"Jenson  Button \", \"Jules  Bianchi \", \"Kimi  R\\u00c3\\u00a4ikk\\u00c3\\u00b6nen \", \"Lewis  Hamilton \", \"Mark  Webber \", \"Max  Chilton \", \"Nico  Hulkenberg \", \"Nico  Rosberg \", \"Pastor  Maldonado \", \"Paul  di Resta \", \"Romain  Grosjean \", \"Sebastian  Vettel \", \"Sergio  Perez \", \"Valtteri Bottas \"], \"xaxis\": \"x\", \"y\": [29.0, 0.0, 20.0, 6.0, 112.0, 242.0, 0.0, 0.0, 13.0, 73.0, 0.0, 183.0, 189.0, 199.0, 0.0, 51.0, 171.0, 1.0, 48.0, 132.0, 397.0, 49.0, 4.0], \"yaxis\": \"y\", \"type\": \"bar\"}], \"name\": \"2013\"}, {\"data\": [{\"alignmentgroup\": \"True\", \"hovertemplate\": \"year=2014<br>Driver=%{x}<br>PTS=%{y}<extra></extra>\", \"legendgroup\": \"\", \"marker\": {\"color\": \"darkslateblue\"}, \"name\": \"\", \"offsetgroup\": \"\", \"orientation\": \"v\", \"showlegend\": false, \"textposition\": \"auto\", \"x\": [\"Adrian  Sutil \", \"Daniel  Ricciardo \", \"Daniil  Kvyat \", \"Esteban  Gutierrez\", \"Felipe  Massa \", \"Fernando  Alonso \", \"Jean-Eric  Vergne \", \"Jenson  Button \", \"Jules  Bianchi \", \"Kamui  Kobayashi \", \"Kevin  Magnussen \", \"Kimi  R\\u00c3\\u00a4ikk\\u00c3\\u00b6nen \", \"Lewis  Hamilton \", \"Marcus  Ericsson \", \"Max  Chilton \", \"Nico  Hulkenberg \", \"Nico  Rosberg \", \"Pastor  Maldonado \", \"Romain  Grosjean \", \"Sebastian  Vettel \", \"Sergio  Perez \", \"Valtteri Bottas \", \"Will  Stevens \"], \"xaxis\": \"x\", \"y\": [0.0, 238.0, 8.0, 0.0, 134.0, 161.0, 22.0, 126.0, 2.0, 0.0, 55.0, 55.0, 384.0, 0.0, 0.0, 96.0, 317.0, 2.0, 8.0, 167.0, 59.0, 186.0, 0.0], \"yaxis\": \"y\", \"type\": \"bar\"}], \"name\": \"2014\"}, {\"data\": [{\"alignmentgroup\": \"True\", \"hovertemplate\": \"year=1990<br>Driver=%{x}<br>PTS=%{y}<extra></extra>\", \"legendgroup\": \"\", \"marker\": {\"color\": \"darkslateblue\"}, \"name\": \"\", \"offsetgroup\": \"\", \"orientation\": \"v\", \"showlegend\": false, \"textposition\": \"auto\", \"x\": [\"Aguri  Suzuki \", \"Alain  Prost \", \"Alessandro  Nannini \", \"Alex  Caffi \", \"Ayrton  Senna \", \"Derek  Warwick \", \"Eric  Bernard \", \"Gerhard  Berger \", \"Ivan  Capelli \", \"Jean  Alesi \", \"Mauricio  Gugelmin \", \"Nelson  Piquet \", \"Nigel  Mansell \", \"Riccardo  Patrese \", \"Roberto  Moreno \", \"Satoru  Nakajima \", \"Stefano  Modena \", \"Thierry  Boutsen \"], \"xaxis\": \"x\", \"y\": [6.0, 71.0, 21.0, 2.0, 78.0, 3.0, 5.0, 43.0, 6.0, 13.0, 1.0, 43.0, 37.0, 23.0, 6.0, 3.0, 2.0, 34.0], \"yaxis\": \"y\", \"type\": \"bar\"}], \"name\": \"1990\"}, {\"data\": [{\"alignmentgroup\": \"True\", \"hovertemplate\": \"year=1991<br>Driver=%{x}<br>PTS=%{y}<extra></extra>\", \"legendgroup\": \"\", \"marker\": {\"color\": \"darkslateblue\"}, \"name\": \"\", \"offsetgroup\": \"\", \"orientation\": \"v\", \"showlegend\": false, \"textposition\": \"auto\", \"x\": [\"Aguri  Suzuki \", \"Alain  Prost \", \"Andrea  de Cesaris \", \"Ayrton  Senna \", \"Bertrand  Gachot \", \"Emanuele  Pirro \", \"Eric  Bernard \", \"Gerhard  Berger \", \"Gianni  Morbidelli \", \"Ivan  Capelli \", \"Jean  Alesi \", \"Julian  Bailey \", \"Jyrki  Jarvilehto \", \"Mark  Blundell \", \"Martin  Brundle \", \"Michael  Schumacher \", \"Mika  Hakkinen \", \"Nelson  Piquet \", \"Nigel  Mansell \", \"Pierluigi  Martini \", \"Riccardo  Patrese \", \"Roberto  Moreno \", \"Satoru  Nakajima \", \"Stefano  Modena \"], \"xaxis\": \"x\", \"y\": [1.0, 34.0, 9.0, 96.0, 4.0, 1.0, 1.0, 43.0, 0.5, 1.0, 21.0, 1.0, 4.0, 1.0, 2.0, 4.0, 2.0, 26.5, 72.0, 6.0, 53.0, 8.0, 2.0, 10.0], \"yaxis\": \"y\", \"type\": \"bar\"}], \"name\": \"1991\"}, {\"data\": [{\"alignmentgroup\": \"True\", \"hovertemplate\": \"year=1995<br>Driver=%{x}<br>PTS=%{y}<extra></extra>\", \"legendgroup\": \"\", \"marker\": {\"color\": \"darkslateblue\"}, \"name\": \"\", \"offsetgroup\": \"\", \"orientation\": \"v\", \"showlegend\": false, \"textposition\": \"auto\", \"x\": [\"Aguri  Suzuki \", \"Damon  Hill \", \"David  Coulthard \", \"Eddie  Irvine \", \"Gerhard  Berger \", \"Gianni  Morbidelli \", \"Heinz-Harald  Frentzen \", \"Jean  Alesi \", \"Jean-Christophe  Boullion \", \"Johnny  Herbert \", \"Mark  Blundell \", \"Martin  Brundle \", \"Michael  Schumacher \", \"Mika  Hakkinen \", \"Mika  Salo \", \"Olivier  Panis \", \"Pedro  Lamy \", \"Rubens  Barrichello \"], \"xaxis\": \"x\", \"y\": [1.0, 69.0, 49.0, 10.0, 31.0, 5.0, 15.0, 42.0, 3.0, 45.0, 13.0, 7.0, 102.0, 17.0, 5.0, 16.0, 1.0, 11.0], \"yaxis\": \"y\", \"type\": \"bar\"}], \"name\": \"1995\"}, {\"data\": [{\"alignmentgroup\": \"True\", \"hovertemplate\": \"year=1980<br>Driver=%{x}<br>PTS=%{y}<extra></extra>\", \"legendgroup\": \"\", \"marker\": {\"color\": \"darkslateblue\"}, \"name\": \"\", \"offsetgroup\": \"\", \"orientation\": \"v\", \"showlegend\": false, \"textposition\": \"auto\", \"x\": [\"Alain  Prost \", \"Alan Jones \", \"Bruno  Giacomelli \", \"Carlos  Reutemann \", \"Derek  Daly \", \"Didier  Pironi \", \"Elio  de Angelis \", \"Emerson  Fittipaldi \", \"Gilles  Villeneuve \", \"Hector  Rebaque \", \"Jacques  Laffite \", \"Jean-Pierre  Jabouille \", \"Jean-Pierre  Jarier \", \"Jochen  Mass \", \"Jody  Scheckter \", \"John  Watson \", \"Keke  Rosberg \", \"Mario  Andretti \", \"Nelson  Piquet \", \"Rene  Arnoux \", \"Riccardo  Patrese \"], \"xaxis\": \"x\", \"y\": [5.0, 67.0, 4.0, 42.0, 6.0, 32.0, 13.0, 5.0, 6.0, 1.0, 34.0, 9.0, 6.0, 4.0, 2.0, 6.0, 6.0, 1.0, 54.0, 29.0, 7.0], \"yaxis\": \"y\", \"type\": \"bar\"}], \"name\": \"1980\"}, {\"data\": [{\"alignmentgroup\": \"True\", \"hovertemplate\": \"year=1981<br>Driver=%{x}<br>PTS=%{y}<extra></extra>\", \"legendgroup\": \"\", \"marker\": {\"color\": \"darkslateblue\"}, \"name\": \"\", \"offsetgroup\": \"\", \"orientation\": \"v\", \"showlegend\": false, \"textposition\": \"auto\", \"x\": [\"Alain  Prost \", \"Alan Jones \", \"Andrea  de Cesaris \", \"Bruno  Giacomelli \", \"Carlos  Reutemann \", \"Didier  Pironi \", \"Eddie Cheever \", \"Elio  de Angelis \", \"Eliseo  Salazar \", \"Gilles  Villeneuve \", \"Hector  Rebaque \", \"Jacques  Laffite \", \"John  Watson \", \"Marc  Surer \", \"Mario  Andretti \", \"Nelson  Piquet \", \"Nigel  Mansell \", \"Patrick  Tambay \", \"Rene  Arnoux \", \"Riccardo  Patrese \", \"Slim  Borgudd \"], \"xaxis\": \"x\", \"y\": [43.0, 46.0, 1.0, 7.0, 49.0, 9.0, 10.0, 14.0, 1.0, 25.0, 11.0, 44.0, 27.0, 4.0, 3.0, 50.0, 8.0, 1.0, 11.0, 10.0, 1.0], \"yaxis\": \"y\", \"type\": \"bar\"}], \"name\": \"1981\"}, {\"data\": [{\"alignmentgroup\": \"True\", \"hovertemplate\": \"year=1982<br>Driver=%{x}<br>PTS=%{y}<extra></extra>\", \"legendgroup\": \"\", \"marker\": {\"color\": \"darkslateblue\"}, \"name\": \"\", \"offsetgroup\": \"\", \"orientation\": \"v\", \"showlegend\": false, \"textposition\": \"auto\", \"x\": [\"Alain  Prost \", \"Andrea  de Cesaris \", \"Bruno  Giacomelli \", \"Carlos  Reutemann \", \"Chico  Serra \", \"Derek  Daly \", \"Didier  Pironi \", \"Eddie Cheever \", \"Elio  de Angelis \", \"Eliseo  Salazar \", \"Gilles  Villeneuve \", \"Jacques  Laffite \", \"Jean-Pierre  Jarier \", \"John  Watson \", \"Keke  Rosberg \", \"Manfred  Winkelhock \", \"Marc  Surer \", \"Mario  Andretti \", \"Mauro  Baldi \", \"Michele  Alboreto \", \"Nelson  Piquet \", \"Nigel  Mansell \", \"Niki  Lauda \", \"Patrick  Tambay \", \"Rene  Arnoux \", \"Riccardo  Patrese \"], \"xaxis\": \"x\", \"y\": [34.0, 5.0, 2.0, 6.0, 1.0, 8.0, 39.0, 15.0, 23.0, 2.0, 6.0, 5.0, 3.0, 39.0, 44.0, 2.0, 3.0, 4.0, 2.0, 25.0, 20.0, 7.0, 30.0, 25.0, 28.0, 21.0], \"yaxis\": \"y\", \"type\": \"bar\"}], \"name\": \"1982\"}, {\"data\": [{\"alignmentgroup\": \"True\", \"hovertemplate\": \"year=1983<br>Driver=%{x}<br>PTS=%{y}<extra></extra>\", \"legendgroup\": \"\", \"marker\": {\"color\": \"darkslateblue\"}, \"name\": \"\", \"offsetgroup\": \"\", \"orientation\": \"v\", \"showlegend\": false, \"textposition\": \"auto\", \"x\": [\"Alain  Prost \", \"Andrea  de Cesaris \", \"Bruno  Giacomelli \", \"Danny  Sullivan \", \"Derek  Warwick \", \"Eddie Cheever \", \"Elio  de Angelis \", \"Jacques  Laffite \", \"John  Watson \", \"Johnny  Cecotto \", \"Keke  Rosberg \", \"Marc  Surer \", \"Mauro  Baldi \", \"Michele  Alboreto \", \"Nelson  Piquet \", \"Nigel  Mansell \", \"Niki  Lauda \", \"Patrick  Tambay \", \"Rene  Arnoux \", \"Riccardo  Patrese \"], \"xaxis\": \"x\", \"y\": [57.0, 15.0, 1.0, 2.0, 9.0, 22.0, 2.0, 11.0, 22.0, 1.0, 27.0, 4.0, 3.0, 10.0, 59.0, 10.0, 12.0, 40.0, 49.0, 13.0], \"yaxis\": \"y\", \"type\": \"bar\"}], \"name\": \"1983\"}, {\"data\": [{\"alignmentgroup\": \"True\", \"hovertemplate\": \"year=1984<br>Driver=%{x}<br>PTS=%{y}<extra></extra>\", \"legendgroup\": \"\", \"marker\": {\"color\": \"darkslateblue\"}, \"name\": \"\", \"offsetgroup\": \"\", \"orientation\": \"v\", \"showlegend\": false, \"textposition\": \"auto\", \"x\": [\"Alain  Prost \", \"Andrea  de Cesaris \", \"Ayrton  Senna \", \"Derek  Warwick \", \"Eddie Cheever \", \"Elio  de Angelis \", \"Jacques  Laffite \", \"Keke  Rosberg \", \"Marc  Surer \", \"Michele  Alboreto \", \"Nelson  Piquet \", \"Nigel  Mansell \", \"Niki  Lauda \", \"Patrick  Tambay \", \"Piercarlo  Ghinzani \", \"Rene  Arnoux \", \"Riccardo  Patrese \", \"Stefan  Johansson \", \"Teo  Fabi \", \"Thierry  Boutsen \"], \"xaxis\": \"x\", \"y\": [71.5, 3.0, 13.0, 23.0, 3.0, 34.0, 5.0, 20.5, 1.0, 30.5, 29.0, 13.0, 72.0, 11.0, 2.0, 27.0, 8.0, 3.0, 9.0, 5.0], \"yaxis\": \"y\", \"type\": \"bar\"}], \"name\": \"1984\"}, {\"data\": [{\"alignmentgroup\": \"True\", \"hovertemplate\": \"year=1985<br>Driver=%{x}<br>PTS=%{y}<extra></extra>\", \"legendgroup\": \"\", \"marker\": {\"color\": \"darkslateblue\"}, \"name\": \"\", \"offsetgroup\": \"\", \"orientation\": \"v\", \"showlegend\": false, \"textposition\": \"auto\", \"x\": [\"Alain  Prost \", \"Andrea  de Cesaris \", \"Ayrton  Senna \", \"Derek  Warwick \", \"Elio  de Angelis \", \"Gerhard  Berger \", \"Ivan  Capelli \", \"Jacques  Laffite \", \"Keke  Rosberg \", \"Marc  Surer \", \"Michele  Alboreto \", \"Nelson  Piquet \", \"Nigel  Mansell \", \"Niki  Lauda \", \"Patrick  Tambay \", \"Philippe  Streiff \", \"Rene  Arnoux \", \"Stefan  Bellof \", \"Stefan  Johansson \", \"Thierry  Boutsen \"], \"xaxis\": \"x\", \"y\": [73.0, 3.0, 38.0, 5.0, 33.0, 3.0, 3.0, 16.0, 40.0, 5.0, 53.0, 21.0, 31.0, 14.0, 11.0, 4.0, 3.0, 4.0, 26.0, 11.0], \"yaxis\": \"y\", \"type\": \"bar\"}], \"name\": \"1985\"}, {\"data\": [{\"alignmentgroup\": \"True\", \"hovertemplate\": \"year=1986<br>Driver=%{x}<br>PTS=%{y}<extra></extra>\", \"legendgroup\": \"\", \"marker\": {\"color\": \"darkslateblue\"}, \"name\": \"\", \"offsetgroup\": \"\", \"orientation\": \"v\", \"showlegend\": false, \"textposition\": \"auto\", \"x\": [\"Alain  Prost \", \"Alan Jones \", \"Ayrton  Senna \", \"Christian  Danner \", \"Gerhard  Berger \", \"Jacques  Laffite \", \"Johnny  Dumfries \", \"Keke  Rosberg \", \"Martin  Brundle \", \"Michele  Alboreto \", \"Nelson  Piquet \", \"Nigel  Mansell \", \"Patrick  Tambay \", \"Philippe  Alliot \", \"Philippe  Streiff \", \"Rene  Arnoux \", \"Riccardo  Patrese \", \"Stefan  Johansson \", \"Teo  Fabi \"], \"xaxis\": \"x\", \"y\": [72.0, 4.0, 55.0, 1.0, 17.0, 14.0, 3.0, 22.0, 8.0, 14.0, 69.0, 70.0, 2.0, 1.0, 3.0, 14.0, 2.0, 23.0, 2.0], \"yaxis\": \"y\", \"type\": \"bar\"}], \"name\": \"1986\"}, {\"data\": [{\"alignmentgroup\": \"True\", \"hovertemplate\": \"year=1987<br>Driver=%{x}<br>PTS=%{y}<extra></extra>\", \"legendgroup\": \"\", \"marker\": {\"color\": \"darkslateblue\"}, \"name\": \"\", \"offsetgroup\": \"\", \"orientation\": \"v\", \"showlegend\": false, \"textposition\": \"auto\", \"x\": [\"Alain  Prost \", \"Andrea  de Cesaris \", \"Ayrton  Senna \", \"Derek  Warwick \", \"Eddie Cheever \", \"Gerhard  Berger \", \"Ivan  Capelli \", \"Jonathan Palmer \", \"Martin  Brundle \", \"Michele  Alboreto \", \"Nelson  Piquet \", \"Nigel  Mansell \", \"Philippe  Alliot \", \"Philippe  Streiff \", \"Rene  Arnoux \", \"Riccardo  Patrese \", \"Roberto  Moreno \", \"Satoru  Nakajima \", \"Stefan  Johansson \", \"Teo  Fabi \", \"Thierry  Boutsen \"], \"xaxis\": \"x\", \"y\": [46.0, 4.0, 57.0, 3.0, 8.0, 36.0, 1.0, 7.0, 2.0, 17.0, 73.0, 61.0, 3.0, 4.0, 1.0, 6.0, 1.0, 7.0, 30.0, 12.0, 16.0], \"yaxis\": \"y\", \"type\": \"bar\"}], \"name\": \"1987\"}, {\"data\": [{\"alignmentgroup\": \"True\", \"hovertemplate\": \"year=1988<br>Driver=%{x}<br>PTS=%{y}<extra></extra>\", \"legendgroup\": \"\", \"marker\": {\"color\": \"darkslateblue\"}, \"name\": \"\", \"offsetgroup\": \"\", \"orientation\": \"v\", \"showlegend\": false, \"textposition\": \"auto\", \"x\": [\"Alain  Prost \", \"Alessandro  Nannini \", \"Andrea  de Cesaris \", \"Ayrton  Senna \", \"Derek  Warwick \", \"Eddie Cheever \", \"Gerhard  Berger \", \"Ivan  Capelli \", \"Jonathan Palmer \", \"Mauricio  Gugelmin \", \"Michele  Alboreto \", \"Nelson  Piquet \", \"Nigel  Mansell \", \"Pierluigi  Martini \", \"Riccardo  Patrese \", \"Satoru  Nakajima \", \"Thierry  Boutsen \"], \"xaxis\": \"x\", \"y\": [87.0, 12.0, 3.0, 90.0, 17.0, 6.0, 41.0, 17.0, 5.0, 5.0, 24.0, 22.0, 12.0, 1.0, 8.0, 1.0, 27.0], \"yaxis\": \"y\", \"type\": \"bar\"}], \"name\": \"1988\"}, {\"data\": [{\"alignmentgroup\": \"True\", \"hovertemplate\": \"year=1989<br>Driver=%{x}<br>PTS=%{y}<extra></extra>\", \"legendgroup\": \"\", \"marker\": {\"color\": \"darkslateblue\"}, \"name\": \"\", \"offsetgroup\": \"\", \"orientation\": \"v\", \"showlegend\": false, \"textposition\": \"auto\", \"x\": [\"Alain  Prost \", \"Alessandro  Nannini \", \"Alex  Caffi \", \"Andrea  de Cesaris \", \"Ayrton  Senna \", \"Christian  Danner \", \"Derek  Warwick \", \"Eddie Cheever \", \"Emanuele  Pirro \", \"Gabriele  Tarquini \", \"Gerhard  Berger \", \"Jean  Alesi \", \"Johnny  Herbert \", \"Jonathan Palmer \", \"Luis  Perez-Sala \", \"Martin  Brundle \", \"Mauricio  Gugelmin \", \"Michele  Alboreto \", \"Nelson  Piquet \", \"Nigel  Mansell \", \"Olivier  Grouillard \", \"Philippe  Alliot \", \"Pierluigi  Martini \", \"Rene  Arnoux \", \"Riccardo  Patrese \", \"Satoru  Nakajima \", \"Stefan  Johansson \", \"Stefano  Modena \", \"Thierry  Boutsen \"], \"xaxis\": \"x\", \"y\": [76.0, 32.0, 4.0, 4.0, 60.0, 3.0, 7.0, 6.0, 2.0, 1.0, 21.0, 8.0, 5.0, 2.0, 1.0, 4.0, 4.0, 6.0, 12.0, 38.0, 1.0, 1.0, 5.0, 2.0, 40.0, 3.0, 6.0, 4.0, 37.0], \"yaxis\": \"y\", \"type\": \"bar\"}], \"name\": \"1989\"}, {\"data\": [{\"alignmentgroup\": \"True\", \"hovertemplate\": \"year=1993<br>Driver=%{x}<br>PTS=%{y}<extra></extra>\", \"legendgroup\": \"\", \"marker\": {\"color\": \"darkslateblue\"}, \"name\": \"\", \"offsetgroup\": \"\", \"orientation\": \"v\", \"showlegend\": false, \"textposition\": \"auto\", \"x\": [\"Alain  Prost \", \"Alessandro  Zanardi \", \"Ayrton  Senna \", \"Christian  Fittipaldi \", \"Damon  Hill \", \"Derek  Warwick \", \"Eddie  Irvine \", \"Erik  Comas \", \"Fabrizio  Barbazza \", \"Gerhard  Berger \", \"Jean  Alesi \", \"Johnny  Herbert \", \"Jyrki  Jarvilehto \", \"Karl  Wendlinger \", \"Mark  Blundell \", \"Martin  Brundle \", \"Michael  Andretti \", \"Michael  Schumacher \", \"Mika  Hakkinen \", \"Philippe  Alliot \", \"Riccardo  Patrese \", \"Rubens  Barrichello \"], \"xaxis\": \"x\", \"y\": [99.0, 1.0, 73.0, 5.0, 69.0, 4.0, 1.0, 1.0, 2.0, 12.0, 16.0, 11.0, 5.0, 7.0, 10.0, 13.0, 7.0, 52.0, 4.0, 2.0, 20.0, 2.0], \"yaxis\": \"y\", \"type\": \"bar\"}], \"name\": \"1993\"}, {\"data\": [{\"alignmentgroup\": \"True\", \"hovertemplate\": \"year=1952<br>Driver=%{x}<br>PTS=%{y}<extra></extra>\", \"legendgroup\": \"\", \"marker\": {\"color\": \"darkslateblue\"}, \"name\": \"\", \"offsetgroup\": \"\", \"orientation\": \"v\", \"showlegend\": false, \"textposition\": \"auto\", \"x\": [\"Alan  Brown \", \"Alberto  Ascari \", \"Art  Cross \", \"Bill Vukovich\", \"Dennis  Poore \", \"Duane  Carter \", \"Eric  Thompson \", \"Felice Bonetto \", \"Jean  Behra \", \"Jim  Rathmann \", \"Jose Froilan  Gonzalez \", \"Ken Wharton \", \"Luigi Villoresi \", \"Maurice Trintignant \", \"Mike  Hawthorn \", \"Nino  Farina \", \"Paul  Frere \", \"Piero Taruffi \", \"Robert Manzon \", \"Rudi Fischer\", \"Sam  Hanks \", \"Troy  Ruttman \"], \"xaxis\": \"x\", \"y\": [2.0, 36.0, 2.0, 1.0, 3.0, 3.0, 2.0, 2.0, 6.0, 6.0, 6.5, 3.0, 8.0, 2.0, 10.0, 24.0, 2.0, 22.0, 9.0, 10.0, 4.0, 8.0], \"yaxis\": \"y\", \"type\": \"bar\"}], \"name\": \"1952\"}, {\"data\": [{\"alignmentgroup\": \"True\", \"hovertemplate\": \"year=1975<br>Driver=%{x}<br>PTS=%{y}<extra></extra>\", \"legendgroup\": \"\", \"marker\": {\"color\": \"darkslateblue\"}, \"name\": \"\", \"offsetgroup\": \"\", \"orientation\": \"v\", \"showlegend\": false, \"textposition\": \"auto\", \"x\": [\"Alan Jones \", \"Carlos  Pace \", \"Carlos  Reutemann \", \"Clay  Regazzoni \", \"Emerson  Fittipaldi \", \"Gijs  van Lennep \", \"Jacky  Ickx \", \"Jacques  Laffite \", \"James  Hunt \", \"Jean-Pierre  Jarier \", \"Jochen  Mass \", \"Jody  Scheckter \", \"Lella  Lombardi \", \"Mario  Andretti \", \"Mark  Donohue \", \"Niki  Lauda \", \"Patrick  Depailler \", \"Ronnie  Peterson \", \"Tom  Pryce \", \"Tony  Brise \", \"Vittorio  Brambilla \"], \"xaxis\": \"x\", \"y\": [2.0, 24.0, 37.0, 25.0, 45.0, 1.0, 3.0, 6.0, 33.0, 1.5, 20.0, 20.0, 0.5, 5.0, 4.0, 64.5, 12.0, 6.0, 8.0, 1.0, 6.5], \"yaxis\": \"y\", \"type\": \"bar\"}], \"name\": \"1975\"}, {\"data\": [{\"alignmentgroup\": \"True\", \"hovertemplate\": \"year=1976<br>Driver=%{x}<br>PTS=%{y}<extra></extra>\", \"legendgroup\": \"\", \"marker\": {\"color\": \"darkslateblue\"}, \"name\": \"\", \"offsetgroup\": \"\", \"orientation\": \"v\", \"showlegend\": false, \"textposition\": \"auto\", \"x\": [\"Alan Jones \", \"Carlos  Pace \", \"Carlos  Reutemann \", \"Chris  Amon \", \"Clay  Regazzoni \", \"Emerson  Fittipaldi \", \"Gunnar  Nilsson \", \"Hans-Joachim  Stuck \", \"Jacques  Laffite \", \"James  Hunt \", \"Jochen  Mass \", \"Jody  Scheckter \", \"John  Watson \", \"Mario  Andretti \", \"Niki  Lauda \", \"Patrick  Depailler \", \"Rolf  Stommelen \", \"Ronnie  Peterson \", \"Tom  Pryce \", \"Vittorio  Brambilla \"], \"xaxis\": \"x\", \"y\": [7.0, 7.0, 3.0, 2.0, 31.0, 3.0, 11.0, 8.0, 20.0, 69.0, 19.0, 49.0, 20.0, 22.0, 68.0, 39.0, 1.0, 10.0, 10.0, 1.0], \"yaxis\": \"y\", \"type\": \"bar\"}], \"name\": \"1976\"}, {\"data\": [{\"alignmentgroup\": \"True\", \"hovertemplate\": \"year=1977<br>Driver=%{x}<br>PTS=%{y}<extra></extra>\", \"legendgroup\": \"\", \"marker\": {\"color\": \"darkslateblue\"}, \"name\": \"\", \"offsetgroup\": \"\", \"orientation\": \"v\", \"showlegend\": false, \"textposition\": \"auto\", \"x\": [\"Alan Jones \", \"Carlos  Pace \", \"Carlos  Reutemann \", \"Clay  Regazzoni \", \"Emerson  Fittipaldi \", \"Gunnar  Nilsson \", \"Hans-Joachim  Stuck \", \"Jacques  Laffite \", \"James  Hunt \", \"Jean-Pierre  Jarier \", \"Jochen  Mass \", \"Jody  Scheckter \", \"John  Watson \", \"Mario  Andretti \", \"Niki  Lauda \", \"Patrick  Depailler \", \"Patrick  Tambay \", \"Renzo  Zorzi \", \"Riccardo  Patrese \", \"Ronnie  Peterson \", \"Vittorio  Brambilla \"], \"xaxis\": \"x\", \"y\": [22.0, 6.0, 42.0, 5.0, 11.0, 20.0, 12.0, 18.0, 40.0, 1.0, 25.0, 55.0, 9.0, 47.0, 72.0, 20.0, 5.0, 1.0, 1.0, 7.0, 6.0], \"yaxis\": \"y\", \"type\": \"bar\"}], \"name\": \"1977\"}, {\"data\": [{\"alignmentgroup\": \"True\", \"hovertemplate\": \"year=1978<br>Driver=%{x}<br>PTS=%{y}<extra></extra>\", \"legendgroup\": \"\", \"marker\": {\"color\": \"darkslateblue\"}, \"name\": \"\", \"offsetgroup\": \"\", \"orientation\": \"v\", \"showlegend\": false, \"textposition\": \"auto\", \"x\": [\"Alan Jones \", \"Carlos  Reutemann \", \"Clay  Regazzoni \", \"Derek  Daly \", \"Didier  Pironi \", \"Emerson  Fittipaldi \", \"Gilles  Villeneuve \", \"Hans-Joachim  Stuck \", \"Hector  Rebaque \", \"Jacques  Laffite \", \"James  Hunt \", \"Jean-Pierre  Jabouille \", \"Jody  Scheckter \", \"John  Watson \", \"Mario  Andretti \", \"Niki  Lauda \", \"Patrick  Depailler \", \"Patrick  Tambay \", \"Riccardo  Patrese \", \"Ronnie  Peterson \", \"Vittorio  Brambilla \"], \"xaxis\": \"x\", \"y\": [11.0, 48.0, 4.0, 1.0, 7.0, 17.0, 17.0, 2.0, 1.0, 19.0, 8.0, 3.0, 24.0, 25.0, 64.0, 44.0, 34.0, 8.0, 11.0, 51.0, 1.0], \"yaxis\": \"y\", \"type\": \"bar\"}], \"name\": \"1978\"}, {\"data\": [{\"alignmentgroup\": \"True\", \"hovertemplate\": \"year=1979<br>Driver=%{x}<br>PTS=%{y}<extra></extra>\", \"legendgroup\": \"\", \"marker\": {\"color\": \"darkslateblue\"}, \"name\": \"\", \"offsetgroup\": \"\", \"orientation\": \"v\", \"showlegend\": false, \"textposition\": \"auto\", \"x\": [\"Alan Jones \", \"Carlos  Reutemann \", \"Clay  Regazzoni \", \"Didier  Pironi \", \"Elio  de Angelis \", \"Emerson  Fittipaldi \", \"Gilles  Villeneuve \", \"Hans-Joachim  Stuck \", \"Jacky  Ickx \", \"Jacques  Laffite \", \"Jean-Pierre  Jabouille \", \"Jean-Pierre  Jarier \", \"Jochen  Mass \", \"Jody  Scheckter \", \"John  Watson \", \"Mario  Andretti \", \"Nelson  Piquet \", \"Niki  Lauda \", \"Patrick  Depailler \", \"Rene  Arnoux \", \"Riccardo  Patrese \"], \"xaxis\": \"x\", \"y\": [40.0, 20.0, 29.0, 14.0, 3.0, 1.0, 47.0, 2.0, 3.0, 36.0, 9.0, 14.0, 3.0, 51.0, 15.0, 14.0, 3.0, 4.0, 20.0, 17.0, 2.0], \"yaxis\": \"y\", \"type\": \"bar\"}], \"name\": \"1979\"}, {\"data\": [{\"alignmentgroup\": \"True\", \"hovertemplate\": \"year=1950<br>Driver=%{x}<br>PTS=%{y}<extra></extra>\", \"legendgroup\": \"\", \"marker\": {\"color\": \"darkslateblue\"}, \"name\": \"\", \"offsetgroup\": \"\", \"orientation\": \"v\", \"showlegend\": false, \"textposition\": \"auto\", \"x\": [\"Alberto  Ascari \", \"Bill  Holland \", \"Cecil Green \", \"Dorino Serafini \", \"Eugene Chaboud \", \"Felice Bonetto \", \"Johnnie Parsons \", \"Joie Chitwood \", \"Juan Manuel  Fangio \", \"Louis Chiron \", \"Louis Rosier \", \"Luigi  Fagioli \", \"Mauri Rose \", \"Nino  Farina \", \"Peter Whitehead \", \"Philippe Etancelin \", \"Prince  Bira \", \"Raymond Sommer \", \"Reg Parnell \", \"Robert Manzon \", \"Tony Bettenhausen \", \"Yves Giraud  Cabantous \"], \"xaxis\": \"x\", \"y\": [11.0, 6.0, 3.0, 3.0, 1.0, 2.0, 9.0, 1.0, 27.0, 4.0, 13.0, 24.0, 4.0, 30.0, 4.0, 3.0, 5.0, 3.0, 4.0, 3.0, 1.0, 3.0], \"yaxis\": \"y\", \"type\": \"bar\"}], \"name\": \"1950\"}, {\"data\": [{\"alignmentgroup\": \"True\", \"hovertemplate\": \"year=1951<br>Driver=%{x}<br>PTS=%{y}<extra></extra>\", \"legendgroup\": \"\", \"marker\": {\"color\": \"darkslateblue\"}, \"name\": \"\", \"offsetgroup\": \"\", \"orientation\": \"v\", \"showlegend\": false, \"textposition\": \"auto\", \"x\": [\"Alberto  Ascari \", \"Andy  Linden \", \"Bobby  Ball \", \"Consalvo Sanesi \", \"Felice Bonetto \", \"Jack  McGrath \", \"Jose Froilan  Gonzalez \", \"Juan Manuel  Fangio \", \"Lee  Wallard \", \"Louis Rosier \", \"Luigi  Fagioli \", \"Luigi Villoresi \", \"Manny  Ayulo \", \"Mike  Nazaruk \", \"Nino  Farina \", \"Piero Taruffi \", \"Reg Parnell \", \"Toulo  de Graffenried \", \"Yves Giraud  Cabantous \"], \"xaxis\": \"x\", \"y\": [25.0, 3.0, 2.0, 3.0, 7.0, 2.0, 24.0, 31.0, 9.0, 3.0, 4.0, 15.0, 2.0, 6.0, 19.0, 10.0, 5.0, 2.0, 2.0], \"yaxis\": \"y\", \"type\": \"bar\"}], \"name\": \"1951\"}, {\"data\": [{\"alignmentgroup\": \"True\", \"hovertemplate\": \"year=1953<br>Driver=%{x}<br>PTS=%{y}<extra></extra>\", \"legendgroup\": \"\", \"marker\": {\"color\": \"darkslateblue\"}, \"name\": \"\", \"offsetgroup\": \"\", \"orientation\": \"v\", \"showlegend\": false, \"textposition\": \"auto\", \"x\": [\"Alberto  Ascari \", \"Art  Cross \", \"Bill Vukovich\", \"Duane  Carter \", \"Felice Bonetto \", \"Fred  Agabashian \", \"Hermann  Lang \", \"Jack  McGrath \", \"Jose Froilan  Gonzalez \", \"Juan Manuel  Fangio \", \"Luigi Villoresi \", \"Maurice Trintignant \", \"Mike  Hawthorn \", \"Nino  Farina \", \"Onofre  Marimon \", \"Oscar Alfredo  Galvez \", \"Paul  Russo \", \"Sam  Hanks \", \"Toulo  de Graffenried \"], \"xaxis\": \"x\", \"y\": [34.5, 6.0, 9.0, 2.0, 6.5, 1.5, 2.0, 2.0, 13.5, 27.5, 17.0, 4.0, 19.0, 26.0, 4.0, 2.0, 1.5, 2.0, 7.0], \"yaxis\": \"y\", \"type\": \"bar\"}], \"name\": \"1953\"}, {\"data\": [{\"alignmentgroup\": \"True\", \"hovertemplate\": \"year=1954<br>Driver=%{x}<br>PTS=%{y}<extra></extra>\", \"legendgroup\": \"\", \"marker\": {\"color\": \"darkslateblue\"}, \"name\": \"\", \"offsetgroup\": \"\", \"orientation\": \"v\", \"showlegend\": false, \"textposition\": \"auto\", \"x\": [\"Alberto  Ascari \", \"Andre  Pilette \", \"Bill Vukovich\", \"Duane  Carter \", \"Elie  Bayol \", \"Hans Herrmann \", \"Jack  McGrath \", \"Jean  Behra \", \"Jimmy  Bryan \", \"Jose Froilan  Gonzalez \", \"Juan Manuel  Fangio \", \"Karl  Kling \", \"Luigi  Musso \", \"Luigi Villoresi \", \"Maurice Trintignant \", \"Mike  Hawthorn \", \"Mike  Nazaruk \", \"Nino  Farina \", \"Onofre  Marimon \", \"Prince  Bira \", \"Robert Manzon \", \"Roberto  Mieres \", \"Sergio  Mantovani \", \"Stirling  Moss \", \"Troy  Ruttman \", \"Umberto Maglioli \"], \"xaxis\": \"x\", \"y\": [1.1, 2.0, 8.0, 1.5, 2.0, 8.0, 5.0, 0.1, 6.0, 25.1, 42.0, 12.0, 6.0, 2.0, 17.0, 24.6, 2.0, 6.0, 4.1, 3.0, 4.0, 6.0, 4.0, 4.1, 1.5, 2.0], \"yaxis\": \"y\", \"type\": \"bar\"}], \"name\": \"1954\"}, {\"data\": [{\"alignmentgroup\": \"True\", \"hovertemplate\": \"year=2002<br>Driver=%{x}<br>PTS=%{y}<extra></extra>\", \"legendgroup\": \"\", \"marker\": {\"color\": \"darkslateblue\"}, \"name\": \"\", \"offsetgroup\": \"\", \"orientation\": \"v\", \"showlegend\": false, \"textposition\": \"auto\", \"x\": [\"Alex  Yoong \", \"Allan  McNish \", \"David  Coulthard \", \"Eddie  Irvine \", \"Enrique  Bernoldi \", \"Felipe  Massa \", \"Giancarlo  Fisichella \", \"Heinz-Harald  Frentzen \", \"Jacques  Villeneuve \", \"Jarno  Trulli \", \"Jenson  Button \", \"Juan Pablo  Montoya \", \"Kimi  R\\u00c3\\u00a4ikk\\u00c3\\u00b6nen \", \"Mark  Webber \", \"Michael  Schumacher \", \"Mika  Salo \", \"Nick  Heidfeld \", \"Olivier  Panis \", \"Pedro  de la Rosa \", \"Ralf  Schumacher \", \"Rubens  Barrichello \", \"Takuma  Sato \"], \"xaxis\": \"x\", \"y\": [0.0, 0.0, 41.0, 8.0, 0.0, 4.0, 7.0, 2.0, 4.0, 9.0, 14.0, 50.0, 24.0, 2.0, 144.0, 2.0, 7.0, 3.0, 0.0, 42.0, 77.0, 2.0], \"yaxis\": \"y\", \"type\": \"bar\"}], \"name\": \"2002\"}, {\"data\": [{\"alignmentgroup\": \"True\", \"hovertemplate\": \"year=2019<br>Driver=%{x}<br>PTS=%{y}<extra></extra>\", \"legendgroup\": \"\", \"marker\": {\"color\": \"darkslateblue\"}, \"name\": \"\", \"offsetgroup\": \"\", \"orientation\": \"v\", \"showlegend\": false, \"textposition\": \"auto\", \"x\": [\"Alexander  Albon \", \"Antonio  Giovinazzi \", \"Carlos  Sainz \", \"Charles  Leclerc \", \"Daniel  Ricciardo \", \"Daniil  Kvyat \", \"George  Russell \", \"Kevin  Magnussen \", \"Kimi  R\\u00c3\\u00a4ikk\\u00c3\\u00b6nen \", \"Lance  Stroll \", \"Lando  Norris \", \"Lewis  Hamilton \", \"Max  Verstappen \", \"Nico  Hulkenberg \", \"Pierre  Gasly \", \"Robert  Kubica \", \"Romain  Grosjean \", \"Sebastian  Vettel \", \"Sergio  Perez \", \"Valtteri  Bottas \"], \"xaxis\": \"x\", \"y\": [92.0, 14.0, 96.0, 264.0, 54.0, 37.0, 0.0, 20.0, 43.0, 21.0, 49.0, 413.0, 278.0, 37.0, 95.0, 1.0, 8.0, 240.0, 52.0, 326.0], \"yaxis\": \"y\", \"type\": \"bar\"}], \"name\": \"2019\"}, {\"data\": [{\"alignmentgroup\": \"True\", \"hovertemplate\": \"year=2020<br>Driver=%{x}<br>PTS=%{y}<extra></extra>\", \"legendgroup\": \"\", \"marker\": {\"color\": \"darkslateblue\"}, \"name\": \"\", \"offsetgroup\": \"\", \"orientation\": \"v\", \"showlegend\": false, \"textposition\": \"auto\", \"x\": [\"Alexander  Albon \", \"Antonio  Giovinazzi \", \"Carlos  Sainz \", \"Charles  Leclerc \", \"Daniel  Ricciardo \", \"Daniil  Kvyat \", \"Esteban  Ocon \", \"George  Russell \", \"Jack  Aitken \", \"Kevin  Magnussen \", \"Kimi  R\\u00c3\\u00a4ikk\\u00c3\\u00b6nen \", \"Lance  Stroll \", \"Lando  Norris \", \"Lewis  Hamilton \", \"Max  Verstappen \", \"Nicholas  Latifi \", \"Nico  Hulkenberg \", \"Pierre  Gasly \", \"Pietro  Fittipaldi \", \"Romain  Grosjean \", \"Sebastian  Vettel \", \"Sergio  Perez \", \"Valtteri  Bottas \"], \"xaxis\": \"x\", \"y\": [105.0, 4.0, 105.0, 98.0, 119.0, 32.0, 62.0, 3.0, 0.0, 1.0, 4.0, 75.0, 97.0, 347.0, 214.0, 0.0, 10.0, 75.0, 0.0, 2.0, 33.0, 125.0, 223.0], \"yaxis\": \"y\", \"type\": \"bar\"}], \"name\": \"2020\"}, {\"data\": [{\"alignmentgroup\": \"True\", \"hovertemplate\": \"year=2022<br>Driver=%{x}<br>PTS=%{y}<extra></extra>\", \"legendgroup\": \"\", \"marker\": {\"color\": \"darkslateblue\"}, \"name\": \"\", \"offsetgroup\": \"\", \"orientation\": \"v\", \"showlegend\": false, \"textposition\": \"auto\", \"x\": [\"Alexander  Albon \", \"Carlos  Sainz \", \"Charles  Leclerc \", \"Daniel  Ricciardo \", \"Esteban  Ocon \", \"Fernando  Alonso \", \"George  Russell \", \"Kevin  Magnussen \", \"Lance  Stroll \", \"Lando  Norris \", \"Lewis  Hamilton \", \"Max  Verstappen \", \"Mick  Schumacher \", \"Nicholas  Latifi \", \"Nico  Hulkenberg \", \"Nyck  De Vries \", \"Pierre  Gasly \", \"Sebastian  Vettel \", \"Sergio  Perez \", \"Valtteri  Bottas \", \"Yuki  Tsunoda \", \"Zhou  Guanyu \"], \"xaxis\": \"x\", \"y\": [4.0, 246.0, 308.0, 37.0, 92.0, 81.0, 275.0, 25.0, 18.0, 122.0, 240.0, 454.0, 12.0, 2.0, 0.0, 2.0, 23.0, 37.0, 305.0, 49.0, 12.0, 6.0], \"yaxis\": \"y\", \"type\": \"bar\"}], \"name\": \"2022\"}, {\"data\": [{\"alignmentgroup\": \"True\", \"hovertemplate\": \"year=2023<br>Driver=%{x}<br>PTS=%{y}<extra></extra>\", \"legendgroup\": \"\", \"marker\": {\"color\": \"darkslateblue\"}, \"name\": \"\", \"offsetgroup\": \"\", \"orientation\": \"v\", \"showlegend\": false, \"textposition\": \"auto\", \"x\": [\"Alexander  Albon \", \"Carlos  Sainz \", \"Charles  Leclerc \", \"Daniel  Ricciardo \", \"Esteban  Ocon \", \"Fernando  Alonso \", \"George  Russell \", \"Kevin  Magnussen \", \"Lance  Stroll \", \"Lando  Norris \", \"Lewis  Hamilton \", \"Liam  Lawson \", \"Logan  Sargeant \", \"Max  Verstappen \", \"Nico  Hulkenberg \", \"Nyck  De Vries \", \"Oscar  Piastri \", \"Pierre  Gasly \", \"Sergio  Perez \", \"Valtteri  Bottas \", \"Yuki  Tsunoda \", \"Zhou  Guanyu \"], \"xaxis\": \"x\", \"y\": [27.0, 200.0, 206.0, 6.0, 58.0, 206.0, 175.0, 3.0, 74.0, 205.0, 234.0, 2.0, 1.0, 575.0, 9.0, 0.0, 97.0, 62.0, 285.0, 10.0, 17.0, 6.0], \"yaxis\": \"y\", \"type\": \"bar\"}], \"name\": \"2023\"}, {\"data\": [{\"alignmentgroup\": \"True\", \"hovertemplate\": \"year=2024<br>Driver=%{x}<br>PTS=%{y}<extra></extra>\", \"legendgroup\": \"\", \"marker\": {\"color\": \"darkslateblue\"}, \"name\": \"\", \"offsetgroup\": \"\", \"orientation\": \"v\", \"showlegend\": false, \"textposition\": \"auto\", \"x\": [\"Alexander  Albon \", \"Carlos  Sainz \", \"Charles  Leclerc \", \"Daniel  Ricciardo \", \"Esteban  Ocon \", \"Fernando  Alonso \", \"George  Russell \", \"Kevin  Magnussen \", \"Lance  Stroll \", \"Lando  Norris \", \"Lewis  Hamilton \", \"Logan  Sargeant \", \"Max  Verstappen \", \"Nico  Hulkenberg \", \"Oliver  Bearman \", \"Oscar  Piastri \", \"Pierre  Gasly \", \"Sergio  Perez \", \"Valtteri  Bottas \", \"Yuki  Tsunoda \", \"Zhou  Guanyu \"], \"xaxis\": \"x\", \"y\": [2.0, 108.0, 138.0, 5.0, 1.0, 33.0, 54.0, 1.0, 11.0, 113.0, 42.0, 0.0, 169.0, 6.0, 6.0, 71.0, 1.0, 107.0, 0.0, 19.0, 0.0], \"yaxis\": \"y\", \"type\": \"bar\"}], \"name\": \"2024\"}, {\"data\": [{\"alignmentgroup\": \"True\", \"hovertemplate\": \"year=2015<br>Driver=%{x}<br>PTS=%{y}<extra></extra>\", \"legendgroup\": \"\", \"marker\": {\"color\": \"darkslateblue\"}, \"name\": \"\", \"offsetgroup\": \"\", \"orientation\": \"v\", \"showlegend\": false, \"textposition\": \"auto\", \"x\": [\"Alexander  Rossi \", \"Carlos  Sainz \", \"Daniel  Ricciardo \", \"Daniil  Kvyat \", \"Felipe  Massa \", \"Felipe  Nasr \", \"Fernando  Alonso \", \"Jenson  Button \", \"Kimi  R\\u00c3\\u00a4ikk\\u00c3\\u00b6nen \", \"Lewis  Hamilton \", \"Marcus  Ericsson \", \"Max  Verstappen \", \"Nico  Hulkenberg \", \"Nico  Rosberg \", \"Pastor  Maldonado \", \"Roberto  Merhi \", \"Romain  Grosjean \", \"Sebastian  Vettel \", \"Sergio  Perez \", \"Valtteri Bottas \", \"Will  Stevens \"], \"xaxis\": \"x\", \"y\": [0.0, 18.0, 92.0, 95.0, 121.0, 27.0, 11.0, 16.0, 150.0, 381.0, 9.0, 49.0, 58.0, 322.0, 27.0, 0.0, 51.0, 278.0, 78.0, 136.0, 0.0], \"yaxis\": \"y\", \"type\": \"bar\"}], \"name\": \"2015\"}, {\"data\": [{\"alignmentgroup\": \"True\", \"hovertemplate\": \"year=1997<br>Driver=%{x}<br>PTS=%{y}<extra></extra>\", \"legendgroup\": \"\", \"marker\": {\"color\": \"darkslateblue\"}, \"name\": \"\", \"offsetgroup\": \"\", \"orientation\": \"v\", \"showlegend\": false, \"textposition\": \"auto\", \"x\": [\"Alexander  Wurz \", \"Damon  Hill \", \"David  Coulthard \", \"Eddie  Irvine \", \"Gerhard  Berger \", \"Giancarlo  Fisichella \", \"Heinz-Harald  Frentzen \", \"Jacques  Villeneuve \", \"Jarno  Trulli \", \"Jean  Alesi \", \"Johnny  Herbert \", \"Michael  Schumacher \", \"Mika  Hakkinen \", \"Mika  Salo \", \"Nicola  Larini \", \"Olivier  Panis \", \"Pedro  Diniz \", \"Ralf  Schumacher \", \"Rubens  Barrichello \", \"Shinji  Nakano \"], \"xaxis\": \"x\", \"y\": [4.0, 7.0, 36.0, 24.0, 27.0, 20.0, 42.0, 81.0, 3.0, 36.0, 15.0, 78.0, 27.0, 2.0, 1.0, 16.0, 2.0, 13.0, 6.0, 2.0], \"yaxis\": \"y\", \"type\": \"bar\"}], \"name\": \"1997\"}, {\"data\": [{\"alignmentgroup\": \"True\", \"hovertemplate\": \"year=1998<br>Driver=%{x}<br>PTS=%{y}<extra></extra>\", \"legendgroup\": \"\", \"marker\": {\"color\": \"darkslateblue\"}, \"name\": \"\", \"offsetgroup\": \"\", \"orientation\": \"v\", \"showlegend\": false, \"textposition\": \"auto\", \"x\": [\"Alexander  Wurz \", \"Damon  Hill \", \"David  Coulthard \", \"Eddie  Irvine \", \"Esteban  Tuero \", \"Giancarlo  Fisichella \", \"Heinz-Harald  Frentzen \", \"Jacques  Villeneuve \", \"Jan  Magnussen \", \"Jarno  Trulli \", \"Jean  Alesi \", \"Johnny  Herbert \", \"Jos  Verstappen \", \"Michael  Schumacher \", \"Mika  Hakkinen \", \"Mika  Salo \", \"Olivier  Panis \", \"Pedro  Diniz \", \"Ralf  Schumacher \", \"Ricardo  Rosset \", \"Rubens  Barrichello \", \"Shinji  Nakano \", \"Toranosuke  Takagi \"], \"xaxis\": \"x\", \"y\": [17.0, 20.0, 56.0, 47.0, 0.0, 16.0, 17.0, 21.0, 1.0, 1.0, 9.0, 1.0, 0.0, 86.0, 100.0, 3.0, 0.0, 3.0, 14.0, 0.0, 4.0, 0.0, 0.0], \"yaxis\": \"y\", \"type\": \"bar\"}], \"name\": \"1998\"}, {\"data\": [{\"alignmentgroup\": \"True\", \"hovertemplate\": \"year=1999<br>Driver=%{x}<br>PTS=%{y}<extra></extra>\", \"legendgroup\": \"\", \"marker\": {\"color\": \"darkslateblue\"}, \"name\": \"\", \"offsetgroup\": \"\", \"orientation\": \"v\", \"showlegend\": false, \"textposition\": \"auto\", \"x\": [\"Alexander  Wurz \", \"Damon  Hill \", \"David  Coulthard \", \"Eddie  Irvine \", \"Giancarlo  Fisichella \", \"Heinz-Harald  Frentzen \", \"Jarno  Trulli \", \"Jean  Alesi \", \"Johnny  Herbert \", \"Marc  Gene \", \"Michael  Schumacher \", \"Mika  Hakkinen \", \"Mika  Salo \", \"Olivier  Panis \", \"Pedro  Diniz \", \"Pedro  de la Rosa \", \"Ralf  Schumacher \", \"Rubens  Barrichello \"], \"xaxis\": \"x\", \"y\": [3.0, 7.0, 48.0, 74.0, 13.0, 54.0, 7.0, 2.0, 15.0, 1.0, 44.0, 76.0, 10.0, 2.0, 3.0, 1.0, 35.0, 21.0], \"yaxis\": \"y\", \"type\": \"bar\"}], \"name\": \"1999\"}, {\"data\": [{\"alignmentgroup\": \"True\", \"hovertemplate\": \"year=2000<br>Driver=%{x}<br>PTS=%{y}<extra></extra>\", \"legendgroup\": \"\", \"marker\": {\"color\": \"darkslateblue\"}, \"name\": \"\", \"offsetgroup\": \"\", \"orientation\": \"v\", \"showlegend\": false, \"textposition\": \"auto\", \"x\": [\"Alexander  Wurz \", \"David  Coulthard \", \"Eddie  Irvine \", \"Gaston  Mazzacane \", \"Giancarlo  Fisichella \", \"Heinz-Harald  Frentzen \", \"Jacques  Villeneuve \", \"Jarno  Trulli \", \"Jean  Alesi \", \"Jenson  Button \", \"Johnny  Herbert \", \"Jos  Verstappen \", \"Luciano  Burti \", \"Marc  Gene \", \"Michael  Schumacher \", \"Mika  Hakkinen \", \"Mika  Salo \", \"Nick  Heidfeld \", \"Pedro  Diniz \", \"Pedro  de la Rosa \", \"Ralf  Schumacher \", \"Ricardo  Zonta \", \"Rubens  Barrichello \"], \"xaxis\": \"x\", \"y\": [2.0, 73.0, 4.0, 0.0, 18.0, 11.0, 17.0, 6.0, 0.0, 12.0, 0.0, 5.0, 0.0, 0.0, 108.0, 89.0, 6.0, 0.0, 0.0, 2.0, 24.0, 3.0, 62.0], \"yaxis\": \"y\", \"type\": \"bar\"}], \"name\": \"2000\"}, {\"data\": [{\"alignmentgroup\": \"True\", \"hovertemplate\": \"year=2005<br>Driver=%{x}<br>PTS=%{y}<extra></extra>\", \"legendgroup\": \"\", \"marker\": {\"color\": \"darkslateblue\"}, \"name\": \"\", \"offsetgroup\": \"\", \"orientation\": \"v\", \"showlegend\": false, \"textposition\": \"auto\", \"x\": [\"Alexander  Wurz \", \"Antonio  Pizzonia \", \"Christian  Klien \", \"Christijan  Albers \", \"David  Coulthard \", \"Felipe  Massa \", \"Fernando  Alonso \", \"Giancarlo  Fisichella \", \"Jacques  Villeneuve \", \"Jarno  Trulli \", \"Jenson  Button \", \"Juan Pablo  Montoya \", \"Kimi  R\\u00c3\\u00a4ikk\\u00c3\\u00b6nen \", \"Mark  Webber \", \"Michael  Schumacher \", \"Narain  Karthikeyan \", \"Nick  Heidfeld \", \"Patrick  Friesacher\", \"Pedro  de la Rosa \", \"Ralf  Schumacher \", \"Robert  Doornbos \", \"Rubens  Barrichello \", \"Takuma  Sato \", \"Tiago  Monteiro \", \"Vitantonio  Liuzzi \"], \"xaxis\": \"x\", \"y\": [6.0, 2.0, 9.0, 4.0, 24.0, 11.0, 133.0, 58.0, 9.0, 43.0, 37.0, 60.0, 112.0, 36.0, 62.0, 5.0, 28.0, 3.0, 4.0, 45.0, 0.0, 38.0, 1.0, 7.0, 1.0], \"yaxis\": \"y\", \"type\": \"bar\"}], \"name\": \"2005\"}, {\"data\": [{\"alignmentgroup\": \"True\", \"hovertemplate\": \"year=1956<br>Driver=%{x}<br>PTS=%{y}<extra></extra>\", \"legendgroup\": \"\", \"marker\": {\"color\": \"darkslateblue\"}, \"name\": \"\", \"offsetgroup\": \"\", \"orientation\": \"v\", \"showlegend\": false, \"textposition\": \"auto\", \"x\": [\"Alfonso  de Portago\", \"Cesare  Perdisa \", \"Chico  Landi \", \"Dick  Rathmann \", \"Don Freeland \", \"Eugenio  Castellotti \", \"Gerino Gerini\", \"Harry  Schell \", \"Hermano  da Silva Ramos \", \"Horace Gould\", \"Jack Fairman \", \"Jean  Behra \", \"Johnnie Parsons \", \"Juan Manuel  Fangio \", \"Louis Rosier \", \"Luigi  Musso \", \"Luigi Villoresi \", \"Mike  Hawthorn \", \"Olivier Gendebien \", \"Paco Godia \", \"Pat  Flaherty \", \"Paul  Frere \", \"Paul  Russo \", \"Peter  Collins \", \"Ron  Flockhart \", \"Sam  Hanks \", \"Stirling  Moss \"], \"xaxis\": \"x\", \"y\": [3.0, 3.0, 1.5, 2.0, 4.0, 7.5, 1.5, 3.0, 2.0, 2.0, 5.0, 22.0, 3.0, 30.0, 2.0, 4.0, 2.0, 4.0, 2.0, 6.0, 8.0, 6.0, 1.0, 25.0, 4.0, 6.0, 27.0], \"yaxis\": \"y\", \"type\": \"bar\"}], \"name\": \"1956\"}, {\"data\": [{\"alignmentgroup\": \"True\", \"hovertemplate\": \"year=1957<br>Driver=%{x}<br>PTS=%{y}<extra></extra>\", \"legendgroup\": \"\", \"marker\": {\"color\": \"darkslateblue\"}, \"name\": \"\", \"offsetgroup\": \"\", \"orientation\": \"v\", \"showlegend\": false, \"textposition\": \"auto\", \"x\": [\"Alfonso  de Portago\", \"Andy  Linden \", \"Carlos  Menditeguy \", \"Giorgio Scarlatti\", \"Harry  Schell \", \"Jean  Behra \", \"Jim  Rathmann \", \"Jimmy  Bryan \", \"Jose Froilan  Gonzalez \", \"Juan Manuel  Fangio \", \"Luigi  Musso \", \"Masten  Gregory \", \"Maurice Trintignant \", \"Mike  Hawthorn \", \"Paul  Russo \", \"Peter  Collins \", \"Roy  Salvadori \", \"Sam  Hanks \", \"Stirling  Moss \", \"Stuart Lewis-Evans\", \"Tony  Brooks \", \"Wolfgang  von Trips \"], \"xaxis\": \"x\", \"y\": [1.0, 2.0, 4.0, 1.0, 10.0, 6.0, 7.0, 4.0, 1.0, 40.0, 16.0, 10.0, 5.0, 13.0, 3.0, 8.0, 2.0, 8.0, 25.0, 5.0, 11.0, 4.0], \"yaxis\": \"y\", \"type\": \"bar\"}], \"name\": \"1957\"}, {\"data\": [{\"alignmentgroup\": \"True\", \"hovertemplate\": \"year=1972<br>Driver=%{x}<br>PTS=%{y}<extra></extra>\", \"legendgroup\": \"\", \"marker\": {\"color\": \"darkslateblue\"}, \"name\": \"\", \"offsetgroup\": \"\", \"orientation\": \"v\", \"showlegend\": false, \"textposition\": \"auto\", \"x\": [\"Andrea  de Adamich\", \"Arturo  Merzario \", \"Brian Redman \", \"Carlos  Pace \", \"Carlos  Reutemann \", \"Chris  Amon \", \"Clay  Regazzoni \", \"Denny  Hulme \", \"Emerson  Fittipaldi \", \"Francois Cevert\", \"Graham  Hill \", \"Howden Ganley\", \"Jackie  Stewart \", \"Jacky  Ickx \", \"Jean-Pierre  Beltoise \", \"Mario  Andretti \", \"Mike  Hailwood \", \"Peter Gethin\", \"Peter Revson \", \"Ronnie  Peterson \", \"Tim Schenken \"], \"xaxis\": \"x\", \"y\": [3.0, 1.0, 4.0, 3.0, 3.0, 12.0, 15.0, 39.0, 61.0, 15.0, 4.0, 4.0, 45.0, 27.0, 9.0, 4.0, 13.0, 1.0, 23.0, 12.0, 2.0], \"yaxis\": \"y\", \"type\": \"bar\"}], \"name\": \"1972\"}, {\"data\": [{\"alignmentgroup\": \"True\", \"hovertemplate\": \"year=1973<br>Driver=%{x}<br>PTS=%{y}<extra></extra>\", \"legendgroup\": \"\", \"marker\": {\"color\": \"darkslateblue\"}, \"name\": \"\", \"offsetgroup\": \"\", \"orientation\": \"v\", \"showlegend\": false, \"textposition\": \"auto\", \"x\": [\"Andrea  de Adamich\", \"Arturo  Merzario \", \"Carlos  Pace \", \"Carlos  Reutemann \", \"Chris  Amon \", \"Clay  Regazzoni \", \"Denny  Hulme \", \"Emerson  Fittipaldi \", \"Francois Cevert\", \"George Follmer\", \"Gijs  van Lennep \", \"Howden Ganley\", \"Jackie  Oliver \", \"Jackie  Stewart \", \"Jacky  Ickx \", \"James  Hunt \", \"Jean-Pierre  Beltoise \", \"Niki  Lauda \", \"Peter Revson \", \"Ronnie  Peterson \", \"Wilson  Fittipaldi \"], \"xaxis\": \"x\", \"y\": [3.0, 6.0, 7.0, 16.0, 1.0, 2.0, 26.0, 55.0, 47.0, 5.0, 1.0, 1.0, 4.0, 71.0, 12.0, 14.0, 9.0, 2.0, 38.0, 52.0, 3.0], \"yaxis\": \"y\", \"type\": \"bar\"}], \"name\": \"1973\"}, {\"data\": [{\"alignmentgroup\": \"True\", \"hovertemplate\": \"year=1992<br>Driver=%{x}<br>PTS=%{y}<extra></extra>\", \"legendgroup\": \"\", \"marker\": {\"color\": \"darkslateblue\"}, \"name\": \"\", \"offsetgroup\": \"\", \"orientation\": \"v\", \"showlegend\": false, \"textposition\": \"auto\", \"x\": [\"Andrea  de Cesaris \", \"Ayrton  Senna \", \"Bertrand  Gachot \", \"Christian  Fittipaldi \", \"Erik  Comas \", \"Gerhard  Berger \", \"Ivan  Capelli \", \"Jean  Alesi \", \"Johnny  Herbert \", \"Karl  Wendlinger \", \"Martin  Brundle \", \"Michael  Schumacher \", \"Michele  Alboreto \", \"Mika  Hakkinen \", \"Nigel  Mansell \", \"Pierluigi  Martini \", \"Riccardo  Patrese \", \"Stefano  Modena \", \"Thierry  Boutsen \"], \"xaxis\": \"x\", \"y\": [8.0, 50.0, 1.0, 1.0, 4.0, 49.0, 3.0, 18.0, 2.0, 3.0, 38.0, 53.0, 6.0, 11.0, 108.0, 2.0, 56.0, 1.0, 2.0], \"yaxis\": \"y\", \"type\": \"bar\"}], \"name\": \"1992\"}, {\"data\": [{\"alignmentgroup\": \"True\", \"hovertemplate\": \"year=1994<br>Driver=%{x}<br>PTS=%{y}<extra></extra>\", \"legendgroup\": \"\", \"marker\": {\"color\": \"darkslateblue\"}, \"name\": \"\", \"offsetgroup\": \"\", \"orientation\": \"v\", \"showlegend\": false, \"textposition\": \"auto\", \"x\": [\"Andrea  de Cesaris \", \"Christian  Fittipaldi \", \"Damon  Hill \", \"David  Coulthard \", \"Eddie  Irvine \", \"Eric  Bernard \", \"Erik  Comas \", \"Gerhard  Berger \", \"Gianni  Morbidelli \", \"Heinz-Harald  Frentzen \", \"Jean  Alesi \", \"Jos  Verstappen \", \"Jyrki  Jarvilehto \", \"Karl  Wendlinger \", \"Mark  Blundell \", \"Martin  Brundle \", \"Michael  Schumacher \", \"Michele  Alboreto \", \"Mika  Hakkinen \", \"Nicola  Larini \", \"Nigel  Mansell \", \"Olivier  Panis \", \"Pierluigi  Martini \", \"Rubens  Barrichello \", \"Ukyo  Katayama \"], \"xaxis\": \"x\", \"y\": [4.0, 6.0, 91.0, 14.0, 6.0, 4.0, 2.0, 41.0, 3.0, 7.0, 24.0, 10.0, 1.0, 4.0, 8.0, 16.0, 92.0, 1.0, 26.0, 6.0, 13.0, 9.0, 4.0, 19.0, 5.0], \"yaxis\": \"y\", \"type\": \"bar\"}], \"name\": \"1994\"}, {\"data\": [{\"alignmentgroup\": \"True\", \"hovertemplate\": \"year=2017<br>Driver=%{x}<br>PTS=%{y}<extra></extra>\", \"legendgroup\": \"\", \"marker\": {\"color\": \"darkslateblue\"}, \"name\": \"\", \"offsetgroup\": \"\", \"orientation\": \"v\", \"showlegend\": false, \"textposition\": \"auto\", \"x\": [\"Antonio  Giovinazzi \", \"Brendon  Hartley \", \"Carlos  Sainz \", \"Daniel  Ricciardo \", \"Daniil  Kvyat \", \"Esteban  Ocon \", \"Felipe  Massa \", \"Fernando  Alonso \", \"Jolyon  Palmer \", \"Kevin  Magnussen \", \"Kimi  R\\u00c3\\u00a4ikk\\u00c3\\u00b6nen \", \"Lance  Stroll \", \"Lewis  Hamilton \", \"Marcus  Ericsson \", \"Max  Verstappen \", \"Nico  Hulkenberg \", \"Pascal  Wehrlein \", \"Pierre  Gasly \", \"Romain  Grosjean \", \"Sebastian  Vettel \", \"Sergio  Perez \", \"Stoffel  Vandoorne \", \"Valtteri Bottas \"], \"xaxis\": \"x\", \"y\": [0.0, 0.0, 54.0, 200.0, 5.0, 87.0, 43.0, 17.0, 8.0, 19.0, 205.0, 40.0, 363.0, 0.0, 168.0, 43.0, 5.0, 0.0, 28.0, 317.0, 100.0, 13.0, 305.0], \"yaxis\": \"y\", \"type\": \"bar\"}], \"name\": \"2017\"}, {\"data\": [{\"alignmentgroup\": \"True\", \"hovertemplate\": \"year=2021<br>Driver=%{x}<br>PTS=%{y}<extra></extra>\", \"legendgroup\": \"\", \"marker\": {\"color\": \"darkslateblue\"}, \"name\": \"\", \"offsetgroup\": \"\", \"orientation\": \"v\", \"showlegend\": false, \"textposition\": \"auto\", \"x\": [\"Antonio  Giovinazzi \", \"Carlos  Sainz \", \"Charles  Leclerc \", \"Daniel  Ricciardo \", \"Esteban  Ocon \", \"Fernando  Alonso \", \"George  Russell \", \"Kimi  R\\u00c3\\u00a4ikk\\u00c3\\u00b6nen \", \"Lance  Stroll \", \"Lando  Norris \", \"Lewis  Hamilton \", \"Max  Verstappen \", \"Mick  Schumacher \", \"Nicholas  Latifi \", \"Nikita  Mazepin \", \"Pierre  Gasly \", \"Robert  Kubica \", \"Sebastian  Vettel \", \"Sergio  Perez \", \"Valtteri  Bottas \", \"Yuki  Tsunoda \"], \"xaxis\": \"x\", \"y\": [3.0, 164.5, 159.0, 115.0, 74.0, 81.0, 16.0, 10.0, 34.0, 160.0, 387.5, 395.5, 0.0, 7.0, 0.0, 110.0, 0.0, 43.0, 190.0, 226.0, 32.0], \"yaxis\": \"y\", \"type\": \"bar\"}], \"name\": \"2021\"}, {\"data\": [{\"alignmentgroup\": \"True\", \"hovertemplate\": \"year=2003<br>Driver=%{x}<br>PTS=%{y}<extra></extra>\", \"legendgroup\": \"\", \"marker\": {\"color\": \"darkslateblue\"}, \"name\": \"\", \"offsetgroup\": \"\", \"orientation\": \"v\", \"showlegend\": false, \"textposition\": \"auto\", \"x\": [\"Antonio  Pizzonia \", \"Cristiano  da Matta \", \"David  Coulthard \", \"Fernando  Alonso \", \"Giancarlo  Fisichella \", \"Heinz-Harald  Frentzen \", \"Jacques  Villeneuve \", \"Jarno  Trulli \", \"Jenson  Button \", \"Jos  Verstappen \", \"Juan Pablo  Montoya \", \"Justin  Wilson \", \"Kimi  R\\u00c3\\u00a4ikk\\u00c3\\u00b6nen \", \"Marc  Gene \", \"Mark  Webber \", \"Michael  Schumacher \", \"Nick  Heidfeld \", \"Nicolas  Kiesa \", \"Olivier  Panis \", \"Ralf  Schumacher \", \"Ralph  Firman \", \"Rubens  Barrichello \", \"Takuma  Sato \", \"Zsolt  Baumgartner \"], \"xaxis\": \"x\", \"y\": [0.0, 10.0, 51.0, 55.0, 12.0, 13.0, 6.0, 33.0, 17.0, 0.0, 82.0, 1.0, 91.0, 4.0, 17.0, 93.0, 6.0, 0.0, 6.0, 58.0, 1.0, 65.0, 3.0, 0.0], \"yaxis\": \"y\", \"type\": \"bar\"}], \"name\": \"2003\"}, {\"data\": [{\"alignmentgroup\": \"True\", \"hovertemplate\": \"year=2004<br>Driver=%{x}<br>PTS=%{y}<extra></extra>\", \"legendgroup\": \"\", \"marker\": {\"color\": \"darkslateblue\"}, \"name\": \"\", \"offsetgroup\": \"\", \"orientation\": \"v\", \"showlegend\": false, \"textposition\": \"auto\", \"x\": [\"Antonio  Pizzonia \", \"Christian  Klien \", \"Cristiano  da Matta \", \"David  Coulthard \", \"Felipe  Massa \", \"Fernando  Alonso \", \"Giancarlo  Fisichella \", \"Gianmaria  Bruni \", \"Giorgio  Pantano \", \"Jacques  Villeneuve \", \"Jarno  Trulli \", \"Jenson  Button \", \"Juan Pablo  Montoya \", \"Kimi  R\\u00c3\\u00a4ikk\\u00c3\\u00b6nen \", \"Marc  Gene \", \"Mark  Webber \", \"Michael  Schumacher \", \"Nick  Heidfeld \", \"Olivier  Panis \", \"Ralf  Schumacher \", \"Ricardo  Zonta \", \"Rubens  Barrichello \", \"Takuma  Sato \", \"Timo  Glock \", \"Zsolt  Baumgartner \"], \"xaxis\": \"x\", \"y\": [6.0, 3.0, 3.0, 24.0, 12.0, 59.0, 22.0, 0.0, 0.0, 0.0, 46.0, 85.0, 58.0, 45.0, 0.0, 7.0, 148.0, 3.0, 6.0, 24.0, 0.0, 114.0, 34.0, 2.0, 1.0], \"yaxis\": \"y\", \"type\": \"bar\"}], \"name\": \"2004\"}, {\"data\": [{\"alignmentgroup\": \"True\", \"hovertemplate\": \"year=1974<br>Driver=%{x}<br>PTS=%{y}<extra></extra>\", \"legendgroup\": \"\", \"marker\": {\"color\": \"darkslateblue\"}, \"name\": \"\", \"offsetgroup\": \"\", \"orientation\": \"v\", \"showlegend\": false, \"textposition\": \"auto\", \"x\": [\"Arturo  Merzario \", \"Carlos  Pace \", \"Carlos  Reutemann \", \"Clay  Regazzoni \", \"Denny  Hulme \", \"Emerson  Fittipaldi \", \"Graham  Hill \", \"Hans-Joachim  Stuck \", \"Jacky  Ickx \", \"James  Hunt \", \"Jean-Pierre  Beltoise \", \"Jean-Pierre  Jarier \", \"Jody  Scheckter \", \"John  Watson \", \"Mike  Hailwood \", \"Niki  Lauda \", \"Patrick  Depailler \", \"Ronnie  Peterson \", \"Tom  Pryce \", \"Vittorio  Brambilla \"], \"xaxis\": \"x\", \"y\": [4.0, 11.0, 32.0, 52.0, 20.0, 55.0, 1.0, 5.0, 12.0, 15.0, 10.0, 6.0, 45.0, 6.0, 12.0, 38.0, 14.0, 35.0, 1.0, 1.0], \"yaxis\": \"y\", \"type\": \"bar\"}], \"name\": \"1974\"}, {\"data\": [{\"alignmentgroup\": \"True\", \"hovertemplate\": \"year=1963<br>Driver=%{x}<br>PTS=%{y}<extra></extra>\", \"legendgroup\": \"\", \"marker\": {\"color\": \"darkslateblue\"}, \"name\": \"\", \"offsetgroup\": \"\", \"orientation\": \"v\", \"showlegend\": false, \"textposition\": \"auto\", \"x\": [\"Bernard Collomb\", \"Bob  Anderson \", \"Brausch  Niemann \", \"Bruce  McLaren \", \"Carel Godin  de Beaufort\", \"Chris  Amon \", \"Dan  Gurney \", \"David  Prophet \", \"Doug  Serrurier \", \"Ernie  Pieterse \", \"Gerhard  Mitter \", \"Giancarlo  Baghetti \", \"Graham  Hill \", \"Hap Sharp\", \"Ian  Burgess\", \"Ian  Raby \", \"Innes  Ireland \", \"Jack  Brabham \", \"Jim  Clark \", \"Jim Hall\", \"Jo  Bonnier \", \"Jo  Siffert \", \"John  Love \", \"John  Surtees \", \"John Campbell-Jones\", \"Lorenzo  Bandini \", \"Lucien  Bianchi \", \"Ludovico  Scarfiotti \", \"Mario de Araujo Cabral\", \"Masten  Gregory \", \"Maurice Trintignant \", \"Mike  Hailwood \", \"Mike  Spence \", \"Moises  Solana \", \"Pedro  Rodriguez \", \"Peter  Broeker\", \"Peter  de Klerk \", \"Phil  Hill \", \"Richie  Ginther \", \"Rodger  Ward \", \"Sam  Tingle \", \"Tony  Maggs \", \"Tony Settember\", \"Trevor  Blokdyk \", \"Trevor Taylor\", \"Willy  Mairesse \"], \"xaxis\": \"x\", \"y\": [0.0, 0.0, 0.0, 17.0, 2.0, 0.0, 19.0, 0.0, 0.0, 0.0, 3.0, 0.0, 29.0, 0.0, 0.0, 0.0, 6.0, 14.0, 54.0, 3.0, 6.0, 1.0, 0.0, 22.0, 0.0, 6.0, 0.0, 1.0, 0.0, 0.0, 0.0, 0.0, 0.0, 0.0, 0.0, 0.0, 0.0, 0.0, 29.0, 0.0, 0.0, 9.0, 0.0, 0.0, 1.0, 0.0], \"yaxis\": \"y\", \"type\": \"bar\"}], \"name\": \"1963\"}, {\"data\": [{\"alignmentgroup\": \"True\", \"hovertemplate\": \"year=1955<br>Driver=%{x}<br>PTS=%{y}<extra></extra>\", \"legendgroup\": \"\", \"marker\": {\"color\": \"darkslateblue\"}, \"name\": \"\", \"offsetgroup\": \"\", \"orientation\": \"v\", \"showlegend\": false, \"textposition\": \"auto\", \"x\": [\"Bill  Homeier \", \"Bill Vukovich\", \"Bob  Sweikert \", \"Carlos  Menditeguy \", \"Cesare  Perdisa \", \"Eugenio  Castellotti \", \"Hans Herrmann \", \"Jean  Behra \", \"Jimmy  Davies \", \"Johnny  Thomson \", \"Jose Froilan  Gonzalez \", \"Juan Manuel  Fangio \", \"Karl  Kling \", \"Luigi  Musso \", \"Luigi Villoresi \", \"Maurice Trintignant \", \"Nino  Farina \", \"Paul  Frere \", \"Paul  Russo \", \"Piero Taruffi \", \"Roberto  Mieres \", \"Stirling  Moss \", \"Tony Bettenhausen \", \"Umberto Maglioli \", \"Walt Faulkner \"], \"xaxis\": \"x\", \"y\": [1.0, 1.0, 8.0, 2.0, 2.0, 12.0, 1.0, 6.0, 4.0, 3.0, 2.0, 40.0, 5.0, 6.0, 2.0, 11.3, 10.3, 3.0, 3.0, 9.0, 7.0, 23.0, 3.0, 1.3, 1.0], \"yaxis\": \"y\", \"type\": \"bar\"}], \"name\": \"1955\"}, {\"data\": [{\"alignmentgroup\": \"True\", \"hovertemplate\": \"year=1964<br>Driver=%{x}<br>PTS=%{y}<extra></extra>\", \"legendgroup\": \"\", \"marker\": {\"color\": \"darkslateblue\"}, \"name\": \"\", \"offsetgroup\": \"\", \"orientation\": \"v\", \"showlegend\": false, \"textposition\": \"auto\", \"x\": [\"Bob  Anderson \", \"Bruce  McLaren \", \"Chris  Amon \", \"Dan  Gurney \", \"Graham  Hill \", \"Innes  Ireland \", \"Jack  Brabham \", \"Jim  Clark \", \"Jo  Bonnier \", \"Jo  Siffert \", \"John  Surtees \", \"Lorenzo  Bandini \", \"Maurice Trintignant \", \"Mike  Hailwood \", \"Mike  Spence \", \"Pedro  Rodriguez \", \"Peter Arundell\", \"Phil  Hill \", \"Richie  Ginther \", \"Tony  Maggs \", \"Trevor Taylor\", \"Walt Hansgen \"], \"xaxis\": \"x\", \"y\": [5.0, 13.0, 2.0, 19.0, 39.0, 4.0, 11.0, 32.0, 3.0, 7.0, 40.0, 23.0, 2.0, 1.0, 4.0, 1.0, 11.0, 1.0, 23.0, 4.0, 1.0, 2.0], \"yaxis\": \"y\", \"type\": \"bar\"}], \"name\": \"1964\"}, {\"data\": [{\"alignmentgroup\": \"True\", \"hovertemplate\": \"year=1966<br>Driver=%{x}<br>PTS=%{y}<extra></extra>\", \"legendgroup\": \"\", \"marker\": {\"color\": \"darkslateblue\"}, \"name\": \"\", \"offsetgroup\": \"\", \"orientation\": \"v\", \"showlegend\": false, \"textposition\": \"auto\", \"x\": [\"Bob  Anderson \", \"Bob  Bondurant \", \"Bruce  McLaren \", \"Dan  Gurney \", \"Denny  Hulme \", \"Graham  Hill \", \"Jack  Brabham \", \"Jackie  Stewart \", \"Jim  Clark \", \"Jo  Bonnier \", \"Jo  Siffert \", \"Jochen  Rindt \", \"John  Surtees \", \"John Taylor\", \"Lorenzo  Bandini \", \"Ludovico  Scarfiotti \", \"Mike  Spence \", \"Mike Parkes\", \"Peter Arundell\", \"Richie  Ginther \"], \"xaxis\": \"x\", \"y\": [1.0, 3.0, 3.0, 4.0, 18.0, 17.0, 42.0, 14.0, 16.0, 1.0, 3.0, 22.0, 28.0, 1.0, 12.0, 9.0, 4.0, 12.0, 1.0, 5.0], \"yaxis\": \"y\", \"type\": \"bar\"}], \"name\": \"1966\"}, {\"data\": [{\"alignmentgroup\": \"True\", \"hovertemplate\": \"year=1967<br>Driver=%{x}<br>PTS=%{y}<extra></extra>\", \"legendgroup\": \"\", \"marker\": {\"color\": \"darkslateblue\"}, \"name\": \"\", \"offsetgroup\": \"\", \"orientation\": \"v\", \"showlegend\": false, \"textposition\": \"auto\", \"x\": [\"Bob  Anderson \", \"Bruce  McLaren \", \"Chris  Amon \", \"Chris Irwin \", \"Dan  Gurney \", \"Denny  Hulme \", \"Graham  Hill \", \"Guy Ligier\", \"Jack  Brabham \", \"Jackie  Stewart \", \"Jacky  Ickx \", \"Jim  Clark \", \"Jo  Bonnier \", \"Jo  Siffert \", \"Jochen  Rindt \", \"John  Love \", \"John  Surtees \", \"Ludovico  Scarfiotti \", \"Mike  Spence \", \"Mike Parkes\", \"Pedro  Rodriguez \"], \"xaxis\": \"x\", \"y\": [2.0, 3.0, 20.0, 2.0, 13.0, 51.0, 15.0, 1.0, 46.0, 10.0, 1.0, 41.0, 3.0, 6.0, 6.0, 6.0, 20.0, 1.0, 9.0, 2.0, 15.0], \"yaxis\": \"y\", \"type\": \"bar\"}], \"name\": \"1967\"}, {\"data\": [{\"alignmentgroup\": \"True\", \"hovertemplate\": \"year=2018<br>Driver=%{x}<br>PTS=%{y}<extra></extra>\", \"legendgroup\": \"\", \"marker\": {\"color\": \"darkslateblue\"}, \"name\": \"\", \"offsetgroup\": \"\", \"orientation\": \"v\", \"showlegend\": false, \"textposition\": \"auto\", \"x\": [\"Brendon  Hartley \", \"Carlos  Sainz \", \"Charles  Leclerc \", \"Daniel  Ricciardo \", \"Esteban  Ocon \", \"Fernando  Alonso \", \"Kevin  Magnussen \", \"Kimi  R\\u00c3\\u00a4ikk\\u00c3\\u00b6nen \", \"Lance  Stroll \", \"Lewis  Hamilton \", \"Marcus  Ericsson \", \"Max  Verstappen \", \"Nico  Hulkenberg \", \"Pierre  Gasly \", \"Romain  Grosjean \", \"Sebastian  Vettel \", \"Sergey  Sirotkin \", \"Sergio  Perez \", \"Stoffel  Vandoorne \", \"Valtteri  Bottas \"], \"xaxis\": \"x\", \"y\": [4.0, 53.0, 39.0, 170.0, 49.0, 50.0, 56.0, 251.0, 6.0, 408.0, 9.0, 249.0, 69.0, 29.0, 37.0, 320.0, 1.0, 62.0, 12.0, 247.0], \"yaxis\": \"y\", \"type\": \"bar\"}], \"name\": \"2018\"}, {\"data\": [{\"alignmentgroup\": \"True\", \"hovertemplate\": \"year=1968<br>Driver=%{x}<br>PTS=%{y}<extra></extra>\", \"legendgroup\": \"\", \"marker\": {\"color\": \"darkslateblue\"}, \"name\": \"\", \"offsetgroup\": \"\", \"orientation\": \"v\", \"showlegend\": false, \"textposition\": \"auto\", \"x\": [\"Brian Redman \", \"Bruce  McLaren \", \"Chris  Amon \", \"Dan  Gurney \", \"Denny  Hulme \", \"Graham  Hill \", \"Jack  Brabham \", \"Jackie  Oliver \", \"Jackie  Stewart \", \"Jacky  Ickx \", \"Jean-Pierre  Beltoise \", \"Jim  Clark \", \"Jo  Bonnier \", \"Jo  Siffert \", \"Jochen  Rindt \", \"John  Surtees \", \"Johnny Servoz-Gavin\", \"Lucien  Bianchi \", \"Ludovico  Scarfiotti \", \"Pedro  Rodriguez \", \"Piers Courage \", \"Richard  Attwood \", \"Silvio Moser\", \"Vic Elford\"], \"xaxis\": \"x\", \"y\": [4.0, 22.0, 10.0, 3.0, 33.0, 48.0, 2.0, 6.0, 36.0, 27.0, 11.0, 9.0, 3.0, 12.0, 8.0, 12.0, 6.0, 5.0, 6.0, 18.0, 4.0, 6.0, 2.0, 5.0], \"yaxis\": \"y\", \"type\": \"bar\"}], \"name\": \"1968\"}, {\"data\": [{\"alignmentgroup\": \"True\", \"hovertemplate\": \"year=1959<br>Driver=%{x}<br>PTS=%{y}<extra></extra>\", \"legendgroup\": \"\", \"marker\": {\"color\": \"darkslateblue\"}, \"name\": \"\", \"offsetgroup\": \"\", \"orientation\": \"v\", \"showlegend\": false, \"textposition\": \"auto\", \"x\": [\"Bruce  McLaren \", \"Cliff  Allison \", \"Dan  Gurney \", \"Harry  Schell \", \"Innes  Ireland \", \"Jack  Brabham \", \"Jean  Behra \", \"Jim  Rathmann \", \"Jo  Bonnier \", \"Johnny  Thomson \", \"Masten  Gregory \", \"Maurice Trintignant \", \"Olivier Gendebien \", \"Paul  Goldsmith \", \"Phil  Hill \", \"Rodger  Ward \", \"Stirling  Moss \", \"Tony  Brooks \", \"Tony Bettenhausen \"], \"xaxis\": \"x\", \"y\": [16.5, 2.0, 13.0, 5.0, 5.0, 31.0, 2.0, 6.0, 10.0, 5.0, 10.0, 19.0, 3.0, 2.0, 20.0, 8.0, 25.5, 27.0, 3.0], \"yaxis\": \"y\", \"type\": \"bar\"}], \"name\": \"1959\"}, {\"data\": [{\"alignmentgroup\": \"True\", \"hovertemplate\": \"year=1960<br>Driver=%{x}<br>PTS=%{y}<extra></extra>\", \"legendgroup\": \"\", \"marker\": {\"color\": \"darkslateblue\"}, \"name\": \"\", \"offsetgroup\": \"\", \"orientation\": \"v\", \"showlegend\": false, \"textposition\": \"auto\", \"x\": [\"Bruce  McLaren \", \"Carlos  Menditeguy \", \"Cliff  Allison \", \"Don Branson \", \"Eddie  Johnson \", \"Giulio  Cabianca \", \"Graham  Hill \", \"Hans Herrmann \", \"Henry  Taylor \", \"Innes  Ireland \", \"Jack  Brabham \", \"Jim  Clark \", \"Jim  Rathmann \", \"Jo  Bonnier \", \"John  Surtees \", \"Johnny  Thomson \", \"Lucien  Bianchi \", \"Olivier Gendebien \", \"Paul  Goldsmith \", \"Phil  Hill \", \"Richie  Ginther \", \"Rodger  Ward \", \"Ron  Flockhart \", \"Stirling  Moss \", \"Tony  Brooks \", \"Willy  Mairesse \", \"Wolfgang  von Trips \"], \"xaxis\": \"x\", \"y\": [34.0, 3.0, 6.0, 3.0, 1.0, 3.0, 4.0, 1.0, 3.0, 18.0, 43.0, 8.0, 8.0, 4.0, 6.0, 2.0, 1.0, 10.0, 4.0, 16.0, 8.0, 6.0, 1.0, 19.0, 7.0, 4.0, 10.0], \"yaxis\": \"y\", \"type\": \"bar\"}], \"name\": \"1960\"}, {\"data\": [{\"alignmentgroup\": \"True\", \"hovertemplate\": \"year=1961<br>Driver=%{x}<br>PTS=%{y}<extra></extra>\", \"legendgroup\": \"\", \"marker\": {\"color\": \"darkslateblue\"}, \"name\": \"\", \"offsetgroup\": \"\", \"orientation\": \"v\", \"showlegend\": false, \"textposition\": \"auto\", \"x\": [\"Bruce  McLaren \", \"Dan  Gurney \", \"Giancarlo  Baghetti \", \"Graham  Hill \", \"Innes  Ireland \", \"Jack  Brabham \", \"Jackie Lewis\", \"Jim  Clark \", \"Jo  Bonnier \", \"John  Surtees \", \"Olivier Gendebien \", \"Phil  Hill \", \"Richie  Ginther \", \"Roy  Salvadori \", \"Stirling  Moss \", \"Tony  Brooks \", \"Wolfgang  von Trips \"], \"xaxis\": \"x\", \"y\": [11.0, 21.0, 9.0, 3.0, 12.0, 4.0, 3.0, 11.0, 3.0, 4.0, 3.0, 34.0, 16.0, 2.0, 21.0, 6.0, 33.0], \"yaxis\": \"y\", \"type\": \"bar\"}], \"name\": \"1961\"}, {\"data\": [{\"alignmentgroup\": \"True\", \"hovertemplate\": \"year=1962<br>Driver=%{x}<br>PTS=%{y}<extra></extra>\", \"legendgroup\": \"\", \"marker\": {\"color\": \"darkslateblue\"}, \"name\": \"\", \"offsetgroup\": \"\", \"orientation\": \"v\", \"showlegend\": false, \"textposition\": \"auto\", \"x\": [\"Bruce  McLaren \", \"Carel Godin  de Beaufort\", \"Dan  Gurney \", \"Giancarlo  Baghetti \", \"Graham  Hill \", \"Innes  Ireland \", \"Jack  Brabham \", \"Jim  Clark \", \"Jo  Bonnier \", \"John  Surtees \", \"Lorenzo  Bandini \", \"Masten  Gregory \", \"Neville  Lederle \", \"Phil  Hill \", \"Ricardo Rodriguez\", \"Richie  Ginther \", \"Tony  Maggs \", \"Trevor Taylor\", \"Willy  Mairesse \"], \"xaxis\": \"x\", \"y\": [27.0, 2.0, 15.0, 5.0, 42.0, 2.0, 9.0, 30.0, 3.0, 19.0, 4.0, 1.0, 1.0, 14.0, 4.0, 10.0, 13.0, 6.0, 3.0], \"yaxis\": \"y\", \"type\": \"bar\"}], \"name\": \"1962\"}, {\"data\": [{\"alignmentgroup\": \"True\", \"hovertemplate\": \"year=1965<br>Driver=%{x}<br>PTS=%{y}<extra></extra>\", \"legendgroup\": \"\", \"marker\": {\"color\": \"darkslateblue\"}, \"name\": \"\", \"offsetgroup\": \"\", \"orientation\": \"v\", \"showlegend\": false, \"textposition\": \"auto\", \"x\": [\"Bruce  McLaren \", \"Dan  Gurney \", \"Denny  Hulme \", \"Graham  Hill \", \"Jack  Brabham \", \"Jackie  Stewart \", \"Jim  Clark \", \"Jo  Siffert \", \"Jochen  Rindt \", \"John  Surtees \", \"Lorenzo  Bandini \", \"Mike  Spence \", \"Pedro  Rodriguez \", \"Richard  Attwood \", \"Richie  Ginther \", \"Ronnie  Bucknum \"], \"xaxis\": \"x\", \"y\": [10.0, 25.0, 5.0, 40.0, 9.0, 33.0, 54.0, 5.0, 4.0, 17.0, 13.0, 10.0, 2.0, 2.0, 11.0, 2.0], \"yaxis\": \"y\", \"type\": \"bar\"}], \"name\": \"1965\"}, {\"data\": [{\"alignmentgroup\": \"True\", \"hovertemplate\": \"year=1969<br>Driver=%{x}<br>PTS=%{y}<extra></extra>\", \"legendgroup\": \"\", \"marker\": {\"color\": \"darkslateblue\"}, \"name\": \"\", \"offsetgroup\": \"\", \"orientation\": \"v\", \"showlegend\": false, \"textposition\": \"auto\", \"x\": [\"Bruce  McLaren \", \"Chris  Amon \", \"Denny  Hulme \", \"Graham  Hill \", \"Jack  Brabham \", \"Jackie  Oliver \", \"Jackie  Stewart \", \"Jacky  Ickx \", \"Jean-Pierre  Beltoise \", \"Jo  Siffert \", \"Jochen  Rindt \", \"John  Surtees \", \"Johnny Servoz-Gavin\", \"Pedro  Rodriguez \", \"Piers Courage \", \"Richard  Attwood \", \"Silvio Moser\", \"Vic Elford\"], \"xaxis\": \"x\", \"y\": [26.0, 4.0, 20.0, 19.0, 14.0, 1.0, 63.0, 37.0, 21.0, 15.0, 22.0, 6.0, 1.0, 3.0, 16.0, 3.0, 1.0, 3.0], \"yaxis\": \"y\", \"type\": \"bar\"}], \"name\": \"1969\"}, {\"data\": [{\"alignmentgroup\": \"True\", \"hovertemplate\": \"year=1970<br>Driver=%{x}<br>PTS=%{y}<extra></extra>\", \"legendgroup\": \"\", \"marker\": {\"color\": \"darkslateblue\"}, \"name\": \"\", \"offsetgroup\": \"\", \"orientation\": \"v\", \"showlegend\": false, \"textposition\": \"auto\", \"x\": [\"Bruce  McLaren \", \"Chris  Amon \", \"Clay  Regazzoni \", \"Dan  Gurney \", \"Denny  Hulme \", \"Derek  Bell \", \"Emerson  Fittipaldi \", \"Francois Cevert\", \"Graham  Hill \", \"Henri  Pescarolo \", \"Ignazio Giunti\", \"Jack  Brabham \", \"Jackie  Oliver \", \"Jackie  Stewart \", \"Jacky  Ickx \", \"Jean-Pierre  Beltoise \", \"Jochen  Rindt \", \"John  Surtees \", \"John Miles \", \"Johnny Servoz-Gavin\", \"Mario  Andretti \", \"Pedro  Rodriguez \", \"Peter Gethin\", \"Reine Wisell \", \"Rolf  Stommelen \"], \"xaxis\": \"x\", \"y\": [6.0, 23.0, 33.0, 1.0, 27.0, 1.0, 12.0, 1.0, 7.0, 8.0, 3.0, 25.0, 2.0, 25.0, 40.0, 16.0, 45.0, 3.0, 2.0, 2.0, 4.0, 23.0, 1.0, 4.0, 10.0], \"yaxis\": \"y\", \"type\": \"bar\"}], \"name\": \"1970\"}, {\"data\": [{\"alignmentgroup\": \"True\", \"hovertemplate\": \"year=2012<br>Driver=%{x}<br>PTS=%{y}<extra></extra>\", \"legendgroup\": \"\", \"marker\": {\"color\": \"darkslateblue\"}, \"name\": \"\", \"offsetgroup\": \"\", \"orientation\": \"v\", \"showlegend\": false, \"textposition\": \"auto\", \"x\": [\"Bruno  Senna \", \"Charles  Pic \", \"Daniel  Ricciardo \", \"Felipe  Massa \", \"Fernando  Alonso \", \"Heikki  Kovalainen \", \"Jean-Eric  Vergne \", \"Jenson  Button \", \"Jerome  d'Ambrosio \", \"Kamui  Kobayashi \", \"Kimi  R\\u00c3\\u00a4ikk\\u00c3\\u00b6nen \", \"Lewis  Hamilton \", \"Mark  Webber \", \"Michael  Schumacher \", \"Narain  Karthikeyan \", \"Nico  Hulkenberg \", \"Nico  Rosberg \", \"Pastor  Maldonado \", \"Paul  di Resta \", \"Pedro  de la Rosa \", \"Romain  Grosjean \", \"Sebastian  Vettel \", \"Sergio  Perez \", \"Timo  Glock \", \"Vitaly  Petrov \"], \"xaxis\": \"x\", \"y\": [31.0, 0.0, 10.0, 122.0, 278.0, 0.0, 16.0, 188.0, 0.0, 60.0, 207.0, 190.0, 179.0, 49.0, 0.0, 63.0, 93.0, 45.0, 46.0, 0.0, 96.0, 281.0, 66.0, 0.0, 0.0], \"yaxis\": \"y\", \"type\": \"bar\"}], \"name\": \"2012\"}, {\"data\": [{\"alignmentgroup\": \"True\", \"hovertemplate\": \"year=2016<br>Driver=%{x}<br>PTS=%{y}<extra></extra>\", \"legendgroup\": \"\", \"marker\": {\"color\": \"darkslateblue\"}, \"name\": \"\", \"offsetgroup\": \"\", \"orientation\": \"v\", \"showlegend\": false, \"textposition\": \"auto\", \"x\": [\"Carlos  Sainz \", \"Daniel  Ricciardo \", \"Daniil  Kvyat \", \"Esteban  Gutierrez\", \"Esteban  Ocon \", \"Felipe  Massa \", \"Felipe  Nasr \", \"Fernando  Alonso \", \"Jenson  Button \", \"Jolyon  Palmer \", \"Kevin  Magnussen \", \"Kimi  R\\u00c3\\u00a4ikk\\u00c3\\u00b6nen \", \"Lewis  Hamilton \", \"Marcus  Ericsson \", \"Max  Verstappen \", \"Nico  Hulkenberg \", \"Nico  Rosberg \", \"Pascal  Wehrlein \", \"Rio  Haryanto \", \"Romain  Grosjean \", \"Sebastian  Vettel \", \"Sergio  Perez \", \"Stoffel  Vandoorne \", \"Valtteri Bottas \"], \"xaxis\": \"x\", \"y\": [46.0, 256.0, 25.0, 0.0, 0.0, 53.0, 2.0, 54.0, 21.0, 1.0, 7.0, 186.0, 380.0, 0.0, 204.0, 72.0, 385.0, 1.0, 0.0, 29.0, 212.0, 101.0, 1.0, 85.0], \"yaxis\": \"y\", \"type\": \"bar\"}], \"name\": \"2016\"}, {\"data\": [{\"alignmentgroup\": \"True\", \"hovertemplate\": \"year=1971<br>Driver=%{x}<br>PTS=%{y}<extra></extra>\", \"legendgroup\": \"\", \"marker\": {\"color\": \"darkslateblue\"}, \"name\": \"\", \"offsetgroup\": \"\", \"orientation\": \"v\", \"showlegend\": false, \"textposition\": \"auto\", \"x\": [\"Chris  Amon \", \"Clay  Regazzoni \", \"Denny  Hulme \", \"Emerson  Fittipaldi \", \"Francois Cevert\", \"Graham  Hill \", \"Henri  Pescarolo \", \"Howden Ganley\", \"Jackie  Stewart \", \"Jacky  Ickx \", \"Jean-Pierre  Beltoise \", \"Jo  Siffert \", \"John  Surtees \", \"Mario  Andretti \", \"Mark  Donohue \", \"Mike  Hailwood \", \"Pedro  Rodriguez \", \"Peter Gethin\", \"Reine Wisell \", \"Rolf  Stommelen \", \"Ronnie  Peterson \", \"Tim Schenken \"], \"xaxis\": \"x\", \"y\": [9.0, 13.0, 9.0, 16.0, 26.0, 2.0, 4.0, 5.0, 62.0, 19.0, 1.0, 19.0, 3.0, 12.0, 4.0, 3.0, 9.0, 9.0, 9.0, 3.0, 33.0, 5.0], \"yaxis\": \"y\", \"type\": \"bar\"}], \"name\": \"1971\"}, {\"data\": [{\"alignmentgroup\": \"True\", \"hovertemplate\": \"year=2006<br>Driver=%{x}<br>PTS=%{y}<extra></extra>\", \"legendgroup\": \"\", \"marker\": {\"color\": \"darkslateblue\"}, \"name\": \"\", \"offsetgroup\": \"\", \"orientation\": \"v\", \"showlegend\": false, \"textposition\": \"auto\", \"x\": [\"Christian  Klien \", \"Christijan  Albers \", \"David  Coulthard \", \"Felipe  Massa \", \"Fernando  Alonso \", \"Franck  Montagny \", \"Giancarlo  Fisichella \", \"Jacques  Villeneuve \", \"Jarno  Trulli \", \"Jenson  Button \", \"Juan Pablo  Montoya \", \"Kimi  R\\u00c3\\u00a4ikk\\u00c3\\u00b6nen \", \"Mark  Webber \", \"Michael  Schumacher \", \"Nick  Heidfeld \", \"Nico  Rosberg \", \"Pedro  de la Rosa \", \"Ralf  Schumacher \", \"Robert  Doornbos \", \"Robert  Kubica \", \"Rubens  Barrichello \", \"Sakon  Yamamoto \", \"Scott  Speed \", \"Takuma  Sato \", \"Tiago  Monteiro \", \"Vitantonio  Liuzzi \", \"Yuji  Ide \"], \"xaxis\": \"x\", \"y\": [2.0, 0.0, 14.0, 80.0, 134.0, 0.0, 72.0, 7.0, 15.0, 56.0, 26.0, 65.0, 7.0, 121.0, 23.0, 4.0, 19.0, 20.0, 0.0, 6.0, 30.0, 0.0, 0.0, 0.0, 0.0, 1.0, 0.0], \"yaxis\": \"y\", \"type\": \"bar\"}], \"name\": \"2006\"}, {\"data\": [{\"alignmentgroup\": \"True\", \"hovertemplate\": \"year=1958<br>Driver=%{x}<br>PTS=%{y}<extra></extra>\", \"legendgroup\": \"\", \"marker\": {\"color\": \"darkslateblue\"}, \"name\": \"\", \"offsetgroup\": \"\", \"orientation\": \"v\", \"showlegend\": false, \"textposition\": \"auto\", \"x\": [\"Cliff  Allison \", \"George Amick \", \"Harry  Schell \", \"Jack  Brabham \", \"Jean  Behra \", \"Jim  Rathmann \", \"Jimmy  Bryan \", \"Jo  Bonnier \", \"Johnny Boyd \", \"Juan Manuel  Fangio \", \"Luigi  Musso \", \"Maurice Trintignant \", \"Mike  Hawthorn \", \"Peter  Collins \", \"Phil  Hill \", \"Roy  Salvadori \", \"Stirling  Moss \", \"Stuart Lewis-Evans\", \"Tony  Brooks \", \"Tony Bettenhausen \", \"Wolfgang  von Trips \"], \"xaxis\": \"x\", \"y\": [3.0, 6.0, 14.0, 3.0, 9.0, 2.0, 8.0, 3.0, 4.0, 7.0, 12.0, 12.0, 42.0, 14.0, 9.0, 15.0, 41.0, 11.0, 24.0, 4.0, 9.0], \"yaxis\": \"y\", \"type\": \"bar\"}], \"name\": \"1958\"}, {\"data\": [{\"alignmentgroup\": \"True\", \"hovertemplate\": \"year=1996<br>Driver=%{x}<br>PTS=%{y}<extra></extra>\", \"legendgroup\": \"\", \"marker\": {\"color\": \"darkslateblue\"}, \"name\": \"\", \"offsetgroup\": \"\", \"orientation\": \"v\", \"showlegend\": false, \"textposition\": \"auto\", \"x\": [\"Damon  Hill \", \"David  Coulthard \", \"Eddie  Irvine \", \"Gerhard  Berger \", \"Heinz-Harald  Frentzen \", \"Jacques  Villeneuve \", \"Jean  Alesi \", \"Johnny  Herbert \", \"Jos  Verstappen \", \"Martin  Brundle \", \"Michael  Schumacher \", \"Mika  Hakkinen \", \"Mika  Salo \", \"Olivier  Panis \", \"Pedro  Diniz \", \"Rubens  Barrichello \"], \"xaxis\": \"x\", \"y\": [97.0, 18.0, 11.0, 21.0, 7.0, 78.0, 47.0, 4.0, 1.0, 8.0, 59.0, 31.0, 5.0, 13.0, 2.0, 14.0], \"yaxis\": \"y\", \"type\": \"bar\"}], \"name\": \"1996\"}, {\"data\": [{\"alignmentgroup\": \"True\", \"hovertemplate\": \"year=2001<br>Driver=%{x}<br>PTS=%{y}<extra></extra>\", \"legendgroup\": \"\", \"marker\": {\"color\": \"darkslateblue\"}, \"name\": \"\", \"offsetgroup\": \"\", \"orientation\": \"v\", \"showlegend\": false, \"textposition\": \"auto\", \"x\": [\"David  Coulthard \", \"Eddie  Irvine \", \"Giancarlo  Fisichella \", \"Heinz-Harald  Frentzen \", \"Jacques  Villeneuve \", \"Jarno  Trulli \", \"Jean  Alesi \", \"Jenson  Button \", \"Jos  Verstappen \", \"Juan Pablo  Montoya \", \"Kimi  R\\u00c3\\u00a4ikk\\u00c3\\u00b6nen \", \"Michael  Schumacher \", \"Mika  Hakkinen \", \"Nick  Heidfeld \", \"Olivier  Panis \", \"Pedro  de la Rosa \", \"Ralf  Schumacher \", \"Rubens  Barrichello \"], \"xaxis\": \"x\", \"y\": [65.0, 6.0, 8.0, 6.0, 12.0, 12.0, 5.0, 2.0, 1.0, 31.0, 9.0, 123.0, 37.0, 12.0, 5.0, 3.0, 49.0, 56.0], \"yaxis\": \"y\", \"type\": \"bar\"}], \"name\": \"2001\"}]);\n",
       "                        }).then(function(){\n",
       "                            \n",
       "var gd = document.getElementById('2576e2b6-bdba-4069-a4fe-c5db5d22813e');\n",
       "var x = new MutationObserver(function (mutations, observer) {{\n",
       "        var display = window.getComputedStyle(gd).display;\n",
       "        if (!display || display === 'none') {{\n",
       "            console.log([gd, 'removed!']);\n",
       "            Plotly.purge(gd);\n",
       "            observer.disconnect();\n",
       "        }}\n",
       "}});\n",
       "\n",
       "// Listen for the removal of the full notebook cells\n",
       "var notebookContainer = gd.closest('#notebook-container');\n",
       "if (notebookContainer) {{\n",
       "    x.observe(notebookContainer, {childList: true});\n",
       "}}\n",
       "\n",
       "// Listen for the clearing of the current output cell\n",
       "var outputEl = gd.closest('.output');\n",
       "if (outputEl) {{\n",
       "    x.observe(outputEl, {childList: true});\n",
       "}}\n",
       "\n",
       "                        })                };                });            </script>        </div>"
      ]
     },
     "metadata": {},
     "output_type": "display_data"
    }
   ],
   "source": [
    "import plotly.express as px\n",
    "\n",
    "df = pd.read_csv('drivers_updated[1].csv')\n",
    "driver_years_pts = df.groupby(['Driver', 'year'])['PTS'].sum().reset_index()\n",
    "\n",
    "palette = ['darkslateblue', 'steelblue', 'lightsteelblue', 'lavender']\n",
    "\n",
    "fig = px.bar(driver_years_pts, x='Driver', y='PTS', animation_frame='year', range_y=[0, 800],\n",
    "             color_discrete_sequence=palette)\n",
    "fig.update_layout(title='Points Accumulation Over Years')\n",
    "\n",
    "# Показываем график\n",
    "fig.show()"
   ]
  },
  {
   "cell_type": "markdown",
   "id": "840070a9",
   "metadata": {},
   "source": [
    "# Распределение побед среди гонщиков"
   ]
  },
  {
   "cell_type": "code",
   "execution_count": 33,
   "id": "f639132b",
   "metadata": {},
   "outputs": [
    {
     "data": {
      "text/html": [
       "<div>\n",
       "<style scoped>\n",
       "    .dataframe tbody tr th:only-of-type {\n",
       "        vertical-align: middle;\n",
       "    }\n",
       "\n",
       "    .dataframe tbody tr th {\n",
       "        vertical-align: top;\n",
       "    }\n",
       "\n",
       "    .dataframe thead th {\n",
       "        text-align: right;\n",
       "    }\n",
       "</style>\n",
       "<table border=\"1\" class=\"dataframe\">\n",
       "  <thead>\n",
       "    <tr style=\"text-align: right;\">\n",
       "      <th></th>\n",
       "      <th>Driver</th>\n",
       "      <th>Wins</th>\n",
       "    </tr>\n",
       "  </thead>\n",
       "  <tbody>\n",
       "    <tr>\n",
       "      <th>0</th>\n",
       "      <td>Lewis  Hamilton</td>\n",
       "      <td>7</td>\n",
       "    </tr>\n",
       "    <tr>\n",
       "      <th>1</th>\n",
       "      <td>Michael  Schumacher</td>\n",
       "      <td>7</td>\n",
       "    </tr>\n",
       "    <tr>\n",
       "      <th>2</th>\n",
       "      <td>Juan Manuel  Fangio</td>\n",
       "      <td>5</td>\n",
       "    </tr>\n",
       "    <tr>\n",
       "      <th>3</th>\n",
       "      <td>Max  Verstappen</td>\n",
       "      <td>4</td>\n",
       "    </tr>\n",
       "    <tr>\n",
       "      <th>4</th>\n",
       "      <td>Alain  Prost</td>\n",
       "      <td>4</td>\n",
       "    </tr>\n",
       "    <tr>\n",
       "      <th>5</th>\n",
       "      <td>Sebastian  Vettel</td>\n",
       "      <td>4</td>\n",
       "    </tr>\n",
       "    <tr>\n",
       "      <th>6</th>\n",
       "      <td>Nelson  Piquet</td>\n",
       "      <td>3</td>\n",
       "    </tr>\n",
       "    <tr>\n",
       "      <th>7</th>\n",
       "      <td>Niki  Lauda</td>\n",
       "      <td>3</td>\n",
       "    </tr>\n",
       "    <tr>\n",
       "      <th>8</th>\n",
       "      <td>Jackie  Stewart</td>\n",
       "      <td>3</td>\n",
       "    </tr>\n",
       "    <tr>\n",
       "      <th>9</th>\n",
       "      <td>Ayrton  Senna</td>\n",
       "      <td>3</td>\n",
       "    </tr>\n",
       "    <tr>\n",
       "      <th>10</th>\n",
       "      <td>Jack  Brabham</td>\n",
       "      <td>3</td>\n",
       "    </tr>\n",
       "  </tbody>\n",
       "</table>\n",
       "</div>"
      ],
      "text/plain": [
       "                  Driver  Wins\n",
       "0       Lewis  Hamilton      7\n",
       "1   Michael  Schumacher      7\n",
       "2   Juan Manuel  Fangio      5\n",
       "3       Max  Verstappen      4\n",
       "4          Alain  Prost      4\n",
       "5     Sebastian  Vettel      4\n",
       "6        Nelson  Piquet      3\n",
       "7           Niki  Lauda      3\n",
       "8       Jackie  Stewart      3\n",
       "9         Ayrton  Senna      3\n",
       "10        Jack  Brabham      3"
      ]
     },
     "execution_count": 33,
     "metadata": {},
     "output_type": "execute_result"
    }
   ],
   "source": [
    "import pandas as pd\n",
    "import plotly.express as px\n",
    "\n",
    "# Определение победителей каждого года\n",
    "winners = df.loc[df.groupby('year')['PTS'].idxmax()]\n",
    "\n",
    "winner_counts = winners['Driver'].value_counts().reset_index()\n",
    "winner_counts.columns = ['Driver', 'Wins']\n",
    "winner_counts = winner_counts[winner_counts.Wins >2]\n",
    "winner_counts"
   ]
  },
  {
   "cell_type": "code",
   "execution_count": 52,
   "id": "28e55f7a",
   "metadata": {},
   "outputs": [
    {
     "data": {
      "application/vnd.plotly.v1+json": {
       "config": {
        "plotlyServerURL": "https://plot.ly"
       },
       "data": [
        {
         "domain": {
          "x": [
           0,
           1
          ],
          "y": [
           0,
           1
          ]
         },
         "hovertemplate": "Driver=%{label}<br>Wins=%{value}<extra></extra>",
         "labels": [
          "Lewis  Hamilton ",
          "Michael  Schumacher ",
          "Juan Manuel  Fangio ",
          "Max  Verstappen ",
          "Alain  Prost ",
          "Sebastian  Vettel ",
          "Nelson  Piquet ",
          "Niki  Lauda ",
          "Jackie  Stewart ",
          "Ayrton  Senna ",
          "Jack  Brabham "
         ],
         "legendgroup": "",
         "name": "",
         "showlegend": true,
         "type": "pie",
         "values": [
          7,
          7,
          5,
          4,
          4,
          4,
          3,
          3,
          3,
          3,
          3
         ]
        }
       ],
       "layout": {
        "legend": {
         "tracegroupgap": 0
        },
        "piecolorway": [
         "darkslateblue",
         "steelblue",
         "lavender"
        ],
        "template": {
         "data": {
          "bar": [
           {
            "error_x": {
             "color": "#2a3f5f"
            },
            "error_y": {
             "color": "#2a3f5f"
            },
            "marker": {
             "line": {
              "color": "#E5ECF6",
              "width": 0.5
             }
            },
            "type": "bar"
           }
          ],
          "barpolar": [
           {
            "marker": {
             "line": {
              "color": "#E5ECF6",
              "width": 0.5
             }
            },
            "type": "barpolar"
           }
          ],
          "carpet": [
           {
            "aaxis": {
             "endlinecolor": "#2a3f5f",
             "gridcolor": "white",
             "linecolor": "white",
             "minorgridcolor": "white",
             "startlinecolor": "#2a3f5f"
            },
            "baxis": {
             "endlinecolor": "#2a3f5f",
             "gridcolor": "white",
             "linecolor": "white",
             "minorgridcolor": "white",
             "startlinecolor": "#2a3f5f"
            },
            "type": "carpet"
           }
          ],
          "choropleth": [
           {
            "colorbar": {
             "outlinewidth": 0,
             "ticks": ""
            },
            "type": "choropleth"
           }
          ],
          "contour": [
           {
            "colorbar": {
             "outlinewidth": 0,
             "ticks": ""
            },
            "colorscale": [
             [
              0,
              "#0d0887"
             ],
             [
              0.1111111111111111,
              "#46039f"
             ],
             [
              0.2222222222222222,
              "#7201a8"
             ],
             [
              0.3333333333333333,
              "#9c179e"
             ],
             [
              0.4444444444444444,
              "#bd3786"
             ],
             [
              0.5555555555555556,
              "#d8576b"
             ],
             [
              0.6666666666666666,
              "#ed7953"
             ],
             [
              0.7777777777777778,
              "#fb9f3a"
             ],
             [
              0.8888888888888888,
              "#fdca26"
             ],
             [
              1,
              "#f0f921"
             ]
            ],
            "type": "contour"
           }
          ],
          "contourcarpet": [
           {
            "colorbar": {
             "outlinewidth": 0,
             "ticks": ""
            },
            "type": "contourcarpet"
           }
          ],
          "heatmap": [
           {
            "colorbar": {
             "outlinewidth": 0,
             "ticks": ""
            },
            "colorscale": [
             [
              0,
              "#0d0887"
             ],
             [
              0.1111111111111111,
              "#46039f"
             ],
             [
              0.2222222222222222,
              "#7201a8"
             ],
             [
              0.3333333333333333,
              "#9c179e"
             ],
             [
              0.4444444444444444,
              "#bd3786"
             ],
             [
              0.5555555555555556,
              "#d8576b"
             ],
             [
              0.6666666666666666,
              "#ed7953"
             ],
             [
              0.7777777777777778,
              "#fb9f3a"
             ],
             [
              0.8888888888888888,
              "#fdca26"
             ],
             [
              1,
              "#f0f921"
             ]
            ],
            "type": "heatmap"
           }
          ],
          "heatmapgl": [
           {
            "colorbar": {
             "outlinewidth": 0,
             "ticks": ""
            },
            "colorscale": [
             [
              0,
              "#0d0887"
             ],
             [
              0.1111111111111111,
              "#46039f"
             ],
             [
              0.2222222222222222,
              "#7201a8"
             ],
             [
              0.3333333333333333,
              "#9c179e"
             ],
             [
              0.4444444444444444,
              "#bd3786"
             ],
             [
              0.5555555555555556,
              "#d8576b"
             ],
             [
              0.6666666666666666,
              "#ed7953"
             ],
             [
              0.7777777777777778,
              "#fb9f3a"
             ],
             [
              0.8888888888888888,
              "#fdca26"
             ],
             [
              1,
              "#f0f921"
             ]
            ],
            "type": "heatmapgl"
           }
          ],
          "histogram": [
           {
            "marker": {
             "colorbar": {
              "outlinewidth": 0,
              "ticks": ""
             }
            },
            "type": "histogram"
           }
          ],
          "histogram2d": [
           {
            "colorbar": {
             "outlinewidth": 0,
             "ticks": ""
            },
            "colorscale": [
             [
              0,
              "#0d0887"
             ],
             [
              0.1111111111111111,
              "#46039f"
             ],
             [
              0.2222222222222222,
              "#7201a8"
             ],
             [
              0.3333333333333333,
              "#9c179e"
             ],
             [
              0.4444444444444444,
              "#bd3786"
             ],
             [
              0.5555555555555556,
              "#d8576b"
             ],
             [
              0.6666666666666666,
              "#ed7953"
             ],
             [
              0.7777777777777778,
              "#fb9f3a"
             ],
             [
              0.8888888888888888,
              "#fdca26"
             ],
             [
              1,
              "#f0f921"
             ]
            ],
            "type": "histogram2d"
           }
          ],
          "histogram2dcontour": [
           {
            "colorbar": {
             "outlinewidth": 0,
             "ticks": ""
            },
            "colorscale": [
             [
              0,
              "#0d0887"
             ],
             [
              0.1111111111111111,
              "#46039f"
             ],
             [
              0.2222222222222222,
              "#7201a8"
             ],
             [
              0.3333333333333333,
              "#9c179e"
             ],
             [
              0.4444444444444444,
              "#bd3786"
             ],
             [
              0.5555555555555556,
              "#d8576b"
             ],
             [
              0.6666666666666666,
              "#ed7953"
             ],
             [
              0.7777777777777778,
              "#fb9f3a"
             ],
             [
              0.8888888888888888,
              "#fdca26"
             ],
             [
              1,
              "#f0f921"
             ]
            ],
            "type": "histogram2dcontour"
           }
          ],
          "mesh3d": [
           {
            "colorbar": {
             "outlinewidth": 0,
             "ticks": ""
            },
            "type": "mesh3d"
           }
          ],
          "parcoords": [
           {
            "line": {
             "colorbar": {
              "outlinewidth": 0,
              "ticks": ""
             }
            },
            "type": "parcoords"
           }
          ],
          "pie": [
           {
            "automargin": true,
            "type": "pie"
           }
          ],
          "scatter": [
           {
            "marker": {
             "colorbar": {
              "outlinewidth": 0,
              "ticks": ""
             }
            },
            "type": "scatter"
           }
          ],
          "scatter3d": [
           {
            "line": {
             "colorbar": {
              "outlinewidth": 0,
              "ticks": ""
             }
            },
            "marker": {
             "colorbar": {
              "outlinewidth": 0,
              "ticks": ""
             }
            },
            "type": "scatter3d"
           }
          ],
          "scattercarpet": [
           {
            "marker": {
             "colorbar": {
              "outlinewidth": 0,
              "ticks": ""
             }
            },
            "type": "scattercarpet"
           }
          ],
          "scattergeo": [
           {
            "marker": {
             "colorbar": {
              "outlinewidth": 0,
              "ticks": ""
             }
            },
            "type": "scattergeo"
           }
          ],
          "scattergl": [
           {
            "marker": {
             "colorbar": {
              "outlinewidth": 0,
              "ticks": ""
             }
            },
            "type": "scattergl"
           }
          ],
          "scattermapbox": [
           {
            "marker": {
             "colorbar": {
              "outlinewidth": 0,
              "ticks": ""
             }
            },
            "type": "scattermapbox"
           }
          ],
          "scatterpolar": [
           {
            "marker": {
             "colorbar": {
              "outlinewidth": 0,
              "ticks": ""
             }
            },
            "type": "scatterpolar"
           }
          ],
          "scatterpolargl": [
           {
            "marker": {
             "colorbar": {
              "outlinewidth": 0,
              "ticks": ""
             }
            },
            "type": "scatterpolargl"
           }
          ],
          "scatterternary": [
           {
            "marker": {
             "colorbar": {
              "outlinewidth": 0,
              "ticks": ""
             }
            },
            "type": "scatterternary"
           }
          ],
          "surface": [
           {
            "colorbar": {
             "outlinewidth": 0,
             "ticks": ""
            },
            "colorscale": [
             [
              0,
              "#0d0887"
             ],
             [
              0.1111111111111111,
              "#46039f"
             ],
             [
              0.2222222222222222,
              "#7201a8"
             ],
             [
              0.3333333333333333,
              "#9c179e"
             ],
             [
              0.4444444444444444,
              "#bd3786"
             ],
             [
              0.5555555555555556,
              "#d8576b"
             ],
             [
              0.6666666666666666,
              "#ed7953"
             ],
             [
              0.7777777777777778,
              "#fb9f3a"
             ],
             [
              0.8888888888888888,
              "#fdca26"
             ],
             [
              1,
              "#f0f921"
             ]
            ],
            "type": "surface"
           }
          ],
          "table": [
           {
            "cells": {
             "fill": {
              "color": "#EBF0F8"
             },
             "line": {
              "color": "white"
             }
            },
            "header": {
             "fill": {
              "color": "#C8D4E3"
             },
             "line": {
              "color": "white"
             }
            },
            "type": "table"
           }
          ]
         },
         "layout": {
          "annotationdefaults": {
           "arrowcolor": "#2a3f5f",
           "arrowhead": 0,
           "arrowwidth": 1
          },
          "autotypenumbers": "strict",
          "coloraxis": {
           "colorbar": {
            "outlinewidth": 0,
            "ticks": ""
           }
          },
          "colorscale": {
           "diverging": [
            [
             0,
             "#8e0152"
            ],
            [
             0.1,
             "#c51b7d"
            ],
            [
             0.2,
             "#de77ae"
            ],
            [
             0.3,
             "#f1b6da"
            ],
            [
             0.4,
             "#fde0ef"
            ],
            [
             0.5,
             "#f7f7f7"
            ],
            [
             0.6,
             "#e6f5d0"
            ],
            [
             0.7,
             "#b8e186"
            ],
            [
             0.8,
             "#7fbc41"
            ],
            [
             0.9,
             "#4d9221"
            ],
            [
             1,
             "#276419"
            ]
           ],
           "sequential": [
            [
             0,
             "#0d0887"
            ],
            [
             0.1111111111111111,
             "#46039f"
            ],
            [
             0.2222222222222222,
             "#7201a8"
            ],
            [
             0.3333333333333333,
             "#9c179e"
            ],
            [
             0.4444444444444444,
             "#bd3786"
            ],
            [
             0.5555555555555556,
             "#d8576b"
            ],
            [
             0.6666666666666666,
             "#ed7953"
            ],
            [
             0.7777777777777778,
             "#fb9f3a"
            ],
            [
             0.8888888888888888,
             "#fdca26"
            ],
            [
             1,
             "#f0f921"
            ]
           ],
           "sequentialminus": [
            [
             0,
             "#0d0887"
            ],
            [
             0.1111111111111111,
             "#46039f"
            ],
            [
             0.2222222222222222,
             "#7201a8"
            ],
            [
             0.3333333333333333,
             "#9c179e"
            ],
            [
             0.4444444444444444,
             "#bd3786"
            ],
            [
             0.5555555555555556,
             "#d8576b"
            ],
            [
             0.6666666666666666,
             "#ed7953"
            ],
            [
             0.7777777777777778,
             "#fb9f3a"
            ],
            [
             0.8888888888888888,
             "#fdca26"
            ],
            [
             1,
             "#f0f921"
            ]
           ]
          },
          "colorway": [
           "#636efa",
           "#EF553B",
           "#00cc96",
           "#ab63fa",
           "#FFA15A",
           "#19d3f3",
           "#FF6692",
           "#B6E880",
           "#FF97FF",
           "#FECB52"
          ],
          "font": {
           "color": "#2a3f5f"
          },
          "geo": {
           "bgcolor": "white",
           "lakecolor": "white",
           "landcolor": "#E5ECF6",
           "showlakes": true,
           "showland": true,
           "subunitcolor": "white"
          },
          "hoverlabel": {
           "align": "left"
          },
          "hovermode": "closest",
          "mapbox": {
           "style": "light"
          },
          "paper_bgcolor": "white",
          "plot_bgcolor": "#E5ECF6",
          "polar": {
           "angularaxis": {
            "gridcolor": "white",
            "linecolor": "white",
            "ticks": ""
           },
           "bgcolor": "#E5ECF6",
           "radialaxis": {
            "gridcolor": "white",
            "linecolor": "white",
            "ticks": ""
           }
          },
          "scene": {
           "xaxis": {
            "backgroundcolor": "#E5ECF6",
            "gridcolor": "white",
            "gridwidth": 2,
            "linecolor": "white",
            "showbackground": true,
            "ticks": "",
            "zerolinecolor": "white"
           },
           "yaxis": {
            "backgroundcolor": "#E5ECF6",
            "gridcolor": "white",
            "gridwidth": 2,
            "linecolor": "white",
            "showbackground": true,
            "ticks": "",
            "zerolinecolor": "white"
           },
           "zaxis": {
            "backgroundcolor": "#E5ECF6",
            "gridcolor": "white",
            "gridwidth": 2,
            "linecolor": "white",
            "showbackground": true,
            "ticks": "",
            "zerolinecolor": "white"
           }
          },
          "shapedefaults": {
           "line": {
            "color": "#2a3f5f"
           }
          },
          "ternary": {
           "aaxis": {
            "gridcolor": "white",
            "linecolor": "white",
            "ticks": ""
           },
           "baxis": {
            "gridcolor": "white",
            "linecolor": "white",
            "ticks": ""
           },
           "bgcolor": "#E5ECF6",
           "caxis": {
            "gridcolor": "white",
            "linecolor": "white",
            "ticks": ""
           }
          },
          "title": {
           "x": 0.05
          },
          "xaxis": {
           "automargin": true,
           "gridcolor": "white",
           "linecolor": "white",
           "ticks": "",
           "title": {
            "standoff": 15
           },
           "zerolinecolor": "white",
           "zerolinewidth": 2
          },
          "yaxis": {
           "automargin": true,
           "gridcolor": "white",
           "linecolor": "white",
           "ticks": "",
           "title": {
            "standoff": 15
           },
           "zerolinecolor": "white",
           "zerolinewidth": 2
          }
         }
        },
        "title": {
         "text": "Distribution of Wins Among Drivers"
        }
       }
      },
      "text/html": [
       "<div>                            <div id=\"78f6941f-9af8-4092-823f-289ae22aeb63\" class=\"plotly-graph-div\" style=\"height:525px; width:100%;\"></div>            <script type=\"text/javascript\">                require([\"plotly\"], function(Plotly) {                    window.PLOTLYENV=window.PLOTLYENV || {};                                    if (document.getElementById(\"78f6941f-9af8-4092-823f-289ae22aeb63\")) {                    Plotly.newPlot(                        \"78f6941f-9af8-4092-823f-289ae22aeb63\",                        [{\"domain\": {\"x\": [0.0, 1.0], \"y\": [0.0, 1.0]}, \"hovertemplate\": \"Driver=%{label}<br>Wins=%{value}<extra></extra>\", \"labels\": [\"Lewis  Hamilton \", \"Michael  Schumacher \", \"Juan Manuel  Fangio \", \"Max  Verstappen \", \"Alain  Prost \", \"Sebastian  Vettel \", \"Nelson  Piquet \", \"Niki  Lauda \", \"Jackie  Stewart \", \"Ayrton  Senna \", \"Jack  Brabham \"], \"legendgroup\": \"\", \"name\": \"\", \"showlegend\": true, \"type\": \"pie\", \"values\": [7, 7, 5, 4, 4, 4, 3, 3, 3, 3, 3]}],                        {\"legend\": {\"tracegroupgap\": 0}, \"piecolorway\": [\"darkslateblue\", \"steelblue\", \"lavender\"], \"template\": {\"data\": {\"bar\": [{\"error_x\": {\"color\": \"#2a3f5f\"}, \"error_y\": {\"color\": \"#2a3f5f\"}, \"marker\": {\"line\": {\"color\": \"#E5ECF6\", \"width\": 0.5}}, \"type\": \"bar\"}], \"barpolar\": [{\"marker\": {\"line\": {\"color\": \"#E5ECF6\", \"width\": 0.5}}, \"type\": \"barpolar\"}], \"carpet\": [{\"aaxis\": {\"endlinecolor\": \"#2a3f5f\", \"gridcolor\": \"white\", \"linecolor\": \"white\", \"minorgridcolor\": \"white\", \"startlinecolor\": \"#2a3f5f\"}, \"baxis\": {\"endlinecolor\": \"#2a3f5f\", \"gridcolor\": \"white\", \"linecolor\": \"white\", \"minorgridcolor\": \"white\", \"startlinecolor\": \"#2a3f5f\"}, \"type\": \"carpet\"}], \"choropleth\": [{\"colorbar\": {\"outlinewidth\": 0, \"ticks\": \"\"}, \"type\": \"choropleth\"}], \"contour\": [{\"colorbar\": {\"outlinewidth\": 0, \"ticks\": \"\"}, \"colorscale\": [[0.0, \"#0d0887\"], [0.1111111111111111, \"#46039f\"], [0.2222222222222222, \"#7201a8\"], [0.3333333333333333, \"#9c179e\"], [0.4444444444444444, \"#bd3786\"], [0.5555555555555556, \"#d8576b\"], [0.6666666666666666, \"#ed7953\"], [0.7777777777777778, \"#fb9f3a\"], [0.8888888888888888, \"#fdca26\"], [1.0, \"#f0f921\"]], \"type\": \"contour\"}], \"contourcarpet\": [{\"colorbar\": {\"outlinewidth\": 0, \"ticks\": \"\"}, \"type\": \"contourcarpet\"}], \"heatmap\": [{\"colorbar\": {\"outlinewidth\": 0, \"ticks\": \"\"}, \"colorscale\": [[0.0, \"#0d0887\"], [0.1111111111111111, \"#46039f\"], [0.2222222222222222, \"#7201a8\"], [0.3333333333333333, \"#9c179e\"], [0.4444444444444444, \"#bd3786\"], [0.5555555555555556, \"#d8576b\"], [0.6666666666666666, \"#ed7953\"], [0.7777777777777778, \"#fb9f3a\"], [0.8888888888888888, \"#fdca26\"], [1.0, \"#f0f921\"]], \"type\": \"heatmap\"}], \"heatmapgl\": [{\"colorbar\": {\"outlinewidth\": 0, \"ticks\": \"\"}, \"colorscale\": [[0.0, \"#0d0887\"], [0.1111111111111111, \"#46039f\"], [0.2222222222222222, \"#7201a8\"], [0.3333333333333333, \"#9c179e\"], [0.4444444444444444, \"#bd3786\"], [0.5555555555555556, \"#d8576b\"], [0.6666666666666666, \"#ed7953\"], [0.7777777777777778, \"#fb9f3a\"], [0.8888888888888888, \"#fdca26\"], [1.0, \"#f0f921\"]], \"type\": \"heatmapgl\"}], \"histogram\": [{\"marker\": {\"colorbar\": {\"outlinewidth\": 0, \"ticks\": \"\"}}, \"type\": \"histogram\"}], \"histogram2d\": [{\"colorbar\": {\"outlinewidth\": 0, \"ticks\": \"\"}, \"colorscale\": [[0.0, \"#0d0887\"], [0.1111111111111111, \"#46039f\"], [0.2222222222222222, \"#7201a8\"], [0.3333333333333333, \"#9c179e\"], [0.4444444444444444, \"#bd3786\"], [0.5555555555555556, \"#d8576b\"], [0.6666666666666666, \"#ed7953\"], [0.7777777777777778, \"#fb9f3a\"], [0.8888888888888888, \"#fdca26\"], [1.0, \"#f0f921\"]], \"type\": \"histogram2d\"}], \"histogram2dcontour\": [{\"colorbar\": {\"outlinewidth\": 0, \"ticks\": \"\"}, \"colorscale\": [[0.0, \"#0d0887\"], [0.1111111111111111, \"#46039f\"], [0.2222222222222222, \"#7201a8\"], [0.3333333333333333, \"#9c179e\"], [0.4444444444444444, \"#bd3786\"], [0.5555555555555556, \"#d8576b\"], [0.6666666666666666, \"#ed7953\"], [0.7777777777777778, \"#fb9f3a\"], [0.8888888888888888, \"#fdca26\"], [1.0, \"#f0f921\"]], \"type\": \"histogram2dcontour\"}], \"mesh3d\": [{\"colorbar\": {\"outlinewidth\": 0, \"ticks\": \"\"}, \"type\": \"mesh3d\"}], \"parcoords\": [{\"line\": {\"colorbar\": {\"outlinewidth\": 0, \"ticks\": \"\"}}, \"type\": \"parcoords\"}], \"pie\": [{\"automargin\": true, \"type\": \"pie\"}], \"scatter\": [{\"marker\": {\"colorbar\": {\"outlinewidth\": 0, \"ticks\": \"\"}}, \"type\": \"scatter\"}], \"scatter3d\": [{\"line\": {\"colorbar\": {\"outlinewidth\": 0, \"ticks\": \"\"}}, \"marker\": {\"colorbar\": {\"outlinewidth\": 0, \"ticks\": \"\"}}, \"type\": \"scatter3d\"}], \"scattercarpet\": [{\"marker\": {\"colorbar\": {\"outlinewidth\": 0, \"ticks\": \"\"}}, \"type\": \"scattercarpet\"}], \"scattergeo\": [{\"marker\": {\"colorbar\": {\"outlinewidth\": 0, \"ticks\": \"\"}}, \"type\": \"scattergeo\"}], \"scattergl\": [{\"marker\": {\"colorbar\": {\"outlinewidth\": 0, \"ticks\": \"\"}}, \"type\": \"scattergl\"}], \"scattermapbox\": [{\"marker\": {\"colorbar\": {\"outlinewidth\": 0, \"ticks\": \"\"}}, \"type\": \"scattermapbox\"}], \"scatterpolar\": [{\"marker\": {\"colorbar\": {\"outlinewidth\": 0, \"ticks\": \"\"}}, \"type\": \"scatterpolar\"}], \"scatterpolargl\": [{\"marker\": {\"colorbar\": {\"outlinewidth\": 0, \"ticks\": \"\"}}, \"type\": \"scatterpolargl\"}], \"scatterternary\": [{\"marker\": {\"colorbar\": {\"outlinewidth\": 0, \"ticks\": \"\"}}, \"type\": \"scatterternary\"}], \"surface\": [{\"colorbar\": {\"outlinewidth\": 0, \"ticks\": \"\"}, \"colorscale\": [[0.0, \"#0d0887\"], [0.1111111111111111, \"#46039f\"], [0.2222222222222222, \"#7201a8\"], [0.3333333333333333, \"#9c179e\"], [0.4444444444444444, \"#bd3786\"], [0.5555555555555556, \"#d8576b\"], [0.6666666666666666, \"#ed7953\"], [0.7777777777777778, \"#fb9f3a\"], [0.8888888888888888, \"#fdca26\"], [1.0, \"#f0f921\"]], \"type\": \"surface\"}], \"table\": [{\"cells\": {\"fill\": {\"color\": \"#EBF0F8\"}, \"line\": {\"color\": \"white\"}}, \"header\": {\"fill\": {\"color\": \"#C8D4E3\"}, \"line\": {\"color\": \"white\"}}, \"type\": \"table\"}]}, \"layout\": {\"annotationdefaults\": {\"arrowcolor\": \"#2a3f5f\", \"arrowhead\": 0, \"arrowwidth\": 1}, \"autotypenumbers\": \"strict\", \"coloraxis\": {\"colorbar\": {\"outlinewidth\": 0, \"ticks\": \"\"}}, \"colorscale\": {\"diverging\": [[0, \"#8e0152\"], [0.1, \"#c51b7d\"], [0.2, \"#de77ae\"], [0.3, \"#f1b6da\"], [0.4, \"#fde0ef\"], [0.5, \"#f7f7f7\"], [0.6, \"#e6f5d0\"], [0.7, \"#b8e186\"], [0.8, \"#7fbc41\"], [0.9, \"#4d9221\"], [1, \"#276419\"]], \"sequential\": [[0.0, \"#0d0887\"], [0.1111111111111111, \"#46039f\"], [0.2222222222222222, \"#7201a8\"], [0.3333333333333333, \"#9c179e\"], [0.4444444444444444, \"#bd3786\"], [0.5555555555555556, \"#d8576b\"], [0.6666666666666666, \"#ed7953\"], [0.7777777777777778, \"#fb9f3a\"], [0.8888888888888888, \"#fdca26\"], [1.0, \"#f0f921\"]], \"sequentialminus\": [[0.0, \"#0d0887\"], [0.1111111111111111, \"#46039f\"], [0.2222222222222222, \"#7201a8\"], [0.3333333333333333, \"#9c179e\"], [0.4444444444444444, \"#bd3786\"], [0.5555555555555556, \"#d8576b\"], [0.6666666666666666, \"#ed7953\"], [0.7777777777777778, \"#fb9f3a\"], [0.8888888888888888, \"#fdca26\"], [1.0, \"#f0f921\"]]}, \"colorway\": [\"#636efa\", \"#EF553B\", \"#00cc96\", \"#ab63fa\", \"#FFA15A\", \"#19d3f3\", \"#FF6692\", \"#B6E880\", \"#FF97FF\", \"#FECB52\"], \"font\": {\"color\": \"#2a3f5f\"}, \"geo\": {\"bgcolor\": \"white\", \"lakecolor\": \"white\", \"landcolor\": \"#E5ECF6\", \"showlakes\": true, \"showland\": true, \"subunitcolor\": \"white\"}, \"hoverlabel\": {\"align\": \"left\"}, \"hovermode\": \"closest\", \"mapbox\": {\"style\": \"light\"}, \"paper_bgcolor\": \"white\", \"plot_bgcolor\": \"#E5ECF6\", \"polar\": {\"angularaxis\": {\"gridcolor\": \"white\", \"linecolor\": \"white\", \"ticks\": \"\"}, \"bgcolor\": \"#E5ECF6\", \"radialaxis\": {\"gridcolor\": \"white\", \"linecolor\": \"white\", \"ticks\": \"\"}}, \"scene\": {\"xaxis\": {\"backgroundcolor\": \"#E5ECF6\", \"gridcolor\": \"white\", \"gridwidth\": 2, \"linecolor\": \"white\", \"showbackground\": true, \"ticks\": \"\", \"zerolinecolor\": \"white\"}, \"yaxis\": {\"backgroundcolor\": \"#E5ECF6\", \"gridcolor\": \"white\", \"gridwidth\": 2, \"linecolor\": \"white\", \"showbackground\": true, \"ticks\": \"\", \"zerolinecolor\": \"white\"}, \"zaxis\": {\"backgroundcolor\": \"#E5ECF6\", \"gridcolor\": \"white\", \"gridwidth\": 2, \"linecolor\": \"white\", \"showbackground\": true, \"ticks\": \"\", \"zerolinecolor\": \"white\"}}, \"shapedefaults\": {\"line\": {\"color\": \"#2a3f5f\"}}, \"ternary\": {\"aaxis\": {\"gridcolor\": \"white\", \"linecolor\": \"white\", \"ticks\": \"\"}, \"baxis\": {\"gridcolor\": \"white\", \"linecolor\": \"white\", \"ticks\": \"\"}, \"bgcolor\": \"#E5ECF6\", \"caxis\": {\"gridcolor\": \"white\", \"linecolor\": \"white\", \"ticks\": \"\"}}, \"title\": {\"x\": 0.05}, \"xaxis\": {\"automargin\": true, \"gridcolor\": \"white\", \"linecolor\": \"white\", \"ticks\": \"\", \"title\": {\"standoff\": 15}, \"zerolinecolor\": \"white\", \"zerolinewidth\": 2}, \"yaxis\": {\"automargin\": true, \"gridcolor\": \"white\", \"linecolor\": \"white\", \"ticks\": \"\", \"title\": {\"standoff\": 15}, \"zerolinecolor\": \"white\", \"zerolinewidth\": 2}}}, \"title\": {\"text\": \"Distribution of Wins Among Drivers\"}},                        {\"responsive\": true}                    ).then(function(){\n",
       "                            \n",
       "var gd = document.getElementById('78f6941f-9af8-4092-823f-289ae22aeb63');\n",
       "var x = new MutationObserver(function (mutations, observer) {{\n",
       "        var display = window.getComputedStyle(gd).display;\n",
       "        if (!display || display === 'none') {{\n",
       "            console.log([gd, 'removed!']);\n",
       "            Plotly.purge(gd);\n",
       "            observer.disconnect();\n",
       "        }}\n",
       "}});\n",
       "\n",
       "// Listen for the removal of the full notebook cells\n",
       "var notebookContainer = gd.closest('#notebook-container');\n",
       "if (notebookContainer) {{\n",
       "    x.observe(notebookContainer, {childList: true});\n",
       "}}\n",
       "\n",
       "// Listen for the clearing of the current output cell\n",
       "var outputEl = gd.closest('.output');\n",
       "if (outputEl) {{\n",
       "    x.observe(outputEl, {childList: true});\n",
       "}}\n",
       "\n",
       "                        })                };                });            </script>        </div>"
      ]
     },
     "metadata": {},
     "output_type": "display_data"
    }
   ],
   "source": [
    "palette = ['darkslateblue', 'steelblue', 'lavender']\n",
    "fig_pie = px.pie(winner_counts, values='Wins', names='Driver', title='Distribution of Wins Among Drivers', \n",
    "                 color_discrete_sequence=palette)\n",
    "fig_pie.show()"
   ]
  }
 ],
 "metadata": {
  "kernelspec": {
   "display_name": "Python 3 (ipykernel)",
   "language": "python",
   "name": "python3"
  },
  "language_info": {
   "codemirror_mode": {
    "name": "ipython",
    "version": 3
   },
   "file_extension": ".py",
   "mimetype": "text/x-python",
   "name": "python",
   "nbconvert_exporter": "python",
   "pygments_lexer": "ipython3",
   "version": "3.9.13"
  }
 },
 "nbformat": 4,
 "nbformat_minor": 5
}
